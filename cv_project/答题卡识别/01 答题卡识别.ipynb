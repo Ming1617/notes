{
 "cells": [
  {
   "cell_type": "code",
   "execution_count": 307,
   "metadata": {},
   "outputs": [],
   "source": [
    "import numpy as np\n",
    "import cv2 as cv"
   ]
  },
  {
   "cell_type": "code",
   "execution_count": 308,
   "metadata": {},
   "outputs": [],
   "source": [
    "def cv_show(name,img):\n",
    "    cv.imshow(name, img)\n",
    "    cv.waitKey(0)\n",
    "    cv.destroyAllWindows()"
   ]
  },
  {
   "cell_type": "code",
   "execution_count": 309,
   "metadata": {},
   "outputs": [],
   "source": [
    "# 正确答案\n",
    "ANSWER_KEY = {0: 1,1: 2, 2: 0, 3: 2, 4: 3}"
   ]
  },
  {
   "cell_type": "code",
   "execution_count": 310,
   "metadata": {},
   "outputs": [],
   "source": [
    "#读入图片并查看\n",
    "image = cv.imread('image.png')\n",
    "cv_show('image', image)"
   ]
  },
  {
   "cell_type": "code",
   "execution_count": 311,
   "metadata": {},
   "outputs": [],
   "source": [
    "#高斯滤波\n",
    "gray = cv.cvtColor(image, cv.COLOR_BGR2GRAY)\n",
    "blurred = cv.GaussianBlur(gray, (5, 5), 0)\n",
    "cv_show('blurred', blurred)"
   ]
  },
  {
   "cell_type": "code",
   "execution_count": 312,
   "metadata": {},
   "outputs": [],
   "source": [
    "#边缘检测\n",
    "edged = cv.Canny(blurred, 75, 200)\n",
    "cv_show('edged', edged)"
   ]
  },
  {
   "cell_type": "code",
   "execution_count": 313,
   "metadata": {},
   "outputs": [
    {
     "name": "stdout",
     "output_type": "stream",
     "text": [
      "(21,)\n"
     ]
    },
    {
     "name": "stderr",
     "output_type": "stream",
     "text": [
      "C:\\py\\lib\\site-packages\\ipykernel_launcher.py:6: VisibleDeprecationWarning: Creating an ndarray from ragged nested sequences (which is a list-or-tuple of lists-or-tuples-or ndarrays with different lengths or shapes) is deprecated. If you meant to do this, you must specify 'dtype=object' when creating the ndarray.\n",
      "  \n"
     ]
    }
   ],
   "source": [
    "#轮廓检测，检测出外轮廓\n",
    "cnts = cv.findContours(edged.copy(), cv.RETR_EXTERNAL, cv.CHAIN_APPROX_SIMPLE)[1]\n",
    "contours_img = image.copy()\n",
    "cv.drawContours(contours_img, cnts, -1, [0, 0, 255], 3)\n",
    "cv_show('contours_img',contours_img)\n",
    "print(np.array(cnts).shape)"
   ]
  },
  {
   "cell_type": "code",
   "execution_count": 314,
   "metadata": {},
   "outputs": [],
   "source": [
    "#通过比较轮廓周长、面积的方式筛选出最外围的轮廓\n",
    "cnts = sorted(cnts, key=cv.contourArea, reverse=True)"
   ]
  },
  {
   "cell_type": "code",
   "execution_count": 315,
   "metadata": {},
   "outputs": [
    {
     "name": "stdout",
     "output_type": "stream",
     "text": [
      "[[[131 206]]\n",
      "\n",
      " [[119 617]]\n",
      "\n",
      " [[448 614]]\n",
      "\n",
      " [[430 208]]]\n"
     ]
    }
   ],
   "source": [
    "#进行透视变换只需要4个点（左上，右上，右下，左下）的位置即可完成，故需要找到此外轮廓的近似多边形的坐标。\n",
    "peri = cv.arcLength(cnts[0], True)\n",
    "approx = cv.approxPolyDP(cnts[0], 0.02 * peri, True)\n",
    "print(approx)"
   ]
  },
  {
   "cell_type": "code",
   "execution_count": 316,
   "metadata": {},
   "outputs": [],
   "source": [
    "#将得到的点坐标按照左上，右上，右下，左下排序\n",
    "#为了使现在得到的点与投射完成后的点的位置一一对应，在这里要先将这些点按一定顺序排列。\n",
    "pts = approx.reshape(4, 2)\n",
    "rect = np.zeros((4, 2), dtype=np.float32)\n",
    "s = np.sum(pts, axis=1)\n",
    "rect[0] = pts[np.argmin(s)]\n",
    "rect[2] = pts[np.argmax(s)]\n",
    "diff = np.diff(pts, axis=1)\n",
    "rect[1] = pts[np.argmin(diff)]\n",
    "rect[3] = pts[np.argmax(diff)]"
   ]
  },
  {
   "cell_type": "code",
   "execution_count": 317,
   "metadata": {},
   "outputs": [],
   "source": [
    "#获取变换后对应坐标位置\n",
    "# 变换后，图像的长和宽应该变为：\n",
    "# 长 = max（变换前左边长，变换前右边长）\n",
    "# 宽 = max（变换前上边长，变换前下边长）\n",
    "# 设变换后图像的左上角位置为原点位置。\n",
    "# 获取坐标点\n",
    "tl, tr, br, bl = rect\n",
    "# 计算输入的w和h值\n",
    "widthA = np.sqrt(((br[0]-bl[0]) ** 2) + ((br[1]-bl[1]) ** 2))\n",
    "widthB = np.sqrt(((tr[0]-tl[0]) ** 2) + ((tr[1]-tl[1]) ** 2))\n",
    "maxWidth = max(int(widthA), int(widthB))\n",
    "\n",
    "heightA = np.sqrt(((tr[0] - br[0]) ** 2) + ((tr[1] - br[1]) ** 2))\n",
    "heightB = np.sqrt(((tl[0] - bl[0]) ** 2) + ((tl[1] - bl[1]) ** 2))\n",
    "maxHeight = max(int(heightA), int(heightB))\n",
    "# 变换后对应坐标位置\n",
    "dst = np.array([[0, 0],\n",
    "               [maxWidth-1, 0],\n",
    "               [maxWidth-1, maxHeight-1],\n",
    "               [0, maxHeight-1]], dtype=np.float32)"
   ]
  },
  {
   "cell_type": "code",
   "execution_count": 318,
   "metadata": {},
   "outputs": [],
   "source": [
    "#计算变换矩阵并做透视变换\n",
    "H = cv.getPerspectiveTransform(rect, dst)\n",
    "warped = cv.warpPerspective(gray, H, (maxWidth, maxHeight))\n",
    "cv_show('warped',warped)"
   ]
  },
  {
   "cell_type": "code",
   "execution_count": 319,
   "metadata": {},
   "outputs": [],
   "source": [
    "#二值化\n",
    "thresh = cv.threshold(warped, 0, 255, cv.THRESH_BINARY_INV|cv.THRESH_OTSU)[1]\n",
    "cv_show('thresh',thresh)"
   ]
  },
  {
   "cell_type": "code",
   "execution_count": 320,
   "metadata": {},
   "outputs": [
    {
     "name": "stdout",
     "output_type": "stream",
     "text": [
      "82\n"
     ]
    }
   ],
   "source": [
    "#找到轮廓并将它们涂黑\n",
    "thresh_Contours = thresh.copy()\n",
    "cnts = cv.findContours(thresh_Contours, cv.RETR_EXTERNAL, cv.CHAIN_APPROX_SIMPLE)[1]\n",
    "print(len(cnts))\n",
    "cv.drawContours(thresh_Contours, cnts, -1, (0, 0, 0), 3)\n",
    "cv_show('thresh_Contours',thresh_Contours)"
   ]
  },
  {
   "cell_type": "code",
   "execution_count": 321,
   "metadata": {},
   "outputs": [],
   "source": [
    "# 找到包含选项的25个圆形轮廓\n",
    "# 先找出所有轮廓的近似矩形。\n",
    "# 计算矩形的长和宽，按照一定标准进行筛选。\n",
    "questionCnts = []\n",
    "# 遍历\n",
    "for c in cnts:\n",
    "    # 计算比例和大小\n",
    "    (x, y, w, h) = cv.boundingRect(c)\n",
    "    ar = w / float(h)\n",
    "\n",
    "    # 根据实际情况制定标准\n",
    "    if w >= 20 and h >= 20 and ar >= 0.9 and ar <= 1.1:\n",
    "        questionCnts.append(c)"
   ]
  },
  {
   "cell_type": "code",
   "execution_count": 322,
   "metadata": {},
   "outputs": [],
   "source": [
    "# 对25个圆形轮廓按照从上到下进行排序，划分出5组（即代表五道题）\n",
    "boundingBoxes = [cv.boundingRect(c) for c in questionCnts]\n",
    "(questionCnts, boundingBoxes) = zip(*sorted(zip(questionCnts, boundingBoxes), key=lambda b: b[1][1], reverse=False))\n",
    "#在这里使用的相关函数（zip、lambda等）可以参考lambda函数的用法、Python内置函数 – zip(), sorted(), filter()和map()、Python中星号变量的特殊用法。"
   ]
  },
  {
   "cell_type": "code",
   "execution_count": 323,
   "metadata": {},
   "outputs": [
    {
     "name": "stdout",
     "output_type": "stream",
     "text": [
      "25\n",
      "[INFO] score: 60.00%\n"
     ]
    }
   ],
   "source": [
    "# 对每组中的5个选项所代表的轮廓进行排序。\n",
    "# 制作一个mask来遍历每一个选项。\n",
    "# 制作一个全黑mask。\n",
    "# 用25个圆形轮廓对mask进行填充（一次只用一个轮廓）。\n",
    "# 用填充完的mask对图像进行与操作，遍历后会得到25个只包含一个选项的图像。\n",
    "# 每5组图像进行比较，由于被选的选项的白色区域更多，所以通过计算非零点数量来判断考生选择的答案。\n",
    "# 与正确答案进行对比，得出分数。\n",
    "# 每排有5个选项\n",
    "correct = 0\n",
    "print(len(questionCnts))\n",
    "warpeds=cv.cvtColor(warped.copy(),cv.COLOR_GRAY2BGR)\n",
    "for (q, i) in enumerate(np.arange(0, len(questionCnts), 5)):\n",
    "    # 排序\n",
    "    boundingBoxes = [cv.boundingRect(c) for c in questionCnts[i:i + 5]]\n",
    "    (cnts, boundingBoxes) = zip(*sorted(zip(questionCnts[i:i + 5], boundingBoxes),\n",
    "                                        key=lambda b: b[1][0], reverse=False))\n",
    "    bubbled = None\n",
    "\n",
    "    # 遍历每一个结果\n",
    "    for (j, c) in enumerate(cnts):\n",
    "        # 使用mask来判断结果\n",
    "        mask = np.zeros(thresh.shape, dtype=\"uint8\")\n",
    "        cv.drawContours(mask, [c], -1, 255, -1) #-1表示填充\n",
    "#         cv_show('mask',mask)\n",
    "        # 通过计算非零点数量来算是否选择这个答案\n",
    "        mask = cv.bitwise_and(thresh, thresh, mask=mask)\n",
    "#         cv_show('mask', mask)\n",
    "        total = cv.countNonZero(mask)\n",
    "\n",
    "        # 通过阈值判断\n",
    "        if bubbled is None or total > bubbled[0]:\n",
    "            bubbled = (total, j)\n",
    "\n",
    "    # 对比正确答案\n",
    "    color = (0, 0, 255)\n",
    "    k = ANSWER_KEY[q]\n",
    "\n",
    "    # 判断正确\n",
    "    if k == bubbled[1]:\n",
    "        color = (0, 255, 0)\n",
    "        correct += 1\n",
    "#     print(k)\n",
    "    cv.drawContours(warpeds, [cnts[k]], -1, color, 3)\n",
    "# 绘图\n",
    "score = (correct / 5.0) * 100\n",
    "print(\"[INFO] score: {:.2f}%\".format(score))\n",
    "cv.putText(warpeds, \"{:.2f}%\".format(score), (10, 30),\n",
    "    cv.FONT_HERSHEY_SIMPLEX, 0.9, (255, 0, 255), 2)\n",
    "cv.imshow(\"Original\", image)\n",
    "cv.imshow(\"Exam\", warpeds)\n",
    "cv.waitKey(0)\n",
    "cv.destroyAllWindows()    "
   ]
  },
  {
   "cell_type": "code",
   "execution_count": null,
   "metadata": {},
   "outputs": [],
   "source": []
  },
  {
   "cell_type": "code",
   "execution_count": null,
   "metadata": {},
   "outputs": [],
   "source": []
  }
 ],
 "metadata": {
  "kernelspec": {
   "display_name": "Python 3",
   "language": "python",
   "name": "python3"
  },
  "language_info": {
   "codemirror_mode": {
    "name": "ipython",
    "version": 3
   },
   "file_extension": ".py",
   "mimetype": "text/x-python",
   "name": "python",
   "nbconvert_exporter": "python",
   "pygments_lexer": "ipython3",
   "version": "3.7.4"
  }
 },
 "nbformat": 4,
 "nbformat_minor": 2
}
