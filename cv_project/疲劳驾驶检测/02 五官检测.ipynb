{
 "cells": [
  {
   "cell_type": "code",
   "execution_count": 30,
   "metadata": {},
   "outputs": [],
   "source": [
    "import numpy as np\n",
    "import cv2 "
   ]
  },
  {
   "cell_type": "code",
   "execution_count": 31,
   "metadata": {},
   "outputs": [
    {
     "data": {
      "text/plain": [
       "True"
      ]
     },
     "execution_count": 31,
     "metadata": {},
     "output_type": "execute_result"
    }
   ],
   "source": [
    "# 脸\n",
    "face_cascade = cv2.CascadeClassifier('haarcascade_frontalface_default.xml')\n",
    "face_cascade.load('haarcascade_frontalface_default.xml')\n",
    "# 眼睛\n",
    "eye_cascade = cv2.CascadeClassifier('haarcascade_eye.xml')\n",
    "eye_cascade.load('haarcascade_eye.xml')\n",
    "#嘴巴\n",
    "mouth_cascade = cv2.CascadeClassifier('haarcascade_mcs_mouth.xml')\n",
    "mouth_cascade.load('haarcascade_mcs_mouth.xml')\n",
    "#鼻子\n",
    "nose_cascade = cv2.CascadeClassifier('haarcascade_mcs_nose.xml')\n",
    "nose_cascade.load('haarcascade_mcs_nose.xml')"
   ]
  },
  {
   "cell_type": "code",
   "execution_count": 32,
   "metadata": {},
   "outputs": [],
   "source": [
    "img = cv2.imread('face.png')\n",
    "gray = cv2.cvtColor(img, cv2.COLOR_BGR2GRAY)"
   ]
  },
  {
   "cell_type": "code",
   "execution_count": 33,
   "metadata": {},
   "outputs": [],
   "source": [
    "#脸\n",
    "faces = face_cascade.detectMultiScale(gray, 1.2, 3)\n",
    "for (x, y, w, h) in faces:\n",
    "    img = cv2.rectangle(img, (x,y),(x+w, y+h), (255, 0, 0), 2)\n",
    "    roi_gray = gray[y:y+h, x:x+w]\n",
    "    roi_color = img[y:y+h, x:x+w]\n",
    "    #眼睛\n",
    "    eyes = eye_cascade.detectMultiScale(roi_gray, 1.9, 3)\n",
    "    for (ex,ey,ew,eh) in eyes:\n",
    "        cv2.rectangle(roi_color, (ex, ey),(ex+ew, ey+eh), (0, 255, 0), 2)\n",
    "    #嘴巴\n",
    "    mouth = mouth_cascade.detectMultiScale(roi_gray, 1.8,5)\n",
    "    for (mx, my, mw, mh) in mouth:\n",
    "        cv2.rectangle(roi_color, (mx, my), (mx+mw, my+mh), (0, 0, 255), 2)\n",
    "     #鼻子\n",
    "    nose = nose_cascade.detectMultiScale(roi_gray, 1.6, 5)\n",
    "    for(nx, ny, nw, nh) in nose:\n",
    "          cv2.rectangle(roi_color, (nx, ny), (nx+nw, ny+nh), (255, 0, 255), 2)"
   ]
  },
  {
   "cell_type": "code",
   "execution_count": 35,
   "metadata": {},
   "outputs": [],
   "source": [
    "cv2.imshow('img', img)\n",
    "cv2.waitKey(0)\n",
    "cv2.destroyAllWindows()"
   ]
  },
  {
   "cell_type": "code",
   "execution_count": 4,
   "metadata": {},
   "outputs": [],
   "source": [
    "#导入工具包\n",
    "from scipy.spatial import distance as dist\n",
    "from collections import OrderedDict\n",
    "import numpy as np\n",
    "import argparse\n",
    "import time\n",
    "import dlib\n",
    "import cv2"
   ]
  },
  {
   "cell_type": "code",
   "execution_count": 5,
   "metadata": {},
   "outputs": [
    {
     "name": "stdout",
     "output_type": "stream",
     "text": [
      "img_shape: (289, 514, 3)\n"
     ]
    }
   ],
   "source": [
    "img_path = 'face.png'\n",
    "img = cv2.imread(img_path)\n",
    "print('img_shape:', img.shape)\n",
    "img_rgb = cv2.cvtColor(img, cv2.COLOR_BGR2RGB)\n",
    " \n",
    "# get face\n",
    "hog_face_detector = dlib.get_frontal_face_detector()\n",
    "shape_predictor = dlib.shape_predictor('shape_predictor_68_face_landmarks.dat')\n",
    " \n",
    "rects, scores, idx = hog_face_detector.run(img_rgb, 2, 0)\n",
    "faces = dlib.full_object_detections()\n",
    "for rect in rects:\n",
    "    faces.append(shape_predictor(img_rgb, rect))\n",
    "for landmark in faces:\n",
    "    for idx, point in enumerate(landmark.parts()):\n",
    "        cv2.putText(img, str(idx), (point.x, point.y), cv2.FONT_HERSHEY_DUPLEX, 0.3, (0, 0, 255), 1, cv2.LINE_AA)"
   ]
  },
  {
   "cell_type": "code",
   "execution_count": 7,
   "metadata": {},
   "outputs": [],
   "source": [
    "cv2.imshow('img', img)\n",
    "cv2.waitKey(0)\n",
    "cv2.destroyAllWindows()"
   ]
  },
  {
   "cell_type": "code",
   "execution_count": null,
   "metadata": {},
   "outputs": [],
   "source": []
  },
  {
   "cell_type": "code",
   "execution_count": null,
   "metadata": {},
   "outputs": [],
   "source": []
  }
 ],
 "metadata": {
  "kernelspec": {
   "display_name": "Python 3",
   "language": "python",
   "name": "python3"
  },
  "language_info": {
   "codemirror_mode": {
    "name": "ipython",
    "version": 3
   },
   "file_extension": ".py",
   "mimetype": "text/x-python",
   "name": "python",
   "nbconvert_exporter": "python",
   "pygments_lexer": "ipython3",
   "version": "3.7.4"
  }
 },
 "nbformat": 4,
 "nbformat_minor": 2
}
