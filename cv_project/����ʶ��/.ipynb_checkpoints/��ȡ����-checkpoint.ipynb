{
 "cells": [
  {
   "cell_type": "code",
   "execution_count": 2,
   "metadata": {},
   "outputs": [],
   "source": [
    "import requests\n",
    "from bs4 import BeautifulSoup\n",
    "def newsArticles(newsurl):\n",
    "    result = {}\n",
    "    res = requests.get(newsurl)\n",
    "    res.encoding = 'utf-8'\n",
    "    soup = BeautifulSoup(res.text, 'html.parser')\n",
    "    if len(soup.select('.main-title')) !=0:\n",
    "        result['标题'] = soup.select('.main-title')[0].text\n",
    "    else:\n",
    "        result['标题']=' '\n",
    "#     if not(soup.select('.channel-path')[0].text[3:5] is None):\n",
    "#         result['类别']=soup.select('.channel-path')[0].text[3:5]\n",
    "#     else:\n",
    "#         result['类别']=' '\n",
    "    if not(' '.join([p.text.strip() for p in soup.select('#article p')[:-1]]) is None):\n",
    "        result['正文'] = ' '.join([p.text.strip() for p in soup.select('#article p')[:-1]])\n",
    "    else:\n",
    "        result['正文']=' '\n",
    "#     result['时间'] = soup.select('.date')[0].text\n",
    "    \n",
    "#     result['作者'] = soup.select('.show_author')[0].text.lstrip(\"责任编辑：\")\n",
    "    return result"
   ]
  },
  {
   "cell_type": "code",
   "execution_count": 23,
   "metadata": {},
   "outputs": [],
   "source": [
    "def get_news_urls(html):\n",
    "    heards = {'user-agent': 'Mozilla/5.0 (Windows NT 10.0; WOW64) AppleWebKit/537.36 (KHTML, like Gecko) Chrome/70.0.3538.25 Safari/537.36 Core/1.70.3861.400 QQBrowser/10.7.4313.400'}\n",
    "    news_urls=[]\n",
    "    import  xlwt\n",
    "    print(\"开始爬取。。。\")\n",
    "    for i in range(1,25):\n",
    "#         url='http://mil.news.sina.com.cn/roll/index.d.html?cid=57919&page='+str(i)\n",
    "        url=html+str(i)\n",
    "        if i % 30 == 0:\n",
    "            print('我还在运行，请不要关停我。。。')\n",
    "        r = requests.get(url,headers=heards)\n",
    "        r.encoding = r.apparent_encoding\n",
    "    #     print(r.status_code)#状态码 ‘200’表示正常访问\n",
    "        soup = BeautifulSoup(r.text, 'html.parser')\n",
    "        for news in soup.select('.linkNews'):\n",
    "            for j in range(5):\n",
    "    #             print(news.select('a')[j]['href'])\n",
    "                news_urls.append(news.select('a')[j]['href'])\n",
    "    return news_urls"
   ]
  },
  {
   "cell_type": "code",
   "execution_count": 24,
   "metadata": {},
   "outputs": [],
   "source": [
    "def save_xls(path,worksheet,news_urls,s):\n",
    "    print('正在保存数据请稍后。。。')\n",
    "    for news_url in news_urls:\n",
    "    #     print('正在保存第'+str(s)+'条新闻')\n",
    "    #     print(newsArticles(news_url)['标题'])\n",
    "#         print(s)\n",
    "        worksheet.write(s,0,newsArticles(news_url)['正文'])  \n",
    "        worksheet.write(s,1,'军事')\n",
    "        worksheet.write(s,2,newsArticles(news_url)['标题'])\n",
    "        workbook.save(path)\n",
    "        if s % 100 ==0 :\n",
    "            print('已保存'+str(s)+'条新闻')\n",
    "        s=s+1\n",
    "    print('总共保存'+str(s-1)+'条新闻')\n",
    "    print('爬取完毕')\n",
    "    return s"
   ]
  },
  {
   "cell_type": "code",
   "execution_count": 25,
   "metadata": {},
   "outputs": [
    {
     "name": "stdout",
     "output_type": "stream",
     "text": [
      "开始爬取。。。\n",
      "正在保存数据请稍后。。。\n",
      "已保存100条新闻\n",
      "已保存200条新闻\n",
      "已保存300条新闻\n",
      "已保存400条新闻\n",
      "已保存500条新闻\n",
      "已保存600条新闻\n",
      "已保存700条新闻\n",
      "已保存800条新闻\n",
      "已保存900条新闻\n",
      "总共保存960条新闻\n",
      "爬取完毕\n",
      "开始爬取。。。\n",
      "正在保存数据请稍后。。。\n",
      "已保存1000条新闻\n",
      "已保存1100条新闻\n",
      "已保存1200条新闻\n",
      "已保存1300条新闻\n",
      "已保存1400条新闻\n",
      "已保存1500条新闻\n",
      "已保存1600条新闻\n",
      "已保存1700条新闻\n",
      "已保存1800条新闻\n",
      "已保存1900条新闻\n",
      "总共保存1920条新闻\n",
      "爬取完毕\n"
     ]
    }
   ],
   "source": [
    "import xlwt  \n",
    "path='./new_data/train_3.xls'\n",
    "s=1\n",
    "htmls=['http://mil.news.sina.com.cn/roll/index.d.html?cid=57918&page=','http://mil.news.sina.com.cn/roll/index.d.html?cid=57919&page=']\n",
    "workbook=xlwt.Workbook(encoding='utf-8')  #创建workbook对象\n",
    "worksheet=workbook.add_sheet('军事')    #创建工作表\n",
    "worksheet.write(0,0,'content')  \n",
    "worksheet.write(0,1,'channelName')  \n",
    "worksheet.write(0,2,'title') \n",
    "for html in htmls:\n",
    "    news_urls=get_news_urls(html)\n",
    "    s=save_xls(path,worksheet,news_urls,s)"
   ]
  },
  {
   "cell_type": "code",
   "execution_count": null,
   "metadata": {},
   "outputs": [],
   "source": []
  },
  {
   "cell_type": "code",
   "execution_count": null,
   "metadata": {},
   "outputs": [],
   "source": []
  },
  {
   "cell_type": "code",
   "execution_count": null,
   "metadata": {},
   "outputs": [],
   "source": []
  },
  {
   "cell_type": "code",
   "execution_count": null,
   "metadata": {},
   "outputs": [],
   "source": []
  },
  {
   "cell_type": "code",
   "execution_count": null,
   "metadata": {},
   "outputs": [],
   "source": []
  },
  {
   "cell_type": "code",
   "execution_count": null,
   "metadata": {},
   "outputs": [],
   "source": []
  },
  {
   "cell_type": "code",
   "execution_count": null,
   "metadata": {},
   "outputs": [],
   "source": []
  },
  {
   "cell_type": "code",
   "execution_count": 3,
   "metadata": {},
   "outputs": [],
   "source": []
  },
  {
   "cell_type": "code",
   "execution_count": null,
   "metadata": {},
   "outputs": [],
   "source": []
  },
  {
   "cell_type": "code",
   "execution_count": null,
   "metadata": {},
   "outputs": [],
   "source": []
  },
  {
   "cell_type": "code",
   "execution_count": null,
   "metadata": {},
   "outputs": [],
   "source": []
  },
  {
   "cell_type": "code",
   "execution_count": null,
   "metadata": {},
   "outputs": [],
   "source": []
  },
  {
   "cell_type": "code",
   "execution_count": null,
   "metadata": {},
   "outputs": [],
   "source": []
  },
  {
   "cell_type": "code",
   "execution_count": 4,
   "metadata": {},
   "outputs": [],
   "source": []
  },
  {
   "cell_type": "code",
   "execution_count": null,
   "metadata": {},
   "outputs": [],
   "source": []
  },
  {
   "cell_type": "code",
   "execution_count": null,
   "metadata": {},
   "outputs": [],
   "source": []
  },
  {
   "cell_type": "code",
   "execution_count": null,
   "metadata": {},
   "outputs": [],
   "source": []
  },
  {
   "cell_type": "code",
   "execution_count": null,
   "metadata": {},
   "outputs": [],
   "source": []
  },
  {
   "cell_type": "code",
   "execution_count": null,
   "metadata": {},
   "outputs": [],
   "source": []
  },
  {
   "cell_type": "code",
   "execution_count": null,
   "metadata": {},
   "outputs": [],
   "source": []
  },
  {
   "cell_type": "code",
   "execution_count": null,
   "metadata": {},
   "outputs": [],
   "source": []
  }
 ],
 "metadata": {
  "kernelspec": {
   "display_name": "Python 3",
   "language": "python",
   "name": "python3"
  },
  "language_info": {
   "codemirror_mode": {
    "name": "ipython",
    "version": 3
   },
   "file_extension": ".py",
   "mimetype": "text/x-python",
   "name": "python",
   "nbconvert_exporter": "python",
   "pygments_lexer": "ipython3",
   "version": "3.7.4"
  }
 },
 "nbformat": 4,
 "nbformat_minor": 2
}
