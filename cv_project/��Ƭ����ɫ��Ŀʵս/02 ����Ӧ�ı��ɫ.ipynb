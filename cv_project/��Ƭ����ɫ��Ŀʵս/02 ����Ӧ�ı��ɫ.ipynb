{
 "cells": [
  {
   "cell_type": "code",
   "execution_count": 169,
   "metadata": {},
   "outputs": [],
   "source": [
    "import cv2\n",
    "import numpy as np"
   ]
  },
  {
   "cell_type": "code",
   "execution_count": 170,
   "metadata": {},
   "outputs": [],
   "source": [
    "# 读取照片并显示\n",
    "image=cv2.imread('img1.jpg')\n",
    "cv2.imshow('image',image)\n",
    "cv2.waitKey(0)\n",
    "cv2.destroyAllWindows()"
   ]
  },
  {
   "cell_type": "code",
   "execution_count": 171,
   "metadata": {},
   "outputs": [
    {
     "name": "stdout",
     "output_type": "stream",
     "text": [
      "242 172 3\n"
     ]
    }
   ],
   "source": [
    "img = cv2.resize(image,None,fx=0.5,fy=0.5)\n",
    "rows,cols,channels = img.shape\n",
    "print(rows,cols,channels)\n",
    "cv2.imshow('img',img)\n",
    "cv2.waitKey(0)\n",
    "cv2.destroyAllWindows()"
   ]
  },
  {
   "cell_type": "code",
   "execution_count": 172,
   "metadata": {},
   "outputs": [],
   "source": [
    "hsv = cv2.cvtColor(img,cv2.COLOR_BGR2HSV)\n",
    "cv2.imshow('hsv',hsv)\n",
    "cv2.waitKey(0)\n",
    "cv2.destroyAllWindows()"
   ]
  },
  {
   "cell_type": "code",
   "execution_count": 173,
   "metadata": {},
   "outputs": [],
   "source": [
    "hsv_s=hsv[10:20,10:20]\n",
    "cv2.imshow('hsv_s',hsv_s)\n",
    "cv2.imshow('hsv',hsv)\n",
    "cv2.waitKey(0)\n",
    "cv2.destroyAllWindows()"
   ]
  },
  {
   "cell_type": "code",
   "execution_count": 174,
   "metadata": {},
   "outputs": [
    {
     "name": "stdout",
     "output_type": "stream",
     "text": [
      "10\n"
     ]
    }
   ],
   "source": [
    "print(len(hsv_s[0]))"
   ]
  },
  {
   "cell_type": "code",
   "execution_count": 175,
   "metadata": {},
   "outputs": [
    {
     "name": "stdout",
     "output_type": "stream",
     "text": [
      "[[[102 254 189]\n",
      "  [102 254 189]\n",
      "  [102 252 190]\n",
      "  [102 252 190]\n",
      "  [102 252 190]\n",
      "  [102 252 190]\n",
      "  [102 252 190]\n",
      "  [102 252 190]\n",
      "  [102 252 190]\n",
      "  [102 254 189]]\n",
      "\n",
      " [[102 254 189]\n",
      "  [102 254 189]\n",
      "  [102 254 189]\n",
      "  [102 252 190]\n",
      "  [102 252 190]\n",
      "  [102 251 191]\n",
      "  [102 252 190]\n",
      "  [102 252 190]\n",
      "  [102 252 190]\n",
      "  [102 252 190]]\n",
      "\n",
      " [[102 254 190]\n",
      "  [102 254 190]\n",
      "  [102 252 191]\n",
      "  [102 254 190]\n",
      "  [102 254 190]\n",
      "  [102 254 190]\n",
      "  [102 254 190]\n",
      "  [102 254 190]\n",
      "  [102 254 190]\n",
      "  [102 254 190]]\n",
      "\n",
      " [[102 252 191]\n",
      "  [102 252 191]\n",
      "  [102 252 191]\n",
      "  [102 254 190]\n",
      "  [102 254 190]\n",
      "  [102 254 190]\n",
      "  [102 254 190]\n",
      "  [102 254 190]\n",
      "  [102 254 190]\n",
      "  [102 254 190]]\n",
      "\n",
      " [[102 252 191]\n",
      "  [102 252 191]\n",
      "  [102 252 191]\n",
      "  [102 254 190]\n",
      "  [102 254 190]\n",
      "  [102 254 190]\n",
      "  [102 254 190]\n",
      "  [102 254 190]\n",
      "  [102 254 190]\n",
      "  [102 254 190]]\n",
      "\n",
      " [[102 252 191]\n",
      "  [102 252 191]\n",
      "  [102 252 191]\n",
      "  [102 254 190]\n",
      "  [102 254 190]\n",
      "  [102 254 190]\n",
      "  [102 254 190]\n",
      "  [102 254 190]\n",
      "  [102 254 190]\n",
      "  [102 254 190]]\n",
      "\n",
      " [[102 252 191]\n",
      "  [102 252 191]\n",
      "  [102 252 191]\n",
      "  [102 252 191]\n",
      "  [102 252 191]\n",
      "  [102 252 191]\n",
      "  [102 252 191]\n",
      "  [102 252 191]\n",
      "  [102 252 191]\n",
      "  [102 252 191]]\n",
      "\n",
      " [[102 252 191]\n",
      "  [102 252 191]\n",
      "  [102 252 191]\n",
      "  [102 252 191]\n",
      "  [102 252 191]\n",
      "  [102 252 191]\n",
      "  [102 252 191]\n",
      "  [102 252 191]\n",
      "  [102 252 191]\n",
      "  [102 252 191]]\n",
      "\n",
      " [[102 251 190]\n",
      "  [102 251 190]\n",
      "  [102 251 190]\n",
      "  [102 251 190]\n",
      "  [102 251 190]\n",
      "  [102 251 190]\n",
      "  [102 251 190]\n",
      "  [102 251 190]\n",
      "  [102 251 190]\n",
      "  [102 251 190]]\n",
      "\n",
      " [[102 251 190]\n",
      "  [102 251 190]\n",
      "  [102 251 190]\n",
      "  [102 251 190]\n",
      "  [102 251 190]\n",
      "  [102 251 190]\n",
      "  [102 251 190]\n",
      "  [102 251 190]\n",
      "  [102 251 190]\n",
      "  [102 251 190]]]\n"
     ]
    }
   ],
   "source": [
    "print(hsv_s)"
   ]
  },
  {
   "cell_type": "code",
   "execution_count": 176,
   "metadata": {},
   "outputs": [
    {
     "name": "stdout",
     "output_type": "stream",
     "text": [
      "102\n"
     ]
    }
   ],
   "source": [
    "print(hsv_s[9,9,0])"
   ]
  },
  {
   "cell_type": "code",
   "execution_count": 177,
   "metadata": {},
   "outputs": [
    {
     "name": "stdout",
     "output_type": "stream",
     "text": [
      "102 252 190\n"
     ]
    }
   ],
   "source": [
    "b=int(0)\n",
    "g=int(0)\n",
    "r=int(0)\n",
    "color=int(0)\n",
    "s=0\n",
    "#求和\n",
    "for i in range(len(hsv_s)):\n",
    "    for j in range(len(hsv_s)):\n",
    "        b=b+hsv_s[i,j,0]\n",
    "        g=g+hsv_s[i,j,1]\n",
    "        r=r+hsv_s[i,j,2]\n",
    "#平均值\n",
    "b=int(b/100)\n",
    "g=int(g/100)\n",
    "r=int(r/100)\n",
    "print(b,g,r)\n"
   ]
  },
  {
   "cell_type": "code",
   "execution_count": 178,
   "metadata": {},
   "outputs": [
    {
     "name": "stdout",
     "output_type": "stream",
     "text": [
      "[ 82 152  70]\n"
     ]
    }
   ],
   "source": [
    "lower= np.array([b-20,g-100,r-120])\n",
    "upper= np.array([b+10,g+100,r+100])\n",
    "print(lower)"
   ]
  },
  {
   "cell_type": "code",
   "execution_count": 179,
   "metadata": {},
   "outputs": [],
   "source": [
    "mask = cv2.inRange(hsv, lower, upper)\n",
    "# 显示图像\n",
    "cv2.imshow('mask',mask)\n",
    "cv2.waitKey(0)\n",
    "cv2.destroyAllWindows()"
   ]
  },
  {
   "cell_type": "code",
   "execution_count": 180,
   "metadata": {},
   "outputs": [],
   "source": [
    "#腐蚀膨胀\n",
    "dilate=cv2.dilate(mask,None,iterations=2)\n",
    "cv2.imshow('dilate',dilate)\n",
    "\n",
    "erode=cv2.erode(dilate,None,iterations=1)\n",
    "cv2.imshow('erode',erode)\n",
    "\n",
    "#遍历每个像素点，进行颜色的替换\n",
    "for i in range(rows):\n",
    "    for j in range(cols):\n",
    "        if erode[i,j]==255: # 像素点为255表示的是白色，我们就是要将白色处的像素点，替换为红色\n",
    "            img[i,j]=(0,255,255)# 此处替换颜色，为BGR通道，不是RGB通道\n",
    "cv2.imshow('res',img)\n",
    "# 窗口等待的命令，0表示无限等待\n",
    "cv2.waitKey(0)\n",
    "cv2.destroyAllWindows()"
   ]
  },
  {
   "cell_type": "code",
   "execution_count": null,
   "metadata": {},
   "outputs": [],
   "source": []
  },
  {
   "cell_type": "code",
   "execution_count": null,
   "metadata": {},
   "outputs": [],
   "source": []
  }
 ],
 "metadata": {
  "kernelspec": {
   "display_name": "Python 3",
   "language": "python",
   "name": "python3"
  },
  "language_info": {
   "codemirror_mode": {
    "name": "ipython",
    "version": 3
   },
   "file_extension": ".py",
   "mimetype": "text/x-python",
   "name": "python",
   "nbconvert_exporter": "python",
   "pygments_lexer": "ipython3",
   "version": "3.7.4"
  }
 },
 "nbformat": 4,
 "nbformat_minor": 2
}
