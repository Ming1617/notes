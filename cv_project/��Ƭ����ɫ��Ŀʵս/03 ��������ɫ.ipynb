{
 "cells": [
  {
   "cell_type": "code",
   "execution_count": 1,
   "metadata": {},
   "outputs": [],
   "source": [
    "#图像轮廓要处理的是二值图（黑白图）\n",
    "#对象是白色的 背景是黑色的\n",
    "import cv2\n",
    "import numpy as np\n",
    "import copy"
   ]
  },
  {
   "cell_type": "code",
   "execution_count": 2,
   "metadata": {},
   "outputs": [],
   "source": [
    "# 读取照片并显示\n",
    "image=cv2.imread('img1.jpg')\n",
    "cv2.imshow('image',image)\n",
    "# imgs=image\n",
    "cv2.waitKey(0)\n",
    "cv2.destroyAllWindows()"
   ]
  },
  {
   "cell_type": "code",
   "execution_count": 3,
   "metadata": {},
   "outputs": [
    {
     "name": "stdout",
     "output_type": "stream",
     "text": [
      "483 343 3\n"
     ]
    }
   ],
   "source": [
    "# img = cv2.resize(image,None,fx=0.5,fy=0.5)\n",
    "img=image\n",
    "rows,cols,channels = img.shape\n",
    "print(rows,cols,channels)\n",
    "cv2.imshow('img',img)\n",
    "cv2.waitKey(0)\n",
    "cv2.destroyAllWindows()"
   ]
  },
  {
   "cell_type": "code",
   "execution_count": 4,
   "metadata": {},
   "outputs": [],
   "source": [
    "hsv = cv2.cvtColor(img,cv2.COLOR_BGR2HSV)\n",
    "cv2.imshow('hsv',hsv)\n",
    "cv2.waitKey(0)\n",
    "cv2.destroyAllWindows()"
   ]
  },
  {
   "cell_type": "code",
   "execution_count": 5,
   "metadata": {},
   "outputs": [],
   "source": [
    "hsv_s=hsv[10:30,10:30]\n",
    "cv2.imshow('hsv_s',hsv_s)\n",
    "cv2.imshow('hsv',hsv)\n",
    "cv2.waitKey(0)\n",
    "cv2.destroyAllWindows()"
   ]
  },
  {
   "cell_type": "code",
   "execution_count": 6,
   "metadata": {},
   "outputs": [
    {
     "name": "stdout",
     "output_type": "stream",
     "text": [
      "102 253 188\n"
     ]
    }
   ],
   "source": [
    "b=int(0)\n",
    "g=int(0)\n",
    "r=int(0)\n",
    "color=int(0)\n",
    "s=0\n",
    "#求和\n",
    "for i in range(len(hsv_s)):\n",
    "    for j in range(len(hsv_s)):\n",
    "        b=b+hsv_s[i,j,0]\n",
    "        g=g+hsv[i,j,1]\n",
    "        r=r+hsv[i,j,2]\n",
    "#平均值\n",
    "b=int(b/400)\n",
    "g=int(g/400)\n",
    "r=int(r/400)\n",
    "print(b,g,r)\n"
   ]
  },
  {
   "cell_type": "code",
   "execution_count": 7,
   "metadata": {},
   "outputs": [
    {
     "name": "stdout",
     "output_type": "stream",
     "text": [
      "[ 82 153 148]\n"
     ]
    }
   ],
   "source": [
    "#红色，蓝色背景阈值上下限\n",
    "# lower= np.array([b-20,g-100,r-120])\n",
    "# upper= np.array([b+10,g+100,r+100])\n",
    "\n",
    "\n",
    "#白色背景阈值上下限\n",
    "lower= np.array([b-20,g-100,r-40])\n",
    "upper= np.array([b+180,g+10,r+100])\n",
    "\n",
    "print(lower)"
   ]
  },
  {
   "cell_type": "code",
   "execution_count": 8,
   "metadata": {},
   "outputs": [],
   "source": [
    "mask = cv2.inRange(hsv, lower, upper)\n",
    "# 显示图像\n",
    "cv2.imshow('mask',mask)\n",
    "cv2.waitKey(0)\n",
    "cv2.destroyAllWindows()"
   ]
  },
  {
   "cell_type": "code",
   "execution_count": 9,
   "metadata": {},
   "outputs": [
    {
     "name": "stdout",
     "output_type": "stream",
     "text": [
      "1\n"
     ]
    }
   ],
   "source": [
    "#腐蚀膨胀\n",
    "erode=cv2.erode(mask,None,iterations=1)\n",
    "cv2.imshow('erode',erode)\n",
    "dilate=cv2.dilate(erode,None,iterations=2)\n",
    "cv2.imshow('dilate',dilate)\n",
    "images,contours,hierarchy=cv2.findContours(dilate,cv2.RETR_TREE,cv2.CHAIN_APPROX_SIMPLE)\n",
    "print(len(contours))\n",
    "mask=np.zeros(img.shape,np.uint8)\n",
    "mask=cv2.drawContours(img,contours,-1,(255,0,255),1)#绘制轮廓\n",
    "cv2.imshow('mask',mask)\n",
    "dst=np.zeros(img.shape,np.uint8)\n",
    "dst=cv2.drawContours(img,contours,-1,(255,255,0),-1)#绘制实心轮廓\n",
    "cv2.imshow('dst',dst)\n",
    "cv2.waitKey(0)\n",
    "cv2.destroyAllWindows()"
   ]
  },
  {
   "cell_type": "code",
   "execution_count": null,
   "metadata": {},
   "outputs": [],
   "source": []
  },
  {
   "cell_type": "code",
   "execution_count": null,
   "metadata": {},
   "outputs": [],
   "source": []
  },
  {
   "cell_type": "code",
   "execution_count": 10,
   "metadata": {},
   "outputs": [],
   "source": [
    "import cv2\n",
    "import numpy as np\n",
    "import copy\n",
    "# 读取照片并显示\n",
    "image=cv2.imread('image.jpg')\n",
    "cv2.imshow('image',image)\n",
    "# imgs=image\n",
    "cv2.waitKey(0)\n",
    "cv2.destroyAllWindows()"
   ]
  },
  {
   "cell_type": "code",
   "execution_count": 11,
   "metadata": {},
   "outputs": [
    {
     "name": "stdout",
     "output_type": "stream",
     "text": [
      "352 235 3\n"
     ]
    }
   ],
   "source": [
    "img = cv2.resize(image,None,fx=0.5,fy=0.5)\n",
    "# img=image\n",
    "rows,cols,channels = img.shape\n",
    "print(rows,cols,channels)\n",
    "cv2.imshow('img',img)\n",
    "cv2.waitKey(0)\n",
    "cv2.destroyAllWindows()"
   ]
  },
  {
   "cell_type": "code",
   "execution_count": 12,
   "metadata": {},
   "outputs": [],
   "source": [
    "hsv = cv2.cvtColor(img,cv2.COLOR_BGR2HSV)\n",
    "cv2.imshow('hsv',hsv)\n",
    "cv2.waitKey(0)\n",
    "cv2.destroyAllWindows()"
   ]
  },
  {
   "cell_type": "code",
   "execution_count": 13,
   "metadata": {},
   "outputs": [],
   "source": [
    "hsv_s=hsv[10:30,10:30]\n",
    "cv2.imshow('hsv_s',hsv_s)\n",
    "cv2.imshow('hsv',hsv)\n",
    "cv2.waitKey(0)\n",
    "cv2.destroyAllWindows()"
   ]
  },
  {
   "cell_type": "code",
   "execution_count": 14,
   "metadata": {},
   "outputs": [
    {
     "name": "stdout",
     "output_type": "stream",
     "text": [
      "177 254 178\n"
     ]
    }
   ],
   "source": [
    "b=int(0)\n",
    "g=int(0)\n",
    "r=int(0)\n",
    "color=int(0)\n",
    "s=0\n",
    "#求和\n",
    "for i in range(len(hsv_s)):\n",
    "    for j in range(len(hsv_s)):\n",
    "        b=b+hsv_s[i,j,0]\n",
    "        g=g+hsv[i,j,1]\n",
    "        r=r+hsv[i,j,2]\n",
    "#平均值\n",
    "b=int(b/400)\n",
    "g=int(g/400)\n",
    "r=int(r/400)\n",
    "print(b,g,r)"
   ]
  },
  {
   "cell_type": "code",
   "execution_count": 15,
   "metadata": {},
   "outputs": [
    {
     "name": "stdout",
     "output_type": "stream",
     "text": [
      "[157 154 138]\n"
     ]
    }
   ],
   "source": [
    "lower= np.array([b-20,g-100,r-40])\n",
    "upper= np.array([b+180,g+10,r+100])\n",
    "\n",
    "print(lower)"
   ]
  },
  {
   "cell_type": "code",
   "execution_count": 16,
   "metadata": {},
   "outputs": [],
   "source": [
    "mask = cv2.inRange(hsv, lower, upper)\n",
    "# 显示图像\n",
    "cv2.imshow('mask',mask)\n",
    "cv2.waitKey(0)\n",
    "cv2.destroyAllWindows()"
   ]
  },
  {
   "cell_type": "code",
   "execution_count": 17,
   "metadata": {},
   "outputs": [
    {
     "name": "stdout",
     "output_type": "stream",
     "text": [
      "1\n"
     ]
    }
   ],
   "source": [
    "#腐蚀膨胀\n",
    "dilate=cv2.dilate(mask,None,iterations=2)\n",
    "\n",
    "cv2.imshow('dilate',dilate)\n",
    "erode=cv2.erode(dilate,None,iterations=1)\n",
    "cv2.imshow('erode',erode)\n",
    "\n",
    "images,contours,hierarchy=cv2.findContours(erode,cv2.RETR_TREE,cv2.CHAIN_APPROX_SIMPLE)\n",
    "print(len(contours))\n",
    "o=img.copy()\n",
    "mask=np.zeros(o.shape,np.uint8)\n",
    "mask=cv2.drawContours(o,contours,-1,(255,0,255),1)#绘制轮廓\n",
    "cv2.imshow('mask',mask)\n",
    "cv2.waitKey(0)\n",
    "cv2.destroyAllWindows()"
   ]
  },
  {
   "cell_type": "code",
   "execution_count": 18,
   "metadata": {},
   "outputs": [],
   "source": [
    "cv2.imshow('img',img)\n",
    "cv2.waitKey(0)\n",
    "cv2.destroyAllWindows()"
   ]
  },
  {
   "cell_type": "code",
   "execution_count": 19,
   "metadata": {},
   "outputs": [],
   "source": [
    "imgInfo = img.shape\n",
    "height = imgInfo[0]\n",
    "width = imgInfo[1]\n",
    "for i in range(0,height):\n",
    "    for j in range(0,width):\n",
    "        s=cv2.pointPolygonTest(contours[0],(j,i),True)\n",
    "        if s>=0 :\n",
    "            img[i,j]=(255,255,0)\n",
    "cv2.imshow('img',img)\n",
    "cv2.waitKey(0)\n",
    "cv2.destroyAllWindows()"
   ]
  },
  {
   "cell_type": "code",
   "execution_count": null,
   "metadata": {},
   "outputs": [],
   "source": []
  }
 ],
 "metadata": {
  "kernelspec": {
   "display_name": "Python 3",
   "language": "python",
   "name": "python3"
  },
  "language_info": {
   "codemirror_mode": {
    "name": "ipython",
    "version": 3
   },
   "file_extension": ".py",
   "mimetype": "text/x-python",
   "name": "python",
   "nbconvert_exporter": "python",
   "pygments_lexer": "ipython3",
   "version": "3.7.4"
  }
 },
 "nbformat": 4,
 "nbformat_minor": 2
}
