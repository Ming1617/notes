{
 "cells": [
  {
   "cell_type": "code",
   "execution_count": 190,
   "metadata": {},
   "outputs": [],
   "source": [
    "import cv2\n",
    "import numpy as np"
   ]
  },
  {
   "cell_type": "code",
   "execution_count": 191,
   "metadata": {},
   "outputs": [],
   "source": [
    "# 读取照片并显示\n",
    "image=cv2.imread('image.jpg')\n",
    "cv2.imshow('image',image)\n",
    "cv2.waitKey(0)\n",
    "cv2.destroyAllWindows()"
   ]
  },
  {
   "cell_type": "code",
   "execution_count": 192,
   "metadata": {},
   "outputs": [
    {
     "name": "stdout",
     "output_type": "stream",
     "text": [
      "352 235 3\n"
     ]
    }
   ],
   "source": [
    "img = cv2.resize(image,None,fx=0.5,fy=0.5)\n",
    "rows,cols,channels = img.shape\n",
    "print(rows,cols,channels)\n",
    "cv2.imshow('img',img)\n",
    "cv2.waitKey(0)\n",
    "cv2.destroyAllWindows()"
   ]
  },
  {
   "cell_type": "code",
   "execution_count": 193,
   "metadata": {},
   "outputs": [
    {
     "name": "stdout",
     "output_type": "stream",
     "text": [
      "[ 16   0 178]\n"
     ]
    }
   ],
   "source": [
    "print(img[30,30])"
   ]
  },
  {
   "cell_type": "code",
   "execution_count": 194,
   "metadata": {},
   "outputs": [],
   "source": [
    "color=int(0)\n",
    "(b,g,r)=img[30,30]\n",
    "if b>g and b>r :\n",
    "    lower= np.array([90,70,70])# 蓝色\n",
    "    upper= np.array([110,255,255])\n",
    "    color=(0,0,255)\n",
    "else:\n",
    "    lower= np.array([100,200,135])#下限      \n",
    "    upper= np.array([200,255,245])#上限\n",
    "    color=(255,0,0)"
   ]
  },
  {
   "cell_type": "code",
   "execution_count": 195,
   "metadata": {},
   "outputs": [
    {
     "name": "stdout",
     "output_type": "stream",
     "text": [
      "[100 200 135] [200 255 245]\n"
     ]
    }
   ],
   "source": [
    "print(lower,upper)"
   ]
  },
  {
   "cell_type": "code",
   "execution_count": 196,
   "metadata": {},
   "outputs": [],
   "source": [
    "hsv = cv2.cvtColor(img,cv2.COLOR_BGR2HSV)\n",
    "cv2.imshow('hsv',hsv)\n",
    "cv2.waitKey(0)\n",
    "cv2.destroyAllWindows()"
   ]
  },
  {
   "cell_type": "code",
   "execution_count": 197,
   "metadata": {},
   "outputs": [
    {
     "name": "stdout",
     "output_type": "stream",
     "text": [
      "[177 254 178]\n"
     ]
    }
   ],
   "source": [
    "print(hsv[1,2])"
   ]
  },
  {
   "cell_type": "code",
   "execution_count": 198,
   "metadata": {},
   "outputs": [],
   "source": [
    "# 图片的二值化处理\n",
    "#红底变蓝底\n",
    "#将在两个阈值内的像素值设置为白色（255），而不在阈值区间内的像素值设置为黑色（0）\n",
    "# lower= np.array([90,70,70])\n",
    "# upper= np.array([110,255,255])\n",
    "# lower_red= np.array([0,120,135])#下限\n",
    "# upper_red = np.array([200,255,255])#上限\n",
    "mask = cv2.inRange(hsv, lower, upper)\n",
    "# 显示图像\n",
    "cv2.imshow('mask',mask)\n",
    "cv2.waitKey(0)\n",
    "cv2.destroyAllWindows()"
   ]
  },
  {
   "cell_type": "code",
   "execution_count": 199,
   "metadata": {},
   "outputs": [],
   "source": [
    "#腐蚀膨胀\n",
    "erode=cv2.erode(mask,None,iterations=1)\n",
    "cv2.imshow('erode',erode)\n",
    "\n",
    "dilate=cv2.dilate(erode,None,iterations=2)\n",
    "cv2.imshow('dilate',dilate)\n",
    "\n",
    "cv2.waitKey(0)\n",
    "cv2.destroyAllWindows()"
   ]
  },
  {
   "cell_type": "code",
   "execution_count": 200,
   "metadata": {},
   "outputs": [],
   "source": [
    "#遍历每个像素点，进行颜色的替换\n",
    "for i in range(rows):\n",
    "    for j in range(cols):\n",
    "        if dilate[i,j]==255: # 像素点为255表示的是白色，我们就是要将白色处的像素点，替换为红色\n",
    "            img[i,j]=color# 此处替换颜色，为BGR通道，不是RGB通道\n",
    "cv2.imshow('res',img)\n",
    "# 窗口等待的命令，0表示无限等待\n",
    "cv2.waitKey(0)\n",
    "cv2.destroyAllWindows()"
   ]
  },
  {
   "cell_type": "code",
   "execution_count": null,
   "metadata": {},
   "outputs": [],
   "source": []
  },
  {
   "cell_type": "code",
   "execution_count": 153,
   "metadata": {},
   "outputs": [
    {
     "name": "stdout",
     "output_type": "stream",
     "text": [
      "242 172 3\n"
     ]
    }
   ],
   "source": [
    "# 读取照片并显示\n",
    "image=cv2.imread('img1.jpg')\n",
    "cv2.imshow('image',image)\n",
    "# cv2.waitKey(0)\n",
    "# cv2.destroyAllWindows()\n",
    "img = cv2.resize(image,None,fx=0.5,fy=0.5)\n",
    "rows,cols,channels = img.shape\n",
    "print(rows,cols,channels)\n",
    "cv2.imshow('img',img)\n",
    "# cv2.waitKey(0)\n",
    "# cv2.destroyAllWindows()\n",
    "color=int(0)\n",
    "(b,g,r)=img[30,30]\n",
    "if b>g and b>r :\n",
    "    lower= np.array([90,70,70])# 蓝色\n",
    "    upper= np.array([110,255,255])\n",
    "    color=(0,0,255)\n",
    "else:\n",
    "    lower= np.array([100,200,135])#下限      \n",
    "    upper= np.array([200,255,245])#上限\n",
    "    color=(255,0,0)\n",
    "hsv = cv2.cvtColor(img,cv2.COLOR_BGR2HSV)\n",
    "cv2.imshow('hsv',hsv)\n",
    "# cv2.waitKey(0)\n",
    "# cv2.destroyAllWindows()\n",
    "# 图片的二值化处理\n",
    "#红底变蓝底\n",
    "#将在两个阈值内的像素值设置为白色（255），而不在阈值区间内的像素值设置为黑色（0）\n",
    "# lower= np.array([90,70,70])\n",
    "# upper= np.array([110,255,255])\n",
    "# lower_red= np.array([0,120,135])#下限\n",
    "# upper_red = np.array([200,255,255])#上限\n",
    "mask = cv2.inRange(hsv, lower, upper)\n",
    "# 显示图像\n",
    "cv2.imshow('mask',mask)\n",
    "# cv2.waitKey(0)\n",
    "# cv2.destroyAllWindows()\n",
    "#腐蚀膨胀\n",
    "erode=cv2.erode(mask,None,iterations=1)\n",
    "cv2.imshow('erode',erode)\n",
    "\n",
    "dilate=cv2.dilate(erode,None,iterations=1)\n",
    "cv2.imshow('dilate',dilate)\n",
    "\n",
    "# cv2.waitKey(0)\n",
    "# # cv2.destroyAllWindows()\n",
    "#遍历每个像素点，进行颜色的替换\n",
    "for i in range(rows):\n",
    "    for j in range(cols):\n",
    "        if dilate[i,j]==255: # 像素点为255表示的是白色，我们就是要将白色处的像素点，替换为红色\n",
    "            img[i,j]=color# 此处替换颜色，为BGR通道，不是RGB通道\n",
    "cv2.imshow('res',img)\n",
    "# 窗口等待的命令，0表示无限等待\n",
    "cv2.waitKey(0)\n",
    "cv2.destroyAllWindows()"
   ]
  },
  {
   "cell_type": "code",
   "execution_count": 96,
   "metadata": {},
   "outputs": [],
   "source": []
  },
  {
   "cell_type": "code",
   "execution_count": 218,
   "metadata": {},
   "outputs": [
    {
     "name": "stdout",
     "output_type": "stream",
     "text": [
      "262 250 3\n"
     ]
    }
   ],
   "source": [
    "# 读取照片并显示\n",
    "image=cv2.imread('baidi.jpg')\n",
    "cv2.imshow('image',image)\n",
    "# cv2.waitKey(0)\n",
    "# cv2.destroyAllWindows()\n",
    "img = cv2.resize(image,None,fx=0.5,fy=0.5)\n",
    "rows,cols,channels = img.shape\n",
    "print(rows,cols,channels)\n",
    "cv2.imshow('img',img)\n",
    "cv2.waitKey(0)\n",
    "cv2.destroyAllWindows()"
   ]
  },
  {
   "cell_type": "code",
   "execution_count": 219,
   "metadata": {},
   "outputs": [],
   "source": [
    "hsv = cv2.cvtColor(img,cv2.COLOR_BGR2HSV)\n",
    "cv2.imshow('hsv',hsv)\n",
    "cv2.waitKey(0)\n",
    "cv2.destroyAllWindows()"
   ]
  },
  {
   "cell_type": "code",
   "execution_count": 220,
   "metadata": {},
   "outputs": [
    {
     "name": "stdout",
     "output_type": "stream",
     "text": [
      "[  0   0 255]\n"
     ]
    }
   ],
   "source": [
    "print(hsv[30,30])"
   ]
  },
  {
   "cell_type": "code",
   "execution_count": 221,
   "metadata": {},
   "outputs": [],
   "source": [
    "lower= np.array([0,0,221])\n",
    "upper= np.array([180,10,255])\n",
    "mask = cv2.inRange(hsv, lower, upper)\n",
    "# 显示图像\n",
    "cv2.imshow('mask',mask)\n",
    "# cv2.waitKey(0)\n",
    "# cv2.destroyAllWindows()\n",
    "#腐蚀膨胀\n",
    "dilate=cv2.dilate(mask,None,iterations=2)\n",
    "cv2.imshow('dilate',dilate)\n",
    "\n",
    "erode=cv2.erode(dilate,None,iterations=1)\n",
    "cv2.imshow('erode',erode)\n",
    "\n",
    "\n",
    "\n",
    "# cv2.waitKey(0)\n",
    "# # cv2.destroyAllWindows()\n",
    "#遍历每个像素点，进行颜色的替换\n",
    "for i in range(rows):\n",
    "    for j in range(cols):\n",
    "        if erode[i,j]==255: # 像素点为255表示的是白色，我们就是要将白色处的像素点，替换为红色\n",
    "            img[i,j]=(255,255,0)# 此处替换颜色，为BGR通道，不是RGB通道\n",
    "cv2.imshow('res',img)\n",
    "# 窗口等待的命令，0表示无限等待\n",
    "cv2.waitKey(0)\n",
    "cv2.destroyAllWindows()"
   ]
  },
  {
   "cell_type": "code",
   "execution_count": null,
   "metadata": {},
   "outputs": [],
   "source": []
  }
 ],
 "metadata": {
  "kernelspec": {
   "display_name": "Python 3",
   "language": "python",
   "name": "python3"
  },
  "language_info": {
   "codemirror_mode": {
    "name": "ipython",
    "version": 3
   },
   "file_extension": ".py",
   "mimetype": "text/x-python",
   "name": "python",
   "nbconvert_exporter": "python",
   "pygments_lexer": "ipython3",
   "version": "3.7.4"
  }
 },
 "nbformat": 4,
 "nbformat_minor": 2
}
