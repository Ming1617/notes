{
 "cells": [
  {
   "cell_type": "code",
   "execution_count": null,
   "metadata": {},
   "outputs": [],
   "source": [
    "import cv2\n",
    "import numpy as np\n",
    "face_xml=cv2.CascadeClassifier('haarcascade_frontalface_alt.xml')\n",
    "eye_xml=cv2.CascadeClassifier('')\n",
    "#load jpg\n",
    "img=cv2.imread('face.jpg')\n",
    "cv2.imshow('src',img)\n",
    "# haar gray\n",
    "gray=cv2.cvtColor(img,cv2.COLOR_BGR2GRAY)\n",
    "# detect faces 1 data 2 scale 3 \n",
    "faces=face_xml.detectMultiScale(gray,1.3,5)\n",
    "print('face='len(faces))\n",
    "#draw\n",
    "for (x,y,w,h) in faces:\n",
    "    cv2.rectangle(img,(x,y),(x+w,y+h),(255,0,0),2)\n",
    "    roi_face=gray[y:y+h,x:x+w]\n",
    "    roi_color=img[y:y+h,x:x+w]\n",
    "    #1 gray\n",
    "    eyes=eye_xml.detectMultiScale(roi_face)\n",
    "    print('eye=',len(eyes))\n",
    "    for (e_x,e_y,e,h) in eyes:\n",
    "        cv2.rectangle(roi_color,(e_x,e_y),(e_x+e_w,e_y+e_h),(255,0,0),0)\n",
    "cv2.imshow('dst',img)\n",
    "cv2.waitKey(0)\n",
    "cv2.destroyAllWindows()"
   ]
  }
 ],
 "metadata": {
  "kernelspec": {
   "display_name": "Python 3",
   "language": "python",
   "name": "python3"
  },
  "language_info": {
   "codemirror_mode": {
    "name": "ipython",
    "version": 3
   },
   "file_extension": ".py",
   "mimetype": "text/x-python",
   "name": "python",
   "nbconvert_exporter": "python",
   "pygments_lexer": "ipython3",
   "version": "3.7.4"
  }
 },
 "nbformat": 4,
 "nbformat_minor": 2
}
