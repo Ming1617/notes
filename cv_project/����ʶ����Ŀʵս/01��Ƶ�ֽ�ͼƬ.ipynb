{
 "cells": [
  {
   "cell_type": "code",
   "execution_count": 3,
   "metadata": {},
   "outputs": [
    {
     "name": "stdout",
     "output_type": "stream",
     "text": [
      "<built-in method isOpened of cv2.VideoCapture object at 0x000002271ECD9BB0>\n",
      "8.947368421052632 1364 724\n",
      "img//image1.jpg\n",
      "img//image2.jpg\n",
      "img//image3.jpg\n",
      "img//image4.jpg\n",
      "img//image5.jpg\n",
      "img//image6.jpg\n",
      "img//image7.jpg\n",
      "img//image8.jpg\n",
      "img//image9.jpg\n",
      "img//image10.jpg\n",
      "end!\n"
     ]
    }
   ],
   "source": [
    "#视频分解图片\n",
    "#l load 2 info 3 parse 4 imshow imwrite\n",
    "import cv2\n",
    "import os\n",
    "cap=cv2.VideoCapture('face_train.mp4')\n",
    "isOpened=cap.isOpened#用于判断是否能打开\n",
    "print(isOpened)\n",
    "fps=cap.get(cv2.CAP_PROP_FPS)\n",
    "width=int(cap.get(cv2.CAP_PROP_FRAME_WIDTH))\n",
    "height=int(cap.get(cv2.CAP_PROP_FRAME_HEIGHT))\n",
    "print(fps,width,height)\n",
    "i=0\n",
    "while(isOpened):\n",
    "    if i==10:\n",
    "        break;\n",
    "    else:\n",
    "        i=i+1\n",
    "    (flag,frame)=cap.read()\n",
    "    fileName='img//image'+str(i)+'.jpg'\n",
    "    print(fileName)\n",
    "    if flag==True:\n",
    "        cv2.imwrite(fileName,frame,[cv2.IMWRITE_JPEG_QUALITY,100])\n",
    "print('end!')\n"
   ]
  },
  {
   "cell_type": "code",
   "execution_count": 1,
   "metadata": {},
   "outputs": [
    {
     "name": "stdout",
     "output_type": "stream",
     "text": [
      "按q-结束视频录制\n"
     ]
    }
   ],
   "source": [
    "#打开摄像头并录制视频\n",
    "import numpy as np\n",
    "import cv2\n",
    "import os\n",
    "cap=cv2.VideoCapture(0)\n",
    "codec=cv2.VideoWriter_fourcc(*'MJPG')#指定编码器\n",
    "fps=20.0\n",
    "frameSize=(640,480)\n",
    "out=cv2.VideoWriter('video.avi',codec,fps,frameSize)\n",
    "print('按q-结束视频录制')\n",
    "while(cap.isOpened()):\n",
    "    ret,frame=cap.read()\n",
    "    if ret==True:\n",
    "        cv2.imshow('frame',frame)\n",
    "        out.write(frame)\n",
    "        if cv2.waitKey(1)==ord('q'):\n",
    "            break\n",
    "        if cv2.waitKeyt(1)==ord('s'):\n",
    "            if path.exists():\n",
    "                os.remove('video.avi')\n",
    "            break\n",
    "cap.release()\n",
    "out.release()\n",
    "cv2.destroyAllWindows()"
   ]
  },
  {
   "cell_type": "code",
   "execution_count": 1,
   "metadata": {},
   "outputs": [],
   "source": [
    "#打开摄像头并拍摄图片\n",
    "import cv2\n",
    "#打开笔记本的内置摄像头\n",
    "cap = cv2.VideoCapture(0)\n",
    "i = 1\n",
    "#也可写成while True\n",
    "while(1):\n",
    "    \"\"\"\n",
    "    ret：True或者False，代表有没有读取到图片\n",
    "    frame：表示截取到一帧的图片\n",
    "    \"\"\"\n",
    "    ret,frame = cap.read()\n",
    "    # 展示图片\n",
    "    cv2.imshow('capture',frame)\n",
    "    # 保存图片\n",
    "    if cv2.waitKey(1) & 0xFF == ord('s'):\n",
    "        cv2.imwrite('image//'+str(i) + \".jpg\",frame)\n",
    "        break\n",
    "        i = i + 1\n",
    "    \"\"\"\n",
    "       cv2.waitKey(1)：waitKey()函数功能是不断刷新图像，返回值为当前键盘的值\n",
    "       OxFF：是一个位掩码，一旦使用了掩码，就可以检查它是否是相应的值\n",
    "       ord('q')：返回q对应的unicode码对应的值(113)\n",
    "    \"\"\"\n",
    "    if cv2.waitKey(1) & 0xFF == ord('q'):\n",
    "        break\n",
    "#释放对象和销毁窗口\n",
    "cap.release()\n",
    "cv2.destroyAllWindows()"
   ]
  },
  {
   "cell_type": "code",
   "execution_count": null,
   "metadata": {},
   "outputs": [],
   "source": []
  }
 ],
 "metadata": {
  "kernelspec": {
   "display_name": "Python 3",
   "language": "python",
   "name": "python3"
  },
  "language_info": {
   "codemirror_mode": {
    "name": "ipython",
    "version": 3
   },
   "file_extension": ".py",
   "mimetype": "text/x-python",
   "name": "python",
   "nbconvert_exporter": "python",
   "pygments_lexer": "ipython3",
   "version": "3.7.4"
  }
 },
 "nbformat": 4,
 "nbformat_minor": 2
}
