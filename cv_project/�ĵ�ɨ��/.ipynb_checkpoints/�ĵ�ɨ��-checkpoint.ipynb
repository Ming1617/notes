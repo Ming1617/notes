{
 "cells": [
  {
   "cell_type": "code",
   "execution_count": 1,
   "metadata": {},
   "outputs": [],
   "source": [
    "# 导入工具包\n",
    "import numpy as np\n",
    "import cv2"
   ]
  },
  {
   "cell_type": "code",
   "execution_count": 2,
   "metadata": {},
   "outputs": [],
   "source": [
    "def resize(image, width=None, height=None, inter=cv2.INTER_AREA):\n",
    "    dim = None\n",
    "    (h, w) = image.shape[:2]\n",
    "    if width is None and height is None:\n",
    "        return image\n",
    "    if width is None:\n",
    "        r = height / float(h)\n",
    "        dim = (int(w * r), height)\n",
    "    else:\n",
    "        r = width / float(w)\n",
    "        dim = (width, int(h * r))\n",
    "    resized = cv2.resize(image, dim, interpolation=inter)\n",
    "    return resized"
   ]
  },
  {
   "cell_type": "code",
   "execution_count": 3,
   "metadata": {},
   "outputs": [],
   "source": [
    "# 读取输入\n",
    "image = cv2.imread('receipt.jpg')\n",
    "#坐标也会相同变化\n",
    "ratio = image.shape[0] / 500.0\n",
    "orig = image.copy()\n",
    "image =resize(orig, height = 500)"
   ]
  },
  {
   "cell_type": "code",
   "execution_count": 4,
   "metadata": {},
   "outputs": [
    {
     "name": "stdout",
     "output_type": "stream",
     "text": [
      "STEP 1: 边缘检测\n"
     ]
    }
   ],
   "source": [
    "# 预处理\n",
    "gray = cv2.cvtColor(image, cv2.COLOR_BGR2GRAY)\n",
    "gray = cv2.GaussianBlur(gray, (5, 5), 0)  # 高斯滤波\n",
    "edged = cv2.Canny(gray, 75, 200)  # Canny边缘检测\n",
    "# 展示预处理结果\n",
    "print(\"STEP 1: 边缘检测\")\n",
    "cv2.imshow(\"Image\", image)\n",
    "cv2.imshow(\"Edged\", edged)\n",
    "cv2.waitKey(0)\n",
    "cv2.destroyAllWindows()"
   ]
  },
  {
   "cell_type": "code",
   "execution_count": 5,
   "metadata": {},
   "outputs": [],
   "source": [
    "def resize(image, width=None, height=None, inter=cv2.INTER_AREA):\n",
    "    dim = None\n",
    "    (h, w) = image.shape[:2]\n",
    "    if width is None and height is None:\n",
    "        return image\n",
    "    if width is None:# 无w有h时\n",
    "        r = height / float(h)# 新h与旧h的比例为r\n",
    "        dim = (int(w * r), height)# 让w也乘以这个比例,得到新w\n",
    "    else:\n",
    "        r = width / float(w)\n",
    "        dim = (width, int(h * r))\n",
    "    resized = cv2.resize(image, dim, interpolation=inter)\n",
    "    return resized\n",
    "\n"
   ]
  },
  {
   "cell_type": "code",
   "execution_count": 6,
   "metadata": {},
   "outputs": [
    {
     "name": "stdout",
     "output_type": "stream",
     "text": [
      "257\n"
     ]
    }
   ],
   "source": [
    "image_,cnts,hierarchy  = cv2.findContours(edged.copy(), cv2.RETR_LIST, cv2.CHAIN_APPROX_SIMPLE)\n",
    "print(len(cnts))\n",
    "cnts = sorted(cnts, key = cv2.contourArea, reverse = True)[:5]#先计算所有轮廓cnts的面积，由大到小排列(reverse = True)，取前五个最大的([:5])"
   ]
  },
  {
   "cell_type": "code",
   "execution_count": 7,
   "metadata": {},
   "outputs": [],
   "source": [
    "for c in cnts:\n",
    "    # 计算轮廓近似\n",
    "    peri = cv2.arcLength(c, True)\n",
    "    # c表示输入的点集\n",
    "    # epsilon表示从原始轮廓到近似轮廓的最大距离，它是一个准确度参数\n",
    "    # True表示封闭的\n",
    "    approx = cv2.approxPolyDP(c, 0.02 * peri, True)\n",
    "\n",
    "    # 4个点的时候就拿出来\n",
    "    if len(approx) == 4:\n",
    "        screenCnt = approx\n",
    "        break"
   ]
  },
  {
   "cell_type": "code",
   "execution_count": 8,
   "metadata": {},
   "outputs": [
    {
     "name": "stdout",
     "output_type": "stream",
     "text": [
      "STEP 2: 获取轮廓\n"
     ]
    }
   ],
   "source": [
    "# 展示结果\n",
    "print(\"STEP 2: 获取轮廓\")\n",
    "cv2.drawContours(image, [screenCnt], -1, (0, 255, 0), 2)\n",
    "cv2.imshow(\"Outline\", image)\n",
    "cv2.waitKey(0)\n",
    "cv2.destroyAllWindows()"
   ]
  },
  {
   "cell_type": "markdown",
   "metadata": {},
   "source": [
    "# Step3: 透视变换\n",
    "首先引入两个函数完成透视变换的操作。\n",
    "（1）order_points(pts)函数：将上一步得到的轮廓的四个顶点按照左上，右上，右下，左下的顺序排序。\n",
    "其原理为：首先计算每个点所包含的两个坐标的和，最小的为左上角的点，最大的为右下角的点。然后计算每个点所包含的两个坐标的差，最小的为右上角的点，最大的为左下角的点。\n"
   ]
  },
  {
   "cell_type": "code",
   "execution_count": 9,
   "metadata": {},
   "outputs": [],
   "source": [
    "def order_points(pts):\n",
    "    # 一共4个坐标点\n",
    "    rect = np.zeros((4, 2), dtype = \"float32\")\n",
    "\n",
    "    # 按顺序找到对应坐标0123分别是 左上，右上，右下，左下\n",
    "    # 计算左上，右下\n",
    "    s = pts.sum(axis = 1)\n",
    "    rect[0] = pts[np.argmin(s)]\n",
    "    rect[2] = pts[np.argmax(s)]\n",
    "\n",
    "    # 计算右上和左下\n",
    "    diff = np.diff(pts, axis = 1)\n",
    "    rect[1] = pts[np.argmin(diff)]\n",
    "    rect[3] = pts[np.argmax(diff)]\n",
    "\n",
    "    return rect"
   ]
  },
  {
   "cell_type": "markdown",
   "metadata": {},
   "source": [
    "（2）four_point_transform(image, pts)：透视变换。"
   ]
  },
  {
   "cell_type": "code",
   "execution_count": 10,
   "metadata": {},
   "outputs": [],
   "source": [
    "def four_point_transform(image, pts):\n",
    "    # 获取输入坐标点\n",
    "    rect = order_points(pts)\n",
    "    (tl, tr, br, bl) = rect\n",
    "\n",
    "    # 计算输入的w和h值\n",
    "    widthA = np.sqrt(((br[0] - bl[0]) ** 2) + ((br[1] - bl[1]) ** 2))\n",
    "    widthB = np.sqrt(((tr[0] - tl[0]) ** 2) + ((tr[1] - tl[1]) ** 2))\n",
    "    maxWidth = max(int(widthA), int(widthB))\n",
    "\n",
    "    heightA = np.sqrt(((tr[0] - br[0]) ** 2) + ((tr[1] - br[1]) ** 2))\n",
    "    heightB = np.sqrt(((tl[0] - bl[0]) ** 2) + ((tl[1] - bl[1]) ** 2))\n",
    "    maxHeight = max(int(heightA), int(heightB))\n",
    "\n",
    "    # 变换后对应坐标位置（-1只是为了防止有误差出现，不-1也可以。）\n",
    "    dst = np.array([\n",
    "        [0, 0],\n",
    "        [maxWidth - 1, 0],\n",
    "        [maxWidth - 1, maxHeight - 1],\n",
    "        [0, maxHeight - 1]], dtype = \"float32\")\n",
    "\n",
    "    # 计算变换矩阵\n",
    "    M = cv2.getPerspectiveTransform(rect, dst)\n",
    "    warped = cv2.warpPerspective(image, M, (maxWidth, maxHeight))\n",
    "\n",
    "    # 返回变换后结果\n",
    "    return warped"
   ]
  },
  {
   "cell_type": "code",
   "execution_count": 11,
   "metadata": {},
   "outputs": [
    {
     "name": "stdout",
     "output_type": "stream",
     "text": [
      "STEP 3: 变换\n"
     ]
    }
   ],
   "source": [
    "# 透视变换\n",
    "warped = four_point_transform(orig, screenCnt.reshape(4, 2) * ratio)\n",
    "# 二值处理\n",
    "warped = cv2.cvtColor(warped, cv2.COLOR_BGR2GRAY)\n",
    "ref = cv2.threshold(warped, 100, 255, cv2.THRESH_BINARY)[1]\n",
    "cv2.imwrite('scan.jpg', ref)\n",
    "# 展示结果\n",
    "print(\"STEP 3: 变换\")\n",
    "# cv2.imshow(\"Scanned\", ref)\n",
    "# cv2.waitKey(0)"
   ]
  },
  {
   "cell_type": "code",
   "execution_count": 12,
   "metadata": {},
   "outputs": [],
   "source": [
    "from PIL import Image\n",
    "import pytesseract\n",
    "import cv2\n",
    "import os"
   ]
  },
  {
   "cell_type": "code",
   "execution_count": 13,
   "metadata": {},
   "outputs": [
    {
     "name": "stdout",
     "output_type": "stream",
     "text": [
      "z= *e Ke eK KR KK KK K KK K\n",
      "\n",
      "WHOLE\n",
      "FOODS\n",
      "Cia aD\n",
      "\n",
      "WHOLE FOODS MARKET - WESTPORT.CT 06880\n",
      "399 POST RD WEST - (203) 227-6858\n",
      "\n",
      "36%\n",
      "365\n",
      "365\n",
      "365\n",
      "\n",
      "F\n",
      "\n",
      "BACUN LS\n",
      "BACON LS\n",
      "BACON LS\n",
      "BACUN iS\n",
      "BROTH CHIL\n",
      "\n",
      "LOUR ALMUNGD\n",
      "\n",
      "CHKN BRST BNLSS SK\n",
      "\n",
      "HEAVY CREAM\n",
      "\n",
      "BALSMC REDUCT\n",
      "\n",
      "BEEF\n",
      "\n",
      "GRND 85/15\n",
      "\n",
      "JUICE COF CASHEW |.\n",
      "DOCS PINT ORGAHIC\n",
      "HNY ALMOND BulTeER\n",
      "\n",
      "eene TAX\n",
      "\n",
      ".00 BRL\n",
      "\n",
      "NP\n",
      "hP\n",
      "NP\n",
      "NP\n",
      "HP\n",
      "NP\n",
      "NP\n",
      "NP\n",
      "NP\n",
      "NP\n",
      "NP\n",
      "NP\n",
      "NP\n",
      "\n",
      "4 99\n",
      "4.99\n",
      "4.99\n",
      "4.39\n",
      "2.195\n",
      "11,99\n",
      "18.80\n",
      "5.39\n",
      "6.49\n",
      "5.04\n",
      "8.99\n",
      "4.49\n",
      "9.99\n",
      "101.33\n",
      "\n",
      " \n",
      "\n",
      "AAT TRTM Hmm wy oy\n",
      "\f",
      "\n"
     ]
    }
   ],
   "source": [
    "preprocess = 'blur' #thresh  做预处理选项\n",
    "\n",
    "image = cv2.imread('scan.jpg')\n",
    "gray = cv2.cvtColor(image, cv2.COLOR_BGR2GRAY)\n",
    "\n",
    "if preprocess == \"thresh\":\n",
    "    gray = cv2.threshold(gray, 0, 255,cv2.THRESH_BINARY | cv2.THRESH_OTSU)[1]#二值化 第二个返回值（这里是mask）是二值化后的灰度图\n",
    "\n",
    "if preprocess == \"blur\":\n",
    "    gray = cv2.medianBlur(gray, 3)#中值滤波\n",
    "    \n",
    "filename = \"{}.png\".format(os.getpid())\n",
    "cv2.imwrite(filename, gray)#写文件\n",
    "    \n",
    "text = pytesseract.image_to_string(Image.open(filename))#转化成文本\n",
    "print(text)\n",
    "os.remove(filename)#删除文件"
   ]
  },
  {
   "cell_type": "code",
   "execution_count": null,
   "metadata": {},
   "outputs": [],
   "source": []
  }
 ],
 "metadata": {
  "kernelspec": {
   "display_name": "Python 3",
   "language": "python",
   "name": "python3"
  },
  "language_info": {
   "codemirror_mode": {
    "name": "ipython",
    "version": 3
   },
   "file_extension": ".py",
   "mimetype": "text/x-python",
   "name": "python",
   "nbconvert_exporter": "python",
   "pygments_lexer": "ipython3",
   "version": "3.7.4"
  }
 },
 "nbformat": 4,
 "nbformat_minor": 2
}
