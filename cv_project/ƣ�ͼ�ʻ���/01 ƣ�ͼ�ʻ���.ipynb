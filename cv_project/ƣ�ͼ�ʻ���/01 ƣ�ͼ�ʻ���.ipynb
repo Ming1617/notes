{
 "cells": [
  {
   "cell_type": "code",
   "execution_count": 33,
   "metadata": {},
   "outputs": [],
   "source": [
    "#导入工具包\n",
    "from scipy.spatial import distance as dist\n",
    "from collections import OrderedDict\n",
    "import numpy as np\n",
    "import argparse\n",
    "import time\n",
    "import dlib\n",
    "import cv2"
   ]
  },
  {
   "cell_type": "code",
   "execution_count": 34,
   "metadata": {},
   "outputs": [],
   "source": [
    "FACIAL_LANDMARKS_68_IDXS = OrderedDict([\n",
    "    (\"mouth\", (48, 68)),\n",
    "    (\"right_eyebrow\", (17, 22)),\n",
    "    (\"left_eyebrow\", (22, 27)),\n",
    "    (\"right_eye\", (36, 42)),\n",
    "    (\"left_eye\", (42, 48)),\n",
    "    (\"nose\", (27, 36)),\n",
    "    (\"jaw\", (0, 17))\n",
    "])"
   ]
  },
  {
   "cell_type": "code",
   "execution_count": 35,
   "metadata": {},
   "outputs": [],
   "source": [
    "def eye_aspect_ratio(eye):\n",
    "    # 计算距离，竖直的\n",
    "    A = dist.euclidean(eye[1], eye[5])\n",
    "    B = dist.euclidean(eye[2], eye[4])\n",
    "    # 计算距离，水平的\n",
    "    C = dist.euclidean(eye[0], eye[3])\n",
    "    # ear值\n",
    "    ear = (A + B) / (2.0 * C)\n",
    "    return ear"
   ]
  },
  {
   "cell_type": "code",
   "execution_count": 36,
   "metadata": {},
   "outputs": [
    {
     "name": "stdout",
     "output_type": "stream",
     "text": [
      "[INFO] loading facial landmark predictor...\n"
     ]
    }
   ],
   "source": [
    "# 输入参数\n",
    "ap = argparse.ArgumentParser()\n",
    "ap.add_argument(\"-p\", \"--shape-predictor\", default='shape_predictor_68_face_landmarks.dat',\n",
    "    help=\"path to facial landmark predictor\")\n",
    "ap.add_argument(\"-v\", \"--video\", type=str, default=\"test.mp4\",\n",
    "    help=\"path to input video file\")\n",
    "args = vars(ap.parse_args(args=[]))\n",
    "\n",
    "# 设置判断参数\n",
    "EYE_AR_THRESH = 0.3\n",
    "EYE_AR_CONSEC_FRAMES = 3\n",
    " \n",
    "# 初始化计数器\n",
    "COUNTER = 0\n",
    "TOTAL = 0\n",
    " \n",
    "# 检测与定位工具\n",
    "print(\"[INFO] loading facial landmark predictor...\")\n",
    "detector = dlib.get_frontal_face_detector()\n",
    "predictor = dlib.shape_predictor(args[\"shape_predictor\"])"
   ]
  },
  {
   "cell_type": "code",
   "execution_count": 37,
   "metadata": {},
   "outputs": [
    {
     "name": "stdout",
     "output_type": "stream",
     "text": [
      "[INFO] starting video stream thread...\n"
     ]
    }
   ],
   "source": [
    "# 分别取两个眼睛区域\n",
    "(lStart, lEnd) = FACIAL_LANDMARKS_68_IDXS[\"left_eye\"]\n",
    "(rStart, rEnd) = FACIAL_LANDMARKS_68_IDXS[\"right_eye\"]\n",
    " \n",
    "# 读取视频\n",
    "print(\"[INFO] starting video stream thread...\")\n",
    "vs = cv2.VideoCapture(args[\"video\"])\n",
    "#vs = FileVideoStream(args[\"video\"]).start()\n",
    "time.sleep(1.0)\n"
   ]
  },
  {
   "cell_type": "code",
   "execution_count": 38,
   "metadata": {},
   "outputs": [
    {
     "name": "stdout",
     "output_type": "stream",
     "text": [
      "[INFO] starting video stream thread...\n"
     ]
    }
   ],
   "source": [
    "# 读取视频\n",
    "print(\"[INFO] starting video stream thread...\")\n",
    "vs = cv2.VideoCapture(args[\"video\"])\n",
    "#vs = FileVideoStream(args[\"video\"]).start()\n",
    "time.sleep(1.0)"
   ]
  },
  {
   "cell_type": "code",
   "execution_count": 39,
   "metadata": {},
   "outputs": [],
   "source": [
    "def shape_to_np(shape, dtype=\"int\"):\n",
    "    # 创建68*2\n",
    "    coords = np.zeros((shape.num_parts, 2), dtype=dtype)\n",
    "    # 遍历每一个关键点\n",
    "    # 得到坐标\n",
    "    for i in range(0, shape.num_parts):\n",
    "        coords[i] = (shape.part(i).x, shape.part(i).y)\n",
    "    return coords"
   ]
  },
  {
   "cell_type": "code",
   "execution_count": 40,
   "metadata": {},
   "outputs": [],
   "source": [
    " \n",
    "# 遍历每一帧\n",
    "while True:\n",
    "    # 预处理\n",
    "    frame = vs.read()[1]\n",
    "    if frame is None:\n",
    "        break\n",
    "    (h, w) = frame.shape[:2]\n",
    "    width=1200\n",
    "    r = width / float(w)\n",
    "    dim = (width, int(h * r))\n",
    "    frame = cv2.resize(frame, dim, interpolation=cv2.INTER_AREA)\n",
    "    gray = cv2.cvtColor(frame, cv2.COLOR_BGR2GRAY)\n",
    " \n",
    "    # 检测人脸\n",
    "    rects = detector(gray, 0)\n",
    " \n",
    "    # 遍历每一个检测到的人脸\n",
    "    for rect in rects:\n",
    "        # 获取坐标\n",
    "        shape = predictor(gray, rect)\n",
    "        shape = shape_to_np(shape)\n",
    "         # 分别计算ear值\n",
    "        leftEye = shape[lStart:lEnd]\n",
    "        rightEye = shape[rStart:rEnd]\n",
    "        leftEAR = eye_aspect_ratio(leftEye)\n",
    "        rightEAR = eye_aspect_ratio(rightEye)\n",
    "\n",
    "        # 算一个平均的\n",
    "        ear = (leftEAR + rightEAR) / 2.0\n",
    "\n",
    "        # 绘制眼睛区域\n",
    "        leftEyeHull = cv2.convexHull(leftEye)\n",
    "        rightEyeHull = cv2.convexHull(rightEye)\n",
    "        cv2.drawContours(frame, [leftEyeHull], -1, (0, 255, 0), 1)\n",
    "        cv2.drawContours(frame, [rightEyeHull], -1, (0, 255, 0), 1)\n",
    "\n",
    "        # 检查是否满足阈值\n",
    "        if ear < EYE_AR_THRESH:\n",
    "            COUNTER += 1\n",
    "\n",
    "        else:\n",
    "            # 如果连续几帧都是闭眼的，总数算一次\n",
    "            if COUNTER >= EYE_AR_CONSEC_FRAMES:\n",
    "                TOTAL += 1\n",
    " \n",
    "            # 重置\n",
    "            COUNTER = 0\n",
    " \n",
    "        # 显示\n",
    "        cv2.putText(frame, \"Blinks: {}\".format(TOTAL), (10, 30),\n",
    "            cv2.FONT_HERSHEY_SIMPLEX, 0.7, (0, 0, 255), 2)\n",
    "        cv2.putText(frame, \"EAR: {:.2f}\".format(ear), (300, 30),\n",
    "            cv2.FONT_HERSHEY_SIMPLEX, 0.7, (0, 0, 255), 2)\n",
    " \n",
    "    cv2.imshow(\"Frame\", frame)\n",
    "    key = cv2.waitKey(10) & 0xFF\n",
    " \n",
    "    if key == 27:\n",
    "        break\n",
    "\n",
    "vs.release()\n",
    "cv2.destroyAllWindows()"
   ]
  },
  {
   "cell_type": "code",
   "execution_count": null,
   "metadata": {},
   "outputs": [],
   "source": []
  }
 ],
 "metadata": {
  "kernelspec": {
   "display_name": "Python 3",
   "language": "python",
   "name": "python3"
  },
  "language_info": {
   "codemirror_mode": {
    "name": "ipython",
    "version": 3
   },
   "file_extension": ".py",
   "mimetype": "text/x-python",
   "name": "python",
   "nbconvert_exporter": "python",
   "pygments_lexer": "ipython3",
   "version": "3.7.4"
  }
 },
 "nbformat": 4,
 "nbformat_minor": 2
}
