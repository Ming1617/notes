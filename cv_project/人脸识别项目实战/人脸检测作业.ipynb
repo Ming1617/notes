{
 "cells": [
  {
   "cell_type": "code",
   "execution_count": 2,
   "metadata": {},
   "outputs": [
    {
     "name": "stdout",
     "output_type": "stream",
     "text": [
      "<built-in method isOpened of cv2.VideoCapture object at 0x000002146E878350>\n",
      "8.947368421052632 1364 724\n",
      "img//image1.jpg\n",
      "img//image2.jpg\n",
      "img//image3.jpg\n",
      "img//image4.jpg\n",
      "img//image5.jpg\n",
      "img//image6.jpg\n",
      "img//image7.jpg\n",
      "img//image8.jpg\n",
      "img//image9.jpg\n",
      "img//image10.jpg\n",
      "end!\n"
     ]
    }
   ],
   "source": [
    "#视频分解图片\n",
    "#l load 2 info 3 parse 4 imshow imwrite\n",
    "import cv2\n",
    "import os\n",
    "cap=cv2.VideoCapture('face_train.mp4')\n",
    "isOpened=cap.isOpened\n",
    "print(isOpened)\n",
    "fps=cap.get(cv2.CAP_PROP_FPS)\n",
    "width=int(cap.get(cv2.CAP_PROP_FRAME_WIDTH))\n",
    "height=int(cap.get(cv2.CAP_PROP_FRAME_HEIGHT))\n",
    "print(fps,width,height)\n",
    "i=0\n",
    "while(isOpened):\n",
    "    if i==10:\n",
    "        break;\n",
    "    else:\n",
    "        i=i+1\n",
    "    (flag,frame)=cap.read()\n",
    "    fileName='img//image'+str(i)+'.jpg'\n",
    "    print(fileName)\n",
    "    if flag==True:\n",
    "        cv2.imwrite(fileName,frame,[cv2.IMWRITE_JPEG_QUALITY,100])\n",
    "print('end!')"
   ]
  },
  {
   "cell_type": "code",
   "execution_count": 3,
   "metadata": {},
   "outputs": [
    {
     "name": "stdout",
     "output_type": "stream",
     "text": [
      "(1364, 724)\n",
      "(724, 1364, 3)\n",
      "(724, 1364, 3)\n",
      "(724, 1364, 3)\n",
      "(724, 1364, 3)\n",
      "(724, 1364, 3)\n",
      "(724, 1364, 3)\n",
      "(724, 1364, 3)\n",
      "(724, 1364, 3)\n",
      "(724, 1364, 3)\n",
      "(724, 1364, 3)\n",
      "end!\n"
     ]
    }
   ],
   "source": [
    "#图片合成视频\n",
    "import cv2\n",
    "import numpy as np\n",
    "img=cv2.imread('img//image1.jpg')\n",
    "imgInfo=img.shape\n",
    "heigth=imgInfo[0]\n",
    "width=imgInfo[1]\n",
    "size=(imgInfo[1],imgInfo[0])\n",
    "print(size)\n",
    "VideoWrite=cv2.VideoWriter('1.mp4',-1,5,size)# 写入对象  1.file name\n",
    "#2.编译器 3.帧率 4.size\n",
    "for i in range(1,11):\n",
    "    fileName='img//image'+str(i)+'.jpg'\n",
    "#     print(fileName)\n",
    "    img=cv2.imread(str(fileName))#写入方法 1.jpg data\n",
    "    print(img.shape)\n",
    "    VideoWrite.write(img)\n",
    "print('end!')"
   ]
  },
  {
   "cell_type": "code",
   "execution_count": 2,
   "metadata": {},
   "outputs": [
    {
     "name": "stdout",
     "output_type": "stream",
     "text": [
      "face= 1\n",
      "eye= 2\n",
      "noses= 1\n"
     ]
    }
   ],
   "source": [
    "#图片检测脸鼻子，眼\n",
    "import cv2\n",
    "import numpy as np\n",
    "face_xml=cv2.CascadeClassifier('haarcascade_frontalface_alt.xml')\n",
    "eye_xml=cv2.CascadeClassifier('haarcascade_eye.xml')\n",
    "nose_xml=cv2.CascadeClassifier('haarcascade_mcs_nose.xml')\n",
    "#load jpg\n",
    "img=cv2.imread('face.png')\n",
    "# cv2.imshow('src',img)\n",
    "# haar gray\n",
    "gray=cv2.cvtColor(img,cv2.COLOR_BGR2GRAY)\n",
    "# detect faces 1 data 2 scale 3 \n",
    "faces=face_xml.detectMultiScale(gray,1.2,3)\n",
    "print('face=',len(faces))\n",
    "#draw\n",
    "for (x,y,w,h) in faces:\n",
    "    cv2.rectangle(img,(x,y),(x+w,y+h),(255,0,0),2)\n",
    "    roi_face=gray[y:y+h,x:x+w]\n",
    "    roi_color=img[y:y+h,x:x+w]\n",
    "    \n",
    "    #1 gray\n",
    "    eyes=eye_xml.detectMultiScale(roi_face,1.4,4)\n",
    "    print('eye=',len(eyes))\n",
    "    for (e_x,e_y,e_w,e_h) in eyes:\n",
    "        cv2.rectangle(roi_color,(e_x,e_y),(e_x+e_w,e_y+e_h),(0,0,255),0)\n",
    "    noses=nose_xml.detectMultiScale(roi_face,1.4,4)\n",
    "    print('noses=',len(noses))\n",
    "    for (n_x,n_y,n_w,n_h) in noses:\n",
    "        cv2.rectangle(roi_color,(n_x,n_y),(n_x+n_w,n_y+n_h),(0,255,0),0)\n",
    "    \n",
    "cv2.imshow('dst',img)\n",
    "cv2.waitKey(0)\n",
    "cv2.destroyAllWindows()"
   ]
  },
  {
   "cell_type": "code",
   "execution_count": 3,
   "metadata": {},
   "outputs": [
    {
     "name": "stdout",
     "output_type": "stream",
     "text": [
      "按q-结束视频录制(并不保存)，按s-保存并退出\n",
      "face= 0\n",
      "face= 0\n",
      "face= 0\n",
      "face= 0\n",
      "face= 0\n",
      "face= 0\n",
      "face= 0\n",
      "face= 0\n",
      "face= 0\n",
      "face= 0\n",
      "face= 0\n"
     ]
    }
   ],
   "source": [
    "#打开摄像头检测人脸和眼睛画框\n",
    "#按q-结束视频录制(并不保存)，按s-保存并退出\n",
    "import numpy as np\n",
    "import cv2\n",
    "import os\n",
    "cap=cv2.VideoCapture(0)\n",
    "codec=cv2.VideoWriter_fourcc(*'MJPG')#指定编码器\n",
    "fps=30.0\n",
    "frameSize=(640,480)\n",
    "out=cv2.VideoWriter('video.avi',codec,fps,frameSize)\n",
    "path='video.avi'\n",
    "print('按q-结束视频录制(并不保存)，按s-保存并退出')\n",
    "while(cap.isOpened()):\n",
    "    ret,frame=cap.read()\n",
    "    \n",
    "    if ret==True:\n",
    "        face_xml=cv2.CascadeClassifier('haarcascade_frontalface_alt.xml')\n",
    "        eye_xml=cv2.CascadeClassifier('haarcascade_eye.xml')\n",
    "        nose_xml=cv2.CascadeClassifier('haarcascade_mcs_nose.xml')\n",
    "        #load jpg\n",
    "        img=frame\n",
    "        # cv2.imshow('src',img)\n",
    "        # haar gray\n",
    "        gray=cv2.cvtColor(img,cv2.COLOR_BGR2GRAY)\n",
    "        # detect faces 1 data 2 scale 3 \n",
    "        faces=face_xml.detectMultiScale(gray,1.2,2)\n",
    "        print('face=',len(faces))\n",
    "        #draw\n",
    "        for (x,y,w,h) in faces:\n",
    "            cv2.rectangle(img,(x,y),(x+w,y+h),(255,0,0),2)\n",
    "            roi_face=gray[y:y+h,x:x+w]\n",
    "            roi_color=img[y:y+h,x:x+w]\n",
    "\n",
    "            #1 gray\n",
    "            eyes=eye_xml.detectMultiScale(roi_face)\n",
    "            print('eye=',len(eyes))\n",
    "            for (e_x,e_y,e_w,e_h) in eyes:\n",
    "                cv2.rectangle(roi_color,(e_x,e_y),(e_x+e_w,e_y+e_h),(255,0,0),0)\n",
    "            noses=nose_xml.detectMultiScale(roi_face)\n",
    "            print('noses=',len(noses))\n",
    "            for (n_x,n_y,n_w,n_h) in noses:\n",
    "                cv2.rectangle(roi_color,(n_x,n_y),(n_x+n_w,n_y+n_h),(0,255,0),0)\n",
    "        cv2.imshow('frame',frame)\n",
    "        out.write(frame)\n",
    "        if cv2.waitKey(1) & 0xFF==ord('s'):\n",
    "            # print(os.listdir(os.getcwd()))\n",
    "            break\n",
    "        elif cv2.waitKey(1) & 0xFF==ord('q'):\n",
    "            cap.release()\n",
    "            out.release()\n",
    "            \n",
    "            # print(os.listdir(os.getcwd()))\n",
    "            if os.path.exists(path):\n",
    "                os.remove(path)\n",
    "                break\n",
    "            break\n",
    "cap.release()\n",
    "out.release()\n",
    "cv2.destroyAllWindows()"
   ]
  },
  {
   "cell_type": "code",
   "execution_count": null,
   "metadata": {},
   "outputs": [],
   "source": [
    "\n"
   ]
  }
 ],
 "metadata": {
  "kernelspec": {
   "display_name": "Python 3",
   "language": "python",
   "name": "python3"
  },
  "language_info": {
   "codemirror_mode": {
    "name": "ipython",
    "version": 3
   },
   "file_extension": ".py",
   "mimetype": "text/x-python",
   "name": "python",
   "nbconvert_exporter": "python",
   "pygments_lexer": "ipython3",
   "version": "3.7.4"
  }
 },
 "nbformat": 4,
 "nbformat_minor": 2
}
