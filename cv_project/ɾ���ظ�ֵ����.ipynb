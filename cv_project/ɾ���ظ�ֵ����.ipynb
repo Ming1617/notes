{
 "cells": [
  {
   "cell_type": "code",
   "execution_count": 1,
   "metadata": {},
   "outputs": [],
   "source": [
    "import numpy as np\n",
    "import pandas as pd\n",
    "import sys"
   ]
  },
  {
   "cell_type": "code",
   "execution_count": 3,
   "metadata": {},
   "outputs": [
    {
     "name": "stdout",
     "output_type": "stream",
     "text": [
      "原始数据有：51551\n",
      "删除缺失值后数据有：51434\n"
     ]
    },
    {
     "data": {
      "text/html": [
       "<div>\n",
       "<style scoped>\n",
       "    .dataframe tbody tr th:only-of-type {\n",
       "        vertical-align: middle;\n",
       "    }\n",
       "\n",
       "    .dataframe tbody tr th {\n",
       "        vertical-align: top;\n",
       "    }\n",
       "\n",
       "    .dataframe thead th {\n",
       "        text-align: right;\n",
       "    }\n",
       "</style>\n",
       "<table border=\"1\" class=\"dataframe\">\n",
       "  <thead>\n",
       "    <tr style=\"text-align: right;\">\n",
       "      <th></th>\n",
       "      <th>content</th>\n",
       "      <th>channelName</th>\n",
       "      <th>title</th>\n",
       "    </tr>\n",
       "  </thead>\n",
       "  <tbody>\n",
       "    <tr>\n",
       "      <td>0</td>\n",
       "      <td>北京3月31日电 (记者 王恩博)随着中国金融业开放程度不断加深，越来越多外资机构来华展业。...</td>\n",
       "      <td>财经</td>\n",
       "      <td>在华外资银行保险机构数量稳步增长 总资产逾5万亿元</td>\n",
       "    </tr>\n",
       "    <tr>\n",
       "      <td>1</td>\n",
       "      <td>北京3月31日电 (记者 王恩博)记者3月31日从中国银保监会获悉，官方将坚决惩治重大金融风...</td>\n",
       "      <td>财经</td>\n",
       "      <td>银保监会：坚决惩治重大金融风险背后的腐败问题</td>\n",
       "    </tr>\n",
       "    <tr>\n",
       "      <td>2</td>\n",
       "      <td>天津3月31日电 (记者 张道正)京津冀交通一体化重点项目又有新进展。31日凌晨2时40分，...</td>\n",
       "      <td>财经</td>\n",
       "      <td>京津冀交通一体化持续推进 京滨铁路单跨最长连续梁顺利合龙</td>\n",
       "    </tr>\n",
       "    <tr>\n",
       "      <td>3</td>\n",
       "      <td>中新经纬客户端3月31日电 周三，A股三大指数小幅低开，能源设备、家用电器、汽车、造纸等板块...</td>\n",
       "      <td>财经</td>\n",
       "      <td>A股三大指数小幅低开 汽车股涨幅居前</td>\n",
       "    </tr>\n",
       "    <tr>\n",
       "      <td>4</td>\n",
       "      <td>华盛顿3月30日电 (记者 沙晗汀)国际货币基金组织(IMF)总裁格奥尔基耶娃当地时间30日...</td>\n",
       "      <td>财经</td>\n",
       "      <td>IMF总裁：预计全球经济增长好于预期但不确定性高</td>\n",
       "    </tr>\n",
       "  </tbody>\n",
       "</table>\n",
       "</div>"
      ],
      "text/plain": [
       "                                             content channelName  \\\n",
       "0  北京3月31日电 (记者 王恩博)随着中国金融业开放程度不断加深，越来越多外资机构来华展业。...          财经   \n",
       "1  北京3月31日电 (记者 王恩博)记者3月31日从中国银保监会获悉，官方将坚决惩治重大金融风...          财经   \n",
       "2  天津3月31日电 (记者 张道正)京津冀交通一体化重点项目又有新进展。31日凌晨2时40分，...          财经   \n",
       "3  中新经纬客户端3月31日电 周三，A股三大指数小幅低开，能源设备、家用电器、汽车、造纸等板块...          财经   \n",
       "4  华盛顿3月30日电 (记者 沙晗汀)国际货币基金组织(IMF)总裁格奥尔基耶娃当地时间30日...          财经   \n",
       "\n",
       "                          title  \n",
       "0     在华外资银行保险机构数量稳步增长 总资产逾5万亿元  \n",
       "1        银保监会：坚决惩治重大金融风险背后的腐败问题  \n",
       "2  京津冀交通一体化持续推进 京滨铁路单跨最长连续梁顺利合龙  \n",
       "3            A股三大指数小幅低开 汽车股涨幅居前  \n",
       "4      IMF总裁：预计全球经济增长好于预期但不确定性高  "
      ]
     },
     "execution_count": 3,
     "metadata": {},
     "output_type": "execute_result"
    }
   ],
   "source": [
    "path='C:\\\\Users\\\\Administrator\\\\Desktop\\\\text.xlsx'\n",
    "new_data = pd.read_excel(path,dtype=np.str_,encoding='utf-8',sheet_name=None)\n",
    "sheet_names = list(new_data.keys())\n",
    "df_concat = pd.DataFrame()\n",
    "for sheet_name in sheet_names:\n",
    "    df_sheet = new_data[sheet_name]\n",
    "    df_concat = pd.concat([df_concat, df_sheet])\n",
    "df_news = df_concat\n",
    "print('原始数据有：'+str(len(df_concat)))\n",
    "df_news = df_news.dropna()  # 删除缺失值\n",
    "print('删除缺失值后数据有：'+str(len(df_news)))\n",
    "df_news.head()"
   ]
  },
  {
   "cell_type": "code",
   "execution_count": 5,
   "metadata": {},
   "outputs": [
    {
     "name": "stdout",
     "output_type": "stream",
     "text": [
      "删除重复值后数据有：49552\n"
     ]
    }
   ],
   "source": [
    "df_news = df_news.drop_duplicates(['content','title'])  # 删除重复值\n",
    "print('删除重复值后数据有：'+str(len(df_news)))"
   ]
  },
  {
   "cell_type": "code",
   "execution_count": 6,
   "metadata": {},
   "outputs": [
    {
     "name": "stdout",
     "output_type": "stream",
     "text": [
      "13433\n"
     ]
    }
   ],
   "source": [
    "sums=0\n",
    "for i in df_news['channelName']:\n",
    "    if i=='财经':\n",
    "        sums=sums+1\n",
    "print(sums)"
   ]
  },
  {
   "cell_type": "code",
   "execution_count": 8,
   "metadata": {},
   "outputs": [
    {
     "data": {
      "text/plain": [
       "1979"
      ]
     },
     "execution_count": 8,
     "metadata": {},
     "output_type": "execute_result"
    }
   ],
   "source": [
    "sum(df_news['channelName']=='军事')"
   ]
  },
  {
   "cell_type": "code",
   "execution_count": 9,
   "metadata": {},
   "outputs": [
    {
     "data": {
      "text/plain": [
       "546"
      ]
     },
     "execution_count": 9,
     "metadata": {},
     "output_type": "execute_result"
    }
   ],
   "source": [
    "sum(df_news['channelName']=='汽车')"
   ]
  },
  {
   "cell_type": "code",
   "execution_count": null,
   "metadata": {},
   "outputs": [],
   "source": []
  }
 ],
 "metadata": {
  "kernelspec": {
   "display_name": "Python 3",
   "language": "python",
   "name": "python3"
  },
  "language_info": {
   "codemirror_mode": {
    "name": "ipython",
    "version": 3
   },
   "file_extension": ".py",
   "mimetype": "text/x-python",
   "name": "python",
   "nbconvert_exporter": "python",
   "pygments_lexer": "ipython3",
   "version": "3.7.4"
  }
 },
 "nbformat": 4,
 "nbformat_minor": 2
}
