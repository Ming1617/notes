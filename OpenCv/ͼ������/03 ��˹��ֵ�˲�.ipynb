{
 "cells": [
  {
   "cell_type": "code",
   "execution_count": 2,
   "metadata": {},
   "outputs": [
    {
     "name": "stdout",
     "output_type": "stream",
     "text": [
      "总用时 0.016033600000000092 秒\n"
     ]
    }
   ],
   "source": [
    "import cv2\n",
    "import numpy as np\n",
    "import time\n",
    "import copy\n",
    "start=time.perf_counter()\n",
    "img=cv2.imread('image1.jpg',1)\n",
    "imgInfo = img.shape\n",
    "height = imgInfo[0]\n",
    "width = imgInfo[1]\n",
    "pertotal=0.003     #总噪声占比\n",
    "persalt=0.1       #盐占比\n",
    "perpep=1-persalt  #椒占比\n",
    "NoiseImg=img.copy()\n",
    "NoiseNum=int(pertotal*height*width)\n",
    "\n",
    "for i in range(0,NoiseNum):\n",
    "    rows=np.random.randint(0,height-1)\n",
    "    cols=np.random.randint(0,width-1)\n",
    "    if (np.random.randint(0,100)<persalt*100):\n",
    "        NoiseImg[rows,cols]=(255,255,255)\n",
    "    else:\n",
    "        NoiseImg[rows,cols]=(0,0,0)\n",
    "\n",
    "end=time.perf_counter()\n",
    "print('总用时',end-start,'秒')"
   ]
  },
  {
   "cell_type": "code",
   "execution_count": 6,
   "metadata": {},
   "outputs": [
    {
     "name": "stdout",
     "output_type": "stream",
     "text": [
      "总用时 0.0647378999999546 秒\n"
     ]
    }
   ],
   "source": [
    "import cv2\n",
    "import numpy as np\n",
    "import copy\n",
    "import random\n",
    "import time\n",
    "start=time.perf_counter()\n",
    "img=cv2.imread('image1.jpg',1)\n",
    "imgInfo = img.shape\n",
    "height = imgInfo[0]\n",
    "width = imgInfo[1]\n",
    "\n",
    "pertotal=0.03#总噪声占比\n",
    "persalt=0.5#盐占比\n",
    "perpep=1-persalt#椒占比\n",
    "\n",
    "NoiseImg=img.copy()\n",
    "NoiseNum=int(pertotal*height*width)\n",
    "\n",
    "for i in range(0,NoiseNum):  \n",
    "    rows=np.random.randint(0,height-1)#产生0-（height-1）的随机数\n",
    "    cols=np.random.randint(0,width-1)\n",
    "    if (np.random.randint(0,100)<persalt*100):   #如果0-100之间小于10\n",
    "        NoiseImg[rows,cols]=(255,255,255)\n",
    "    else: #否则产生椒\n",
    "        NoiseImg[rows,cols]=(0,0,0)\n",
    "cv2.imshow('dst',NoiseImg)        \n",
    "cv2.imwrite('qq.jpg',NoiseImg)\n",
    "end=time.perf_counter()\n",
    "print('总用时',end-start,'秒')\n",
    "cv2.waitKey(0)\n",
    "\n",
    "cv2.destroyAllWindows()\n"
   ]
  },
  {
   "cell_type": "code",
   "execution_count": 6,
   "metadata": {},
   "outputs": [
    {
     "name": "stdout",
     "output_type": "stream",
     "text": [
      "总用时 12.876613200000008 秒\n"
     ]
    }
   ],
   "source": [
    "#均值滤波 滤波模板5*5  1/25\n",
    "#读取图片（还有噪声的图片）\n",
    "#用for循环对每个像素点进行一下操作（注意边界处的处理）\n",
    "#某个像素值周围的6*6个像素求和 然后求均值 赋给当前像素值\n",
    "import cv2\n",
    "import numpy as np\n",
    "import time\n",
    "start=time.perf_counter()\n",
    "# img = cv2.imread('image1.jpg',1)\n",
    "img=NoiseImg#有噪声图片\n",
    "imgInfo = img.shape\n",
    "height = imgInfo[0]\n",
    "width = imgInfo[1]\n",
    "dst = np.zeros((height,width,3),np.uint8)\n",
    "for i in range(height):\n",
    "    for j in range(width):\n",
    "        sum_b = int(0)\n",
    "        sum_g = int(0)\n",
    "        sum_r = int(0)\n",
    "        for m in range(-2,3):# -2 -1 0 1 2\n",
    "            for n in range(-2,3):\n",
    "                # 处理越界\n",
    "                if i + m >= height or i + m < 0:\n",
    "                    m = -m\n",
    "                if j + n >= width or j + n < 0:\n",
    "                    n = -n\n",
    "                (b,g,r) = img[i+m,j+n]\n",
    "                sum_b = sum_b+int(b)\n",
    "                sum_g = sum_g+int(g)\n",
    "                sum_r = sum_r+int(r)\n",
    "            \n",
    "        b = np.uint8(sum_b/25)\n",
    "        g = np.uint8(sum_g/25)\n",
    "        r = np.uint8(sum_r/25)\n",
    "        dst[i,j] = (b,g,r)\n",
    "\n",
    "cv2.imshow('src',img)\n",
    "cv2.imshow('dst',dst)\n",
    "end=time.perf_counter()\n",
    "print('总用时',end-start,'秒')\n",
    "cv2.waitKey(0)\n",
    "cv2.destroyAllWindows()#关闭所有窗口"
   ]
  },
  {
   "cell_type": "code",
   "execution_count": 8,
   "metadata": {},
   "outputs": [
    {
     "name": "stdout",
     "output_type": "stream",
     "text": [
      "总用时 0.12575760000004266 秒\n"
     ]
    }
   ],
   "source": [
    "#调用函数\n",
    "import cv2\n",
    "import time\n",
    "start=time.perf_counter()\n",
    "img=NoiseImg\n",
    "dst=cv2.blur(img,(5,5))\n",
    "cv2.imshow('src',img)\n",
    "cv2.imshow('dst',dst)\n",
    "end=time.perf_counter()\n",
    "print('总用时',end-start,'秒')\n",
    "cv2.waitKey(0)\n",
    "cv2.destroyAllWindows()"
   ]
  },
  {
   "cell_type": "code",
   "execution_count": 35,
   "metadata": {},
   "outputs": [],
   "source": [
    "#高斯滤波\n",
    "hx=np.array([[0.05,0.1,0.05],\n",
    "           [0.1,0.4,0.1],\n",
    "           [0.05,0.1,0.05]])\n",
    "img=NoiseImg\n",
    "imgInfo = img.shape\n",
    "height = imgInfo[0]\n",
    "width = imgInfo[1]\n",
    "dst=np.zeros(imgInfo,np.uint8)\n",
    "for i in range(1,height-1):\n",
    "    for j in range(1,width-1):\n",
    "        sum_b = int(0)\n",
    "        sum_g = int(0)\n",
    "        sum_r = int(0)\n",
    "        hb_x=img[i-1:i+2,j-1:j+2,0]\n",
    "        hg_x=img[i-1:i+2,j-1:j+2,1]\n",
    "        hr_x=img[i-1:i+2,j-1:j+2,2]\n",
    "        hb=hb_x*hx\n",
    "        hg=hg_x*hx\n",
    "        hr=hr_x*hx\n",
    "        for ii in range(3):\n",
    "            for jj in range(3):\n",
    "                sum_b=sum_b+hb[ii,jj]\n",
    "                sum_g=sum_g+hg[ii,jj]\n",
    "                sum_r=sum_r+hr[ii,jj]\n",
    "        (b,g,r)=(int(sum_b),int(sum_g),int(sum_r))\n",
    "        dst[i,j]=(b,g,r)\n",
    "cv2.imshow('dst',dst)\n",
    "cv2.imshow('imae',img)\n",
    "cv2.waitKey(0)\n",
    "cv2.destroyAllWindows()"
   ]
  },
  {
   "cell_type": "code",
   "execution_count": 34,
   "metadata": {},
   "outputs": [
    {
     "name": "stdout",
     "output_type": "stream",
     "text": [
      "(3, 3)\n"
     ]
    }
   ],
   "source": [
    "print(img[1-1:1+2,1-1:1+2,0].shape)"
   ]
  },
  {
   "cell_type": "code",
   "execution_count": 15,
   "metadata": {},
   "outputs": [
    {
     "name": "stdout",
     "output_type": "stream",
     "text": [
      "[51 37]\n"
     ]
    }
   ],
   "source": [
    "print(sum(img[1-1:1+1,1-1:1+1,0]))"
   ]
  },
  {
   "cell_type": "code",
   "execution_count": 20,
   "metadata": {},
   "outputs": [
    {
     "name": "stdout",
     "output_type": "stream",
     "text": [
      "[29.2 87.6 29.2]\n"
     ]
    }
   ],
   "source": [
    "hxb=img[1:2,1:2,0]*hx\n",
    "print(sum(hxb))"
   ]
  },
  {
   "cell_type": "code",
   "execution_count": 26,
   "metadata": {},
   "outputs": [
    {
     "name": "stdout",
     "output_type": "stream",
     "text": [
      "(3, 3)\n"
     ]
    }
   ],
   "source": [
    "print(hx.shape)"
   ]
  },
  {
   "cell_type": "code",
   "execution_count": 36,
   "metadata": {},
   "outputs": [],
   "source": [
    "#高斯滤波\n",
    "hx=np.array([[0.05,0.1,0.05],\n",
    "           [0.1,0.4,0.1],\n",
    "           [0.05,0.1,0.05]])\n",
    "img=NoiseImg\n",
    "imgInfo = img.shape\n",
    "height = imgInfo[0]\n",
    "width = imgInfo[1]\n",
    "dst=np.zeros(imgInfo,np.uint8)\n",
    "for i in range(1,height-1):\n",
    "    for j in range(1,width-1):\n",
    "        sum_b = int(0)\n",
    "        sum_g = int(0)\n",
    "        sum_r = int(0)\n",
    "        hb=img[i-1:i+2,j-1:j+2,0]*hx\n",
    "        hg=img[i-1:i+2,j-1:j+2,1]*hx\n",
    "        hr=img[i-1:i+2,j-1:j+2,2]*hx\n",
    "        for ii in range(3):\n",
    "            for jj in range(3):\n",
    "                sum_b=sum_b+hb[ii,jj]\n",
    "                sum_g=sum_g+hg[ii,jj]\n",
    "                sum_r=sum_r+hr[ii,jj]\n",
    "        (b,g,r)=(int(sum_b),int(sum_g),int(sum_r))\n",
    "        dst[i,j]=(b,g,r)\n",
    "cv2.imshow('dst',dst)\n",
    "cv2.imshow('imae',img)\n",
    "cv2.waitKey(0)\n",
    "cv2.destroyAllWindows()"
   ]
  },
  {
   "cell_type": "code",
   "execution_count": 5,
   "metadata": {},
   "outputs": [],
   "source": [
    "#均值滤波\n",
    "img=NoiseImg\n",
    "imgInfo = img.shape\n",
    "height = imgInfo[0]\n",
    "width = imgInfo[1]\n",
    "dst=np.zeros(imgInfo,np.uint8)\n",
    "for i in range(1,height-1):\n",
    "    for j in range(1,width-1):\n",
    "        hb=img[i-1:i+2,j-1:j+2,0]\n",
    "        hg=img[i-1:i+2,j-1:j+2,1]\n",
    "        hr=img[i-1:i+2,j-1:j+2,2]\n",
    "        hb=hb.reshape(9,)\n",
    "        hg=hg.reshape(9,)\n",
    "        hr=hr.reshape(9,)\n",
    "        (b,g,r)=(np.sort(hb)[4],np.sort(hg)[4],np.sort(hr)[4])\n",
    "        dst[i,j]=(b,g,r)\n",
    "cv2.imshow('dst',dst)\n",
    "cv2.imshow('imae',img)\n",
    "cv2.waitKey(0)\n",
    "cv2.destroyAllWindows()"
   ]
  },
  {
   "cell_type": "code",
   "execution_count": 3,
   "metadata": {},
   "outputs": [],
   "source": [
    "#中值滤波\n",
    "img=cv2.cvtColor(NoiseImg,cv2.COLOR_BGR2GRAY)\n",
    "imgInfo = img.shape\n",
    "height = imgInfo[0]\n",
    "width = imgInfo[1]\n",
    "dst=np.zeros(imgInfo,np.uint8)\n",
    "for i in range(1,height-1):\n",
    "    for j in range(1,width-1):\n",
    "        gx=img[i-1:i+2,j-1:j+2]\n",
    "        gx=gx.reshape(9,)\n",
    "        dst[i,j]=np.sort(gx)[4]\n",
    "\n",
    "\n",
    "cv2.imshow('dst',dst)\n",
    "cv2.imshow('imae',img)\n",
    "cv2.waitKey(0)\n",
    "cv2.destroyAllWindows()"
   ]
  },
  {
   "cell_type": "code",
   "execution_count": 62,
   "metadata": {},
   "outputs": [
    {
     "name": "stdout",
     "output_type": "stream",
     "text": [
      "0.1\n",
      "0.4\n",
      "1\n",
      "1\n",
      "1\n",
      "1\n",
      "1\n",
      "1\n",
      "1\n",
      "1\n",
      "1\n",
      "[0.05 0.4  0.1  0.1  0.1  0.1  0.05 0.05 0.05]\n"
     ]
    }
   ],
   "source": [
    "gx=np.array([[0.05,0.1,0.05],\n",
    "           [0.1,0.4,0.1],\n",
    "           [0.05,0.1,0.05]])\n",
    "gx=gx.reshape(9,)\n",
    "print(np.sort(gx)[4])\n",
    "print(gx[4])\n",
    "for i in gx:\n",
    "    print(1)\n",
    "for ii in range(9):\n",
    "    for jj in range(ii-1):\n",
    "        if gx[ii]>gx[jj+1]:\n",
    "            z=gx[ii]\n",
    "            gx[ii]=gx[jj+1]\n",
    "            gx[jj+1]=z\n",
    "print(gx)"
   ]
  },
  {
   "cell_type": "code",
   "execution_count": 1,
   "metadata": {},
   "outputs": [],
   "source": [
    "#中值滤波\n",
    "import cv2\n",
    "import numpy as np\n",
    "img= cv2.imread('image1.jpg',1)   #读取图片\n",
    "cv2.imshow('img',img)\n",
    "dst=cv2.medianBlur(img,3)\n",
    "cv2.imshow('dst',dst)  \n",
    "cv2.waitKey(0)\n",
    "cv2.destroyAllWindows()\n"
   ]
  },
  {
   "cell_type": "code",
   "execution_count": 74,
   "metadata": {},
   "outputs": [],
   "source": [
    "\n",
    "#双边滤波 调用函数 bilateralFilter\n",
    "import cv2\n",
    "img = cv2.imread('image1.jpg', 1)\n",
    "dst=cv2.bilateralFilter(img,25,100,100)\n",
    "cv2.imshow('dst',dst)\n",
    "cv2.imshow('img',img)\n",
    "cv2.waitKey(0)\n",
    "cv2.destroyAllWindows()\n"
   ]
  },
  {
   "cell_type": "code",
   "execution_count": 77,
   "metadata": {},
   "outputs": [],
   "source": [
    "#亮度增强\n",
    "import cv2\n",
    "import numpy as np\n",
    "img = cv2.imread('image1.jpg',1)\n",
    "imgInfo = img.shape\n",
    "height = imgInfo[0]\n",
    "width = imgInfo[1]\n",
    "cv2.imshow('src',img)\n",
    "dst = np.zeros((height,width,3),np.uint8)\n",
    "for i in range(0,height):\n",
    "    for j in range(0,width):\n",
    "        (b,g,r) = img[i,j]\n",
    "        bb = int(b)+40\n",
    "        gg = int(g)+40\n",
    "        rr = int(r)+40\n",
    "        if bb>255:\n",
    "            bb = 255\n",
    "        if gg>255:\n",
    "            gg = 255\n",
    "        if rr>255:\n",
    "            rr = 255\n",
    "        dst[i,j] = (bb,gg,rr)\n",
    "cv2.imshow('dst',dst)\n",
    "cv2.waitKey(0)\n",
    "cv2.destroyAllWindows()"
   ]
  },
  {
   "cell_type": "code",
   "execution_count": null,
   "metadata": {},
   "outputs": [],
   "source": []
  }
 ],
 "metadata": {
  "kernelspec": {
   "display_name": "Python 3",
   "language": "python",
   "name": "python3"
  },
  "language_info": {
   "codemirror_mode": {
    "name": "ipython",
    "version": 3
   },
   "file_extension": ".py",
   "mimetype": "text/x-python",
   "name": "python",
   "nbconvert_exporter": "python",
   "pygments_lexer": "ipython3",
   "version": "3.7.4"
  }
 },
 "nbformat": 4,
 "nbformat_minor": 2
}
