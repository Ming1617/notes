{
 "cells": [
  {
   "cell_type": "code",
   "execution_count": 27,
   "metadata": {},
   "outputs": [
    {
     "data": {
      "image/png": "[encoded data removed]",
      "text/plain": [
       "<Figure size 432x288 with 1 Axes>"
      ]
     },
     "metadata": {
      "needs_background": "light"
     },
     "output_type": "display_data"
    },
    {
     "data": {
      "image/png": "[encoded data removed]",
      "text/plain": [
       "<Figure size 432x288 with 1 Axes>"
      ]
     },
     "metadata": {
      "needs_background": "light"
     },
     "output_type": "display_data"
    },
    {
     "data": {
      "image/png": "[encoded data removed]",
      "text/plain": [
       "<Figure size 432x288 with 1 Axes>"
      ]
     },
     "metadata": {
      "needs_background": "light"
     },
     "output_type": "display_data"
    }
   ],
   "source": [
    "#1读取图片并转成彩色图\n",
    "#2计算每个像素值(0-255)的概率\n",
    "#3 计算每个像素值(0-255)的累计概率\n",
    "#4每一个累计概率乘以一个255得到一个新的像素值（总共有256个）\n",
    "#5赋值，把新的像素值(总共有256个)赋值给对应的像素点\n",
    "import cv2\n",
    "import numpy as np\n",
    "import math\n",
    "import matplotlib.pyplot as plt\n",
    "%matplotlib inline\n",
    "img=cv2.imread('image1.jpg',1)\n",
    "imgInfo = img.shape\n",
    "height = imgInfo[0]\n",
    "width = imgInfo[1]\n",
    "cv2.imshow('img',img)\n",
    "count_b = np.zeros(256,np.float)\n",
    "count_g = np.zeros(256,np.float)\n",
    "count_r = np.zeros(256,np.float)\n",
    "for i in range(0,height):\n",
    "    for j in range(0,width):\n",
    "        (b,g,r) = img[i,j]\n",
    "        count_b[int(b)] = count_b[int(b)]+1\n",
    "        count_g[int(g)] = count_g[int(g)]+1\n",
    "        count_r[int(r)] = count_r[int(r)]+1\n",
    "for i in range(0,255):\n",
    "    count_b[i] = count_b[i]/(height*width)\n",
    "    count_g[i] = count_g[i]/(height*width)\n",
    "    count_r[i] = count_r[i]/(height*width)\n",
    "sum_b = float(0)\n",
    "sum_g = float(0)\n",
    "sum_r = float(0)\n",
    "for i in range(0,256):\n",
    "    sum_b = sum_b+count_b[i]\n",
    "    sum_g = sum_g+count_g[i]\n",
    "    sum_r = sum_r+count_r[i]\n",
    "    count_b[i] = sum_b\n",
    "    count_g[i] = sum_g\n",
    "    count_r[i] = sum_r\n",
    "map_b = np.zeros(256,np.uint16)\n",
    "map_g = np.zeros(256,np.uint16)\n",
    "map_r = np.zeros(256,np.uint16)\n",
    "for i in range(0,256):#累计概率乘以一个255得到一个新的像素值\n",
    "    map_b[i] = np.uint16(count_b[i]*255)\n",
    "    map_g[i] = np.uint16(count_g[i]*255)\n",
    "    map_r[i] = np.uint16(count_r[i]*255)\n",
    "dst = np.zeros((height,width,3),np.uint8)\n",
    "for i in range(0,height):\n",
    "    for j in range(0,width):\n",
    "        (b,g,r) = img[i,j]\n",
    "        # 赋值，把新的像素值(总共有256个)赋值给对应的像素点\n",
    "        b = map_b[b]\n",
    "        g = map_g[g]\n",
    "        r = map_r[r]\n",
    "        dst[i,j] = (b,g,r)\n",
    "yr[-1:]=255\n",
    "x = np.linspace(0,255,256)\n",
    "yb=map_b\n",
    "yg = map_g\n",
    "yr = map_r\n",
    "yr[-1:]=255\n",
    "plt.bar(x,yb,0.9,alpha = 1 ,color = 'b')\n",
    "plt.show()\n",
    "plt.bar(x,yg,0.9,alpha = 1 ,color = 'g')\n",
    "plt.show()\n",
    "plt.bar(x,yr,0.9,alpha = 1 ,color = 'r')\n",
    "plt.show()\n",
    "cv2.imshow('dst',dst)\n",
    "cv2.waitKey(0)\n",
    "cv2.destroyAllWindows()"
   ]
  },
  {
   "cell_type": "code",
   "execution_count": 28,
   "metadata": {},
   "outputs": [
    {
     "data": {
      "image/png": "[encoded data removed]",
      "text/plain": [
       "<Figure size 432x288 with 1 Axes>"
      ]
     },
     "metadata": {
      "needs_background": "light"
     },
     "output_type": "display_data"
    },
    {
     "data": {
      "image/png": "[encoded data removed]",
      "text/plain": [
       "<Figure size 432x288 with 1 Axes>"
      ]
     },
     "metadata": {
      "needs_background": "light"
     },
     "output_type": "display_data"
    }
   ],
   "source": [
    "import cv2\n",
    "import numpy as np\n",
    "import math\n",
    "img=cv2.imread('image1.jpg',0)\n",
    "imgInfo = img.shape\n",
    "height = imgInfo[0]\n",
    "width = imgInfo[1]\n",
    "count = np.zeros(256,np.float)\n",
    "for i in range(0,height):\n",
    "    for j in range(0,width):\n",
    "        index=img[i,j]\n",
    "        count[index] = count[index]+1\n",
    "for i in range(0,255):#概率\n",
    "    count[i] = count[i]/(height*width)\n",
    "sum =float(0)\n",
    "for i in range(0,256):\n",
    "    sum = sum+count[i]\n",
    "    count[i] = sum\n",
    "map = np.zeros(256,np.uint16)\n",
    "for i in range(0,256):\n",
    "    map[i] = count[i]*255\n",
    "x = np.linspace(0,255,256)\n",
    "y=map\n",
    "plt.bar(x,y,0.9,alpha = 1 ,color = 'k')\n",
    "plt.show()\n",
    "dst = np.zeros((height,width),np.uint8)\n",
    "for i in range(0,height):\n",
    "    for j in range(0,width):\n",
    "        index = img[i,j]\n",
    "        img[i,j] = map[index]\n",
    "    \n",
    "hist=cv2.calcHist([img],[0],None,[256],[0.0,255.0])\n",
    "hist=hist.reshape(256,)\n",
    "for i in range(0,256):\n",
    "    hist[i] = hist[i]/(height*width)\n",
    "x = np.linspace(0,255,256)\n",
    "y=hist\n",
    "plt.bar(x,y,0.9,alpha = 1 ,color = 'y')\n",
    "plt.show()\n",
    "\n",
    "cv2.imshow('dst',img)\n",
    "cv2.waitKey(0)\n",
    "cv2.destroyAllWindows()"
   ]
  },
  {
   "cell_type": "code",
   "execution_count": 23,
   "metadata": {},
   "outputs": [
    {
     "name": "stdout",
     "output_type": "stream",
     "text": [
      "[  0   1   1   2   2   2   3   3   4   4   5   5   6   6   6   7   7   7\n",
      "   8   8   8   9   9   9  10  10  10  10  11  11  11  11  11  12  12  12\n",
      "  12  13  13  13  13  13  14  14  14  15  15  15  15  16  16  16  17  17\n",
      "  17  17  18  18  18  19  19  19  20  20  20  21  21  21  22  22  22  23\n",
      "  23  23  24  24  24  25  25  25  26  26  26  27  27  27  28  28  28  29\n",
      "  29  30  30  30  31  31  32  32  33  33  33  34  34  35  35  36  36  37\n",
      "  37  38  38  39  40  40  41  41  42  42  43  44  44  45  46  46  47  48\n",
      "  48  49  50  50  51  52  53  53  54  55  56  57  57  58  59  60  61  62\n",
      "  63  64  65  66  68  69  70  71  72  73  75  76  77  79  80  82  83  85\n",
      "  87  88  90  92  94  95  97  99 101 103 105 107 110 112 115 117 120 123\n",
      " 126 130 133 137 140 144 148 151 155 158 161 164 168 171 174 178 182 186\n",
      " 189 193 197 201 204 207 210 213 217 220 223 226 229 231 233 234 236 237\n",
      " 238 239 240 242 243 244 245 246 247 248 248 249 250 250 251 251 252 252\n",
      " 252 252 252 252 252 253 253 253 253 253 253 253 253 253 253 253 254 254\n",
      " 254 254 255 255]\n"
     ]
    },
    {
     "data": {
      "image/png": "[encoded data removed]",
      "text/plain": [
       "<Figure size 432x288 with 1 Axes>"
      ]
     },
     "metadata": {
      "needs_background": "light"
     },
     "output_type": "display_data"
    },
    {
     "data": {
      "image/png": "[encoded data removed]",
      "text/plain": [
       "<Figure size 432x288 with 1 Axes>"
      ]
     },
     "metadata": {
      "needs_background": "light"
     },
     "output_type": "display_data"
    },
    {
     "data": {
      "image/png": "[encoded data removed]",
      "text/plain": [
       "<Figure size 432x288 with 1 Axes>"
      ]
     },
     "metadata": {
      "needs_background": "light"
     },
     "output_type": "display_data"
    }
   ],
   "source": [
    "import cv2\n",
    "import numpy as np\n",
    "import matplotlib.pyplot as plt\n",
    "%matplotlib inline\n",
    "img = cv2.imread('image1.jpg',1)\n",
    "# cv2.imshow('src',img)\n",
    "\n",
    "imgInfo = img.shape\n",
    "height = imgInfo[0]\n",
    "width = imgInfo[1]\n",
    "\n",
    "count_b = np.zeros(256,np.float)\n",
    "count_g = np.zeros(256,np.float)\n",
    "count_r = np.zeros(256,np.float)\n",
    "for i in range(0,height):\n",
    "    for j in range(0,width):\n",
    "        (b,g,r) = img[i,j]\n",
    "        index_b = int(b)\n",
    "        index_g = int(g)\n",
    "        index_r = int(r)\n",
    "        count_b[index_b] = count_b[index_b]+1\n",
    "        count_g[index_g] = count_g[index_g]+1\n",
    "        count_r[index_r] = count_r[index_r]+1\n",
    "for i in range(0,255):\n",
    "    count_b[i] = count_b[i]/(height*width)\n",
    "    count_g[i] = count_g[i]/(height*width)\n",
    "    count_r[i] = count_r[i]/(height*width)\n",
    "#计算累计概率\n",
    "sum_b = float(0)\n",
    "sum_g = float(0)\n",
    "sum_r = float(0)\n",
    "for i in range(0,256):\n",
    "    sum_b = sum_b+count_b[i]\n",
    "    sum_g = sum_g+count_g[i]\n",
    "    sum_r = sum_r+count_r[i]\n",
    "    # 改\n",
    "    count_b[i] = sum_b\n",
    "    count_g[i] = sum_g\n",
    "    count_r[i] = sum_r\n",
    "#print(count)\n",
    "# 计算映射表 三个通道 改\n",
    "map_b = np.zeros(256,np.uint16)\n",
    "map_g = np.zeros(256,np.uint16)\n",
    "map_r = np.zeros(256,np.uint16)\n",
    "for i in range(0,256):\n",
    "    map_b[i] = np.uint16(count_b[i]*255)\n",
    "    map_g[i] = np.uint16(count_g[i]*255)\n",
    "    map_r[i] = np.uint16(count_r[i]*255)\n",
    "# 映射 \n",
    "dst = np.zeros((height,width,3),np.uint8)\n",
    "for i in range(0,height):\n",
    "    for j in range(0,width):\n",
    "        (b,g,r) = img[i,j]\n",
    "        # 改\n",
    "        b = map_b[b]\n",
    "        g = map_g[g]\n",
    "        r = map_r[r]\n",
    "        dst[i,j] = (b,g,r)\n",
    "x = np.linspace(0,255,256)\n",
    "yb=map_b\n",
    "yg = map_g\n",
    "yr = map_r\n",
    "print(yg)\n",
    "yr[-1:]=255\n",
    "plt.bar(x,yb,0.9,alpha = 1 ,color = 'b')\n",
    "plt.show()\n",
    "plt.bar(x,yg,0.9,alpha = 1 ,color = 'g')\n",
    "plt.show()\n",
    "plt.bar(x,yr,0.9,alpha = 1 ,color = 'r')\n",
    "plt.show()\n",
    "# cv2.imshow('dst',dst)\n",
    "# cv2.waitKey(0)\n",
    "# cv2.destroyAllWindows()"
   ]
  },
  {
   "cell_type": "code",
   "execution_count": null,
   "metadata": {},
   "outputs": [],
   "source": []
  }
 ],
 "metadata": {
  "kernelspec": {
   "display_name": "Python 3",
   "language": "python",
   "name": "python3"
  },
  "language_info": {
   "codemirror_mode": {
    "name": "ipython",
    "version": 3
   },
   "file_extension": ".py",
   "mimetype": "text/x-python",
   "name": "python",
   "nbconvert_exporter": "python",
   "pygments_lexer": "ipython3",
   "version": "3.7.4"
  }
 },
 "nbformat": 4,
 "nbformat_minor": 2
}
