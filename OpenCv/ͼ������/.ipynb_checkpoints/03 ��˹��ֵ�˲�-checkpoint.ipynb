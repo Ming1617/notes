{
 "cells": [
  {
   "cell_type": "code",
   "execution_count": 1,
   "metadata": {},
   "outputs": [
    {
     "name": "stdout",
     "output_type": "stream",
     "text": [
      "总用时 0.008084800000005998 秒\n"
     ]
    }
   ],
   "source": [
    "import cv2\n",
    "import numpy as np\n",
    "import time\n",
    "import copy\n",
    "start=time.perf_counter()\n",
    "img=cv2.imread('image1.jpg',1)\n",
    "imgInfo = img.shape\n",
    "height = imgInfo[0]\n",
    "width = imgInfo[1]\n",
    "pertotal=0.003     #总噪声占比\n",
    "persalt=0.1       #盐占比\n",
    "perpep=1-persalt  #椒占比\n",
    "NoiseImg=img.copy()\n",
    "NoiseNum=int(pertotal*height*width)\n",
    "\n",
    "for i in range(0,NoiseNum):\n",
    "    rows=np.random.randint(0,height-1)\n",
    "    cols=np.random.randint(0,width-1)\n",
    "    if (np.random.randint(0,100)<persalt*100):\n",
    "        NoiseImg[rows,cols]=(255,255,255)\n",
    "    else:\n",
    "        NoiseImg[rows,cols]=(0,0,0)\n",
    "\n",
    "end=time.perf_counter()\n",
    "print('总用时',end-start,'秒')"
   ]
  },
  {
   "cell_type": "code",
   "execution_count": 3,
   "metadata": {},
   "outputs": [
    {
     "name": "stdout",
     "output_type": "stream",
     "text": [
      "总用时 0.07545399999999347 秒\n"
     ]
    }
   ],
   "source": [
    "import cv2\n",
    "import numpy as np\n",
    "import copy\n",
    "import random\n",
    "import time\n",
    "start=time.perf_counter()\n",
    "img=cv2.imread('image1.jpg',1)\n",
    "imgInfo = img.shape\n",
    "height = imgInfo[0]\n",
    "width = imgInfo[1]\n",
    "\n",
    "pertotal=0.03#总噪声占比\n",
    "persalt=0.5#盐占比\n",
    "perpep=1-persalt#椒占比\n",
    "\n",
    "NoiseImg=img.copy()\n",
    "NoiseNum=int(pertotal*height*width)\n",
    "\n",
    "for i in range(0,NoiseNum):  \n",
    "    rows=np.random.randint(0,height-1)#产生0-（height-1）的随机数\n",
    "    cols=np.random.randint(0,width-1)\n",
    "    if (np.random.randint(0,100)<persalt*100):   #如果0-100之间小于10\n",
    "        NoiseImg[rows,cols]=(255,255,255)\n",
    "    else: #否则产生椒\n",
    "        NoiseImg[rows,cols]=(0,0,0)\n",
    "cv2.imshow('dst',NoiseImg)        \n",
    "cv2.imwrite('qq.jpg',NoiseImg)\n",
    "end=time.perf_counter()\n",
    "print('总用时',end-start,'秒')\n",
    "cv2.waitKey(0)\n",
    "\n",
    "cv2.destroyAllWindows()\n"
   ]
  },
  {
   "cell_type": "code",
   "execution_count": 11,
   "metadata": {},
   "outputs": [
    {
     "name": "stdout",
     "output_type": "stream",
     "text": [
      "总用时 20.11382179999987 秒\n"
     ]
    }
   ],
   "source": [
    "#均值滤波 滤波模板5*5  1/25\n",
    "#读取图片（还有噪声的图片）\n",
    "#用for循环对每个像素点进行一下操作（注意边界处的处理）\n",
    "#某个像素值周围的6*6个像素求和 然后求均值 赋给当前像素值\n",
    "import cv2\n",
    "import numpy as np\n",
    "import time\n",
    "start=time.perf_counter()\n",
    "# img = cv2.imread('image1.jpg',1)\n",
    "img=NoiseImg#有噪声图片\n",
    "imgInfo = img.shape\n",
    "height = imgInfo[0]\n",
    "width = imgInfo[1]\n",
    "dst = np.zeros((height,width,3),np.uint8)\n",
    "for i in range(height):\n",
    "    for j in range(width):\n",
    "        sum_b = int(0)\n",
    "        sum_g = int(0)\n",
    "        sum_r = int(0)\n",
    "        for m in range(-3,3):#-3 -2 -1 0 1 2\n",
    "            for n in range(-3,3):\n",
    "                # 处理越界\n",
    "                if i + m >= height or i + m < 0:\n",
    "                    m = -m\n",
    "                if j + n >= width or j + n < 0:\n",
    "                    n = -n\n",
    "                (b,g,r) = img[i+m,j+n]\n",
    "                sum_b = sum_b+int(b)\n",
    "                sum_g = sum_g+int(g)\n",
    "                sum_r = sum_r+int(r)\n",
    "            \n",
    "        b = np.uint8(sum_b/36)\n",
    "        g = np.uint8(sum_g/36)\n",
    "        r = np.uint8(sum_r/36)\n",
    "        dst[i,j] = (b,g,r)\n",
    "\n",
    "cv2.imshow('src',img)\n",
    "cv2.imshow('dst',dst)\n",
    "end=time.perf_counter()\n",
    "print('总用时',end-start,'秒')\n",
    "cv2.waitKey(0)\n",
    "cv2.destroyAllWindows()#关闭所有窗口"
   ]
  },
  {
   "cell_type": "code",
   "execution_count": null,
   "metadata": {},
   "outputs": [],
   "source": []
  }
 ],
 "metadata": {
  "kernelspec": {
   "display_name": "Python 3",
   "language": "python",
   "name": "python3"
  },
  "language_info": {
   "codemirror_mode": {
    "name": "ipython",
    "version": 3
   },
   "file_extension": ".py",
   "mimetype": "text/x-python",
   "name": "python",
   "nbconvert_exporter": "python",
   "pygments_lexer": "ipython3",
   "version": "3.7.4"
  }
 },
 "nbformat": 4,
 "nbformat_minor": 2
}
