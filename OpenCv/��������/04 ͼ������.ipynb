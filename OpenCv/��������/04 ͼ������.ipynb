{
 "cells": [
  {
   "cell_type": "code",
   "execution_count": 1,
   "metadata": {},
   "outputs": [],
   "source": [
    "#图像轮廓要处理的是二值图（黑白图）\n",
    "#对象是白色的 背景是黑色的\n",
    "import cv2\n",
    "import numpy as np\n",
    "import copy"
   ]
  },
  {
   "cell_type": "code",
   "execution_count": 2,
   "metadata": {},
   "outputs": [],
   "source": [
    "img=cv2.imread('img.jpg')\n",
    "gray=cv2.cvtColor(img,cv2.COLOR_BGR2GRAY)\n",
    "ret,binary=cv2.threshold(gray,127,255,cv2.THRESH_BINARY)\n",
    "image,contours,hierarchy=cv2.findContours(binary,cv2.RETR_TREE,cv2.CHAIN_APPROX_SIMPLE)\n",
    "co=img.copy()\n",
    "r=cv2.drawContours(co,contours,-1,(0,0,255),1)\n",
    "cv2.imshow('src',img)\n",
    "cv2.imshow('dst',r)\n",
    "cv2.waitKey(0)\n",
    "cv2.destroyAllWindows()\n",
    "\n"
   ]
  },
  {
   "cell_type": "code",
   "execution_count": 3,
   "metadata": {},
   "outputs": [
    {
     "name": "stdout",
     "output_type": "stream",
     "text": [
      "5\n"
     ]
    }
   ],
   "source": [
    "img=cv2.imread('img.jpg')\n",
    "cv2.imshow('img',img)\n",
    "gary=cv2.cvtColor(img,cv2.COLOR_BGR2GRAY)\n",
    "r,b=cv2.threshold(gary,127,255,cv2.THRESH_BINARY)\n",
    "image,contours,hierarchy=cv2.findContours(b,\n",
    "                                         cv2.RETR_EXTERNAL,\n",
    "                                         cv2.CHAIN_APPROX_SIMPLE)\n",
    "n=len(contours)\n",
    "print(n)\n",
    "contoursimg=[]\n",
    "for i in range(n):\n",
    "    temp=np.zeros(img.shape,np.uint8)\n",
    "    contoursimg.append(temp)\n",
    "    contoursimg[i]=cv2.drawContours(\n",
    "            contoursimg[i],contours,i,(255,255,255),5)\n",
    "    cv2.imshow('contours['+str(i)+']',contoursimg[i])\n",
    "cv2.waitKey(0)\n",
    "cv2.destroyAllWindows()"
   ]
  },
  {
   "cell_type": "code",
   "execution_count": 4,
   "metadata": {},
   "outputs": [
    {
     "name": "stdout",
     "output_type": "stream",
     "text": [
      "5\n"
     ]
    }
   ],
   "source": [
    "#图像轮廓  针对的是二值图（黑白图） 对象是白色，背景是黑色\n",
    "#先展示原图，再去循环依次展示轮廓图\n",
    "import cv2\n",
    "import numpy as np\n",
    "img= cv2.imread('img.jpg')\n",
    "gray = cv2.cvtColor(img,cv2.COLOR_BGR2GRAY)\n",
    "ret, binarly = cv2.threshold(gray,127,255,cv2.THRESH_BINARY)\n",
    "image,contours, hierarchy =cv2.findContours(binary,cv2.RETR_TREE, cv2.CHAIN_APPROX_SIMPLE)\n",
    "#co=img.copy()\n",
    "#r=cv2.drawContours(co,contours,-1,(0,0,255),1)\n",
    "n=len(contours)\n",
    "print(n)\n",
    "co=[]\n",
    "for i in range(0,n):\n",
    "    temp=np.zeros(img.shape,np.uint8)\n",
    "    co.append(temp)\n",
    "    co[i]=img.copy()\n",
    "    co[i]=cv2.drawContours(co[i],contours,-1,(0,0,255),1)\n",
    "    cv2.imshow('contours['+str(i)+']',co[i])\n",
    "cv2.imshow(\"original\" ,img)\n",
    "#cv2.imshow(\"result\",r)\n",
    "cv2.waitKey(0)\n",
    "cv2.destroyAllWindows()"
   ]
  },
  {
   "cell_type": "code",
   "execution_count": 5,
   "metadata": {},
   "outputs": [
    {
     "name": "stdout",
     "output_type": "stream",
     "text": [
      "5\n"
     ]
    }
   ],
   "source": [
    "img= cv2.imread('img.jpg')\n",
    "gray = cv2.cvtColor(img,cv2.COLOR_BGR2GRAY)\n",
    "ret, binarly = cv2.threshold(gray,127,255,cv2.THRESH_BINARY)\n",
    "image,contours, hierarchy =cv2.findContours(binary,cv2.RETR_TREE, cv2.CHAIN_APPROX_SIMPLE)\n",
    "#co=img.copy()\n",
    "#r=cv2.drawContours(co,contours,-1,(0,0,255),1)\n",
    "n=len(contours)\n",
    "print(n)\n",
    "co=[]\n",
    "for i in range(0,n):\n",
    "    co.append(img)\n",
    "    co[i]=img.copy()\n",
    "    co[i]=cv2.drawContours(co[i],contours,-1,(0,0,255),1)\n",
    "    cv2.imshow('contours',co[i])\n",
    "cv2.imshow(\"original\" ,img)\n",
    "#cv2.imshow(\"result\",r)\n",
    "cv2.waitKey(0)\n",
    "cv2.destroyAllWindows()"
   ]
  },
  {
   "cell_type": "code",
   "execution_count": null,
   "metadata": {},
   "outputs": [],
   "source": []
  },
  {
   "cell_type": "code",
   "execution_count": null,
   "metadata": {},
   "outputs": [],
   "source": []
  }
 ],
 "metadata": {
  "kernelspec": {
   "display_name": "Python 3",
   "language": "python",
   "name": "python3"
  },
  "language_info": {
   "codemirror_mode": {
    "name": "ipython",
    "version": 3
   },
   "file_extension": ".py",
   "mimetype": "text/x-python",
   "name": "python",
   "nbconvert_exporter": "python",
   "pygments_lexer": "ipython3",
   "version": "3.7.4"
  }
 },
 "nbformat": 4,
 "nbformat_minor": 2
}
