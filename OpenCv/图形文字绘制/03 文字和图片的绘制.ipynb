{
 "cells": [
  {
   "cell_type": "code",
   "execution_count": 1,
   "metadata": {},
   "outputs": [],
   "source": [
    "import cv2\n",
    "import numpy as np\n",
    "img=cv2.imread('image1.jpg',1)\n",
    "font=cv2.FONT_HERSHEY_PLAIN\n",
    "cv2.rectangle(img,(120,10),(390,200),(255,0,255),3)\n",
    "#添加文字 1 dst 2 content 3 左上角坐标 4 字体 5字体大小 6 color 7 lin width\n",
    "cv2.putText(img,'this is dog',(170,80),font,2,(200,200,10),2,cv2.LINE_AA)\n",
    "cv2.imshow('image',img)\n",
    "cv2.waitKey(0)\n",
    "cv2.destroyAllWindows()"
   ]
  },
  {
   "cell_type": "code",
   "execution_count": 2,
   "metadata": {},
   "outputs": [
    {
     "name": "stdout",
     "output_type": "stream",
     "text": [
      "512\n",
      "291\n",
      "(291, 512)\n",
      "(728, 1280)\n"
     ]
    }
   ],
   "source": [
    "img=cv2.imread('image1.jpg',0)\n",
    "dst=cv2.resize(img,None,fx=2.5,fy=2.5,interpolation=cv2.INTER_CUBIC)\n",
    "imgInfo = img.shape\n",
    "height = imgInfo[0]\n",
    "width = imgInfo[1]\n",
    "print(width)\n",
    "print(height)\n",
    "print(img.shape)\n",
    "print(dst.shape)\n",
    "\n",
    "for i in range(height):\n",
    "    for j in range(width):\n",
    "        dst[i+437,j+768]=img[i,j]\n",
    "\n",
    "cv2.imshow('img',img)\n",
    "cv2.imshow('image',dst)\n",
    "cv2.waitKey(0)\n",
    "cv2.destroyAllWindows()"
   ]
  },
  {
   "cell_type": "code",
   "execution_count": null,
   "metadata": {},
   "outputs": [],
   "source": []
  }
 ],
 "metadata": {
  "kernelspec": {
   "display_name": "Python 3",
   "language": "python",
   "name": "python3"
  },
  "language_info": {
   "codemirror_mode": {
    "name": "ipython",
    "version": 3
   },
   "file_extension": ".py",
   "mimetype": "text/x-python",
   "name": "python",
   "nbconvert_exporter": "python",
   "pygments_lexer": "ipython3",
   "version": "3.7.4"
  }
 },
 "nbformat": 4,
 "nbformat_minor": 2
}
