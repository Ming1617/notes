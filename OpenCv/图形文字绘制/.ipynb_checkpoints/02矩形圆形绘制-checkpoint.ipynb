{
 "cells": [
  {
   "cell_type": "code",
   "execution_count": 2,
   "metadata": {},
   "outputs": [],
   "source": [
    "import cv2\n",
    "import numpy as np"
   ]
  },
  {
   "cell_type": "code",
   "execution_count": 3,
   "metadata": {},
   "outputs": [],
   "source": [
    "newImgInfo=(600,500,3)"
   ]
  },
  {
   "cell_type": "code",
   "execution_count": 4,
   "metadata": {},
   "outputs": [],
   "source": [
    "dst=np.zeros((newImgInfo),np.uint8)"
   ]
  },
  {
   "cell_type": "code",
   "execution_count": 14,
   "metadata": {},
   "outputs": [],
   "source": [
    "#               左上角坐标点  右下角坐标点\n",
    "dst=cv2.rectangle(dst,(200,200),   (60,60),(0,0,255),2)\n",
    "#red-颜色\n",
    "#2-线条宽度\n",
    "cv2.imshow('dst2',dst)\n",
    "cv2.waitKey(0)\n",
    "cv2.destroyAllWindows()\n",
    "dst=np.zeros((newImgInfo),np.uint8)"
   ]
  },
  {
   "cell_type": "code",
   "execution_count": 18,
   "metadata": {},
   "outputs": [],
   "source": [
    "cv2.rectangle(dst,(50,200),   (220,280),(255,0,0),-1)\n",
    "#-1 表示填充\n",
    "cv2.imshow('dst2',dst)\n",
    "cv2.waitKey(0)\n",
    "cv2.destroyAllWindows()\n",
    "dst=np.zeros((newImgInfo),np.uint8)"
   ]
  },
  {
   "cell_type": "code",
   "execution_count": 16,
   "metadata": {},
   "outputs": [],
   "source": [
    "dst=np.zeros((300,300,3),dtype='uint8')\n",
    "(cx,cy)=dst.shape[1]//2,dst.shape[0]//2\n",
    "white=(255,255,255)\n",
    "for r in range(0,151,15):\n",
    "    cv2.circle(dst,(cx,cy),r,white,2)\n",
    "cv2.imshow('dst2',dst)\n",
    "cv2.waitKey(0)\n",
    "cv2.destroyAllWindows()\n",
    "dst=np.zeros((newImgInfo),np.uint8)\n",
    "# (cx,cy) - 圆心\n",
    "# r - 半径\n",
    "# white - 颜色\n",
    "# 2 - 线宽度"
   ]
  },
  {
   "cell_type": "code",
   "execution_count": 20,
   "metadata": {},
   "outputs": [],
   "source": [
    "image=np.zeros((300,300,3),dtype='uint8')\n",
    "for i in range(10):\n",
    "    #半径取值\n",
    "    radius=np.random.randint(5,200)\n",
    "    #颜色取值\n",
    "    color=np.random.randint(0,255,size=(3,)).tolist()\n",
    "    #圆心取值\n",
    "    pt=np.random.randint(0,300,size=(2,))\n",
    "    #画图\n",
    "    cv2.circle(image,tuple(pt),radius,color,-1)\n",
    "cv2.imshow('dst2',image)\n",
    "cv2.waitKey(0)\n",
    "cv2.destroyAllWindows()\n",
    "dst=np.zeros((newImgInfo),np.uint8)"
   ]
  },
  {
   "cell_type": "code",
   "execution_count": 27,
   "metadata": {},
   "outputs": [],
   "source": [
    "dst=np.zeros((600,500,3),np.uint8)\n",
    "cv2.line(dst,(100,100),(100,300),(0,0,255),20,cv2.LINE_AA)\n",
    "cv2.line(dst,(100,300),(400,300),(255,0,255),20,cv2.LINE_AA)\n",
    "cv2.line(dst,(400,300),(400,100),(0,255,0),20,cv2.LINE_AA)\n",
    "cv2.line(dst,(400,100),(100,100),(0,255,0),20,cv2.LINE_AA)\n",
    "cv2.imshow('dst2',dst)\n",
    "cv2.waitKey(0)\n",
    "cv2.destroyAllWindows()"
   ]
  },
  {
   "cell_type": "code",
   "execution_count": null,
   "metadata": {},
   "outputs": [],
   "source": []
  }
 ],
 "metadata": {
  "kernelspec": {
   "display_name": "Python 3",
   "language": "python",
   "name": "python3"
  },
  "language_info": {
   "codemirror_mode": {
    "name": "ipython",
    "version": 3
   },
   "file_extension": ".py",
   "mimetype": "text/x-python",
   "name": "python",
   "nbconvert_exporter": "python",
   "pygments_lexer": "ipython3",
   "version": "3.7.4"
  }
 },
 "nbformat": 4,
 "nbformat_minor": 2
}
