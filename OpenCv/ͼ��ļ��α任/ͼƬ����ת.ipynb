{
 "cells": [
  {
   "cell_type": "code",
   "execution_count": 6,
   "metadata": {},
   "outputs": [],
   "source": [
    "import cv2\n",
    "import numpy as np\n",
    "\n",
    "#定义旋转动作\n",
    "img = cv2.imread('image1.jpg',1)\n",
    "imgshape=img.shape\n",
    "(h,w)=imgshape[0:2]\n",
    "(cx,cy)=w//2,h//2\n",
    "#(cx,cy)选装中心点\n",
    "#45-逆时针旋转45度   负数为顺时针旋转\n",
    "#1.0-缩放\n",
    "m=cv2.getRotationMatrix2D((cx,cy),45,1.0)\n",
    "image=cv2.warpAffine(img,m,(w,h))\n",
    "cv2.imshow('image',img)\n",
    "cv2.imshow('dst2',image)\n",
    "cv2.waitKey(0)\n",
    "cv2.destroyAllWindows()"
   ]
  },
  {
   "cell_type": "code",
   "execution_count": null,
   "metadata": {},
   "outputs": [],
   "source": []
  }
 ],
 "metadata": {
  "kernelspec": {
   "display_name": "Python 3",
   "language": "python",
   "name": "python3"
  },
  "language_info": {
   "codemirror_mode": {
    "name": "ipython",
    "version": 3
   },
   "file_extension": ".py",
   "mimetype": "text/x-python",
   "name": "python",
   "nbconvert_exporter": "python",
   "pygments_lexer": "ipython3",
   "version": "3.7.4"
  }
 },
 "nbformat": 4,
 "nbformat_minor": 2
}
