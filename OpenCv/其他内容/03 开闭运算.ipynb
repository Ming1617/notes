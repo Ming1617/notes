{
 "cells": [
  {
   "cell_type": "code",
   "execution_count": 1,
   "metadata": {},
   "outputs": [],
   "source": [
    "import numpy as np\n",
    "import cv2"
   ]
  },
  {
   "cell_type": "code",
   "execution_count": 22,
   "metadata": {},
   "outputs": [],
   "source": [
    "#开运算 先腐蚀再膨胀\n",
    "img=cv2.imread('erode.bmp')\n",
    "k=np.ones((10,10),np.uint8)\n",
    "r=cv2.morphologyEx(img,cv2.MORPH_OPEN,k)\n",
    "cv2.imshow('img',img)\n",
    "cv2.imshow('dst',r)\n",
    "cv2.waitKey(0)\n",
    "cv2.destroyAllWindows()"
   ]
  },
  {
   "cell_type": "code",
   "execution_count": 18,
   "metadata": {},
   "outputs": [],
   "source": [
    "#闭运算 先膨胀后腐蚀\n",
    "img=cv2.imread('closing.bmp')\n",
    "k=np.ones((10,10),np.uint8)\n",
    "r=cv2.morphologyEx(img,cv2.MORPH_CLOSE,k,iterations=1)\n",
    "cv2.imshow('img',img)\n",
    "cv2.imshow('dst',r)\n",
    "cv2.waitKey(0)\n",
    "cv2.destroyAllWindows()"
   ]
  },
  {
   "cell_type": "code",
   "execution_count": 24,
   "metadata": {},
   "outputs": [],
   "source": [
    "#先腐蚀再膨胀\n",
    "img=cv2.imread('erode.bmp',cv2.IMREAD_UNCHANGED)\n",
    "kernel = np.ones((10,10),np.uint8)\n",
    "erosion = cv2.erode(img,kernel)\n",
    "erosion = cv2.dilate(erosion,kernel,iterations=2)\n",
    "cv2.imshow(\"img\",img)\n",
    "cv2.imshow(\"erosion\",erosion)\n",
    "cv2.waitKey(0)\n",
    "cv2.destroyAllWindows()"
   ]
  },
  {
   "cell_type": "code",
   "execution_count": null,
   "metadata": {},
   "outputs": [],
   "source": []
  }
 ],
 "metadata": {
  "kernelspec": {
   "display_name": "Python 3",
   "language": "python",
   "name": "python3"
  },
  "language_info": {
   "codemirror_mode": {
    "name": "ipython",
    "version": 3
   },
   "file_extension": ".py",
   "mimetype": "text/x-python",
   "name": "python",
   "nbconvert_exporter": "python",
   "pygments_lexer": "ipython3",
   "version": "3.7.4"
  }
 },
 "nbformat": 4,
 "nbformat_minor": 2
}
