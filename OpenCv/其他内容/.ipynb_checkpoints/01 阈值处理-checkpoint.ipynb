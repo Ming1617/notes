{
 "cells": [
  {
   "cell_type": "code",
   "execution_count": null,
   "metadata": {},
   "outputs": [],
   "source": [
    "#cv2.threshold() 进行函数的阈值化处理"
   ]
  },
  {
   "cell_type": "code",
   "execution_count": 27,
   "metadata": {},
   "outputs": [],
   "source": [
    "import cv2\n",
    "import numpy as np\n",
    "import matplotlib.pyplot as plt"
   ]
  },
  {
   "cell_type": "markdown",
   "metadata": {},
   "source": [
    "# 二值化阈值处理"
   ]
  },
  {
   "cell_type": "code",
   "execution_count": 28,
   "metadata": {},
   "outputs": [
    {
     "name": "stdout",
     "output_type": "stream",
     "text": [
      "img=\n",
      " [[  0 205  15  57 244]\n",
      " [191 164  73 172 109]\n",
      " [218 194  48 236 242]\n",
      " [123  97 196  48 178]]\n",
      "t= 127.0\n",
      "rst=\n",
      " [[  0 255   0   0 255]\n",
      " [255 255   0 255   0]\n",
      " [255 255   0 255 255]\n",
      " [  0   0 255   0 255]]\n"
     ]
    }
   ],
   "source": [
    "# img=cv2.imread('image1.jpg',1)\n",
    "img=np.random.randint(0,256,size=(4,5),dtype=np.uint8)\n",
    "t,rst=cv2.threshold(img,127,255,cv2.THRESH_BINARY)\n",
    "print('img=\\n',img)\n",
    "print('t=',t)\n",
    "print('rst=\\n',rst)"
   ]
  },
  {
   "cell_type": "code",
   "execution_count": 41,
   "metadata": {},
   "outputs": [],
   "source": [
    "#二值化阈值处理\n",
    "img=cv2.imread('image1.jpg',1)\n",
    "img=cv2.cvtColor(img,cv2.COLOR_BGR2GRAY)\n",
    "r,dst=cv2.threshold(img,127,255,cv2.THRESH_BINARY)\n",
    "# print(dst.shape)\n",
    "# print(type(dst))\n",
    "cv2.imshow('img',img)\n",
    "cv2.imshow('dst',dst)\n",
    "cv2.waitKey(0)\n",
    "cv2.destroyAllWindows()\n",
    "# img=cv2.cvtColor(img,cv2.COLOR_BGR2RGB)#BGR转换为RGB位图\n",
    "# plt.imshow(dst)\n",
    "# plt.axis('off')#去掉坐标\n",
    "# plt.show()\n",
    "# plt.imshow(img)\n",
    "# plt.axis('off')#去掉坐标\n",
    "# plt.show()"
   ]
  },
  {
   "cell_type": "code",
   "execution_count": 42,
   "metadata": {},
   "outputs": [],
   "source": [
    "img=cv2.imread('image1.jpg',1)\n",
    "img=cv2.cvtColor(img,cv2.COLOR_BGR2GRAY)\n",
    "imgInfo = img.shape\n",
    "height = imgInfo[0]\n",
    "width = imgInfo[1]\n",
    "thresh=127\n",
    "dst=np.zeros(imgInfo,np.uint8)\n",
    "for i in range(height):\n",
    "    for j in range(width):\n",
    "        px=img[i,j]\n",
    "        if px< thresh :\n",
    "            dst[i,j]=0\n",
    "        else:\n",
    "            dst[i,j]=255\n",
    "cv2.imshow('img',img)\n",
    "cv2.imshow('dst',dst)\n",
    "cv2.waitKey(0)\n",
    "cv2.destroyAllWindows()"
   ]
  },
  {
   "cell_type": "markdown",
   "metadata": {},
   "source": [
    "# 反二值化阈值处理"
   ]
  },
  {
   "cell_type": "code",
   "execution_count": 17,
   "metadata": {},
   "outputs": [
    {
     "name": "stdout",
     "output_type": "stream",
     "text": [
      "img=\n",
      " [[ 22  81 252  60  36]\n",
      " [ 45  98 128  11  22]\n",
      " [157 127 110  33 139]\n",
      " [149 125  49   0 206]]\n",
      "t= 127.0\n",
      "rst=\n",
      " [[255 255   0 255 255]\n",
      " [255 255   0 255 255]\n",
      " [  0 255 255 255   0]\n",
      " [  0 255 255 255   0]]\n"
     ]
    }
   ],
   "source": [
    "img=np.random.randint(0,256,size=(4,5),dtype=np.uint8)\n",
    "t,rst=cv2.threshold(img,127,255,cv2.THRESH_BINARY_INV)\n",
    "print('img=\\n',img)\n",
    "print('t=',t)\n",
    "print('rst=\\n',rst)"
   ]
  },
  {
   "cell_type": "code",
   "execution_count": 45,
   "metadata": {},
   "outputs": [],
   "source": [
    "img=cv2.imread('image1.jpg',0)\n",
    "r,dst=cv2.threshold(img,127,255,cv2.THRESH_BINARY_INV)\n",
    "# print(dst.shape)\n",
    "# print(type(dst))\n",
    "cv2.imshow('img',img)\n",
    "cv2.imshow('dst',dst)\n",
    "cv2.waitKey(0)\n",
    "cv2.destroyAllWindows()"
   ]
  },
  {
   "cell_type": "code",
   "execution_count": 43,
   "metadata": {},
   "outputs": [],
   "source": [
    "img=cv2.imread('image1.jpg',1)\n",
    "img=cv2.cvtColor(img,cv2.COLOR_BGR2GRAY)\n",
    "imgInfo = img.shape\n",
    "height = imgInfo[0]\n",
    "width = imgInfo[1]\n",
    "thresh=127\n",
    "dst=np.zeros(imgInfo,np.uint8)\n",
    "for i in range(height):\n",
    "    for j in range(width):\n",
    "        px=img[i,j]\n",
    "        if px< thresh :\n",
    "            dst[i,j]=255\n",
    "        else:\n",
    "            dst[i,j]=0\n",
    "cv2.imshow('img',img)\n",
    "cv2.imshow('dst',dst)\n",
    "cv2.waitKey(0)\n",
    "cv2.destroyAllWindows()"
   ]
  },
  {
   "cell_type": "markdown",
   "metadata": {},
   "source": [
    "# 截断阈值处理"
   ]
  },
  {
   "cell_type": "code",
   "execution_count": 19,
   "metadata": {},
   "outputs": [
    {
     "name": "stdout",
     "output_type": "stream",
     "text": [
      "img=\n",
      " [[237  31 224 126  38]\n",
      " [ 58 215  20 134  89]\n",
      " [  6  16 155 240  12]\n",
      " [126 171  88  69  24]]\n",
      "t= 127.0\n",
      "rst=\n",
      " [[127  31 127 126  38]\n",
      " [ 58 127  20 127  89]\n",
      " [  6  16 127 127  12]\n",
      " [126 127  88  69  24]]\n"
     ]
    }
   ],
   "source": [
    "img=np.random.randint(0,256,size=(4,5),dtype=np.uint8)\n",
    "t,rst=cv2.threshold(img,127,255,cv2.THRESH_TRUNC)\n",
    "print('img=\\n',img)\n",
    "print('t=',t)\n",
    "print('rst=\\n',rst)"
   ]
  },
  {
   "cell_type": "code",
   "execution_count": 53,
   "metadata": {},
   "outputs": [],
   "source": [
    "img=cv2.imread('image1.jpg',0)\n",
    "r,dst=cv2.threshold(img,127,255,cv2.THRESH_TRUNC)\n",
    "# print(dst.shape)\n",
    "# print(type(dst))\n",
    "cv2.imshow('img',img)\n",
    "cv2.imshow('dst',dst)\n",
    "cv2.waitKey(0)\n",
    "cv2.destroyAllWindows()"
   ]
  },
  {
   "cell_type": "code",
   "execution_count": 51,
   "metadata": {},
   "outputs": [],
   "source": [
    "img=cv2.imread('image1.jpg',1)\n",
    "img=cv2.cvtColor(img,cv2.COLOR_BGR2GRAY)\n",
    "imgInfo = img.shape\n",
    "height = imgInfo[0]\n",
    "width = imgInfo[1]\n",
    "thresh=127\n",
    "dst=np.zeros(imgInfo,np.uint8)\n",
    "for i in range(height):\n",
    "    for j in range(width):\n",
    "        px=img[i,j]\n",
    "        if px>thresh :\n",
    "            dst[i,j]=thresh\n",
    "        else:\n",
    "            dst[i,j]=0\n",
    "cv2.imshow('img',img)\n",
    "cv2.imshow('dst',dst)\n",
    "cv2.waitKey(0)\n",
    "cv2.destroyAllWindows()"
   ]
  },
  {
   "cell_type": "markdown",
   "metadata": {},
   "source": [
    "\n",
    "# 超阈值零处理"
   ]
  },
  {
   "cell_type": "code",
   "execution_count": 22,
   "metadata": {},
   "outputs": [
    {
     "name": "stdout",
     "output_type": "stream",
     "text": [
      "img=\n",
      " [[  8 150  86   5  26]\n",
      " [ 53 170 143  83  87]\n",
      " [ 25 199 159  46  89]\n",
      " [178 102   4 121 123]]\n",
      "t= 127.0\n",
      "rst=\n",
      " [[  8   0  86   5  26]\n",
      " [ 53   0   0  83  87]\n",
      " [ 25   0   0  46  89]\n",
      " [  0 102   4 121 123]]\n"
     ]
    }
   ],
   "source": [
    "img=np.random.randint(0,256,size=(4,5),dtype=np.uint8)\n",
    "t,rst=cv2.threshold(img,127,255,cv2.THRESH_TOZERO_INV)\n",
    "print('img=\\n',img)\n",
    "print('t=',t)\n",
    "print('rst=\\n',rst)"
   ]
  },
  {
   "cell_type": "code",
   "execution_count": 63,
   "metadata": {},
   "outputs": [],
   "source": [
    "img=cv2.imread('image1.jpg',0)\n",
    "r,dst=cv2.threshold(img,127,255,cv2.THRESH_TOZERO_INV)\n",
    "# print(dst.shape)\n",
    "# print(type(dst))\n",
    "cv2.imshow('img',img)\n",
    "cv2.imshow('dst',dst)\n",
    "cv2.waitKey(0)\n",
    "cv2.destroyAllWindows()"
   ]
  },
  {
   "cell_type": "code",
   "execution_count": 61,
   "metadata": {},
   "outputs": [],
   "source": [
    "img=cv2.imread('image1.jpg',1)\n",
    "img=cv2.cvtColor(img,cv2.COLOR_BGR2GRAY)\n",
    "imgInfo = img.shape\n",
    "height = imgInfo[0]\n",
    "width = imgInfo[1]\n",
    "thresh=127\n",
    "dst=np.zeros(imgInfo,np.uint8)\n",
    "for i in range(height):\n",
    "    for j in range(width):\n",
    "        px=img[i,j]\n",
    "        if px>thresh :\n",
    "            dst[i,j]=0\n",
    "        else:\n",
    "            dst[i,j]=px\n",
    "cv2.imshow('img',img)\n",
    "cv2.imshow('dst',dst)\n",
    "cv2.waitKey(0)\n",
    "cv2.destroyAllWindows()"
   ]
  },
  {
   "cell_type": "markdown",
   "metadata": {},
   "source": [
    "# 低阈值零处理"
   ]
  },
  {
   "cell_type": "code",
   "execution_count": 24,
   "metadata": {},
   "outputs": [
    {
     "name": "stdout",
     "output_type": "stream",
     "text": [
      "img=\n",
      " [[151 116 142 126  67]\n",
      " [ 73 247 104  11 104]\n",
      " [ 66 224 220 240  80]\n",
      " [236  93 163  72  89]]\n",
      "t= 127.0\n",
      "rst=\n",
      " [[151   0 142   0   0]\n",
      " [  0 247   0   0   0]\n",
      " [  0 224 220 240   0]\n",
      " [236   0 163   0   0]]\n"
     ]
    }
   ],
   "source": [
    "img=np.random.randint(0,256,size=(4,5),dtype=np.uint8)\n",
    "t,rst=cv2.threshold(img,127,255,cv2.THRESH_TOZERO)\n",
    "print('img=\\n',img)\n",
    "print('t=',t)\n",
    "print('rst=\\n',rst)"
   ]
  },
  {
   "cell_type": "code",
   "execution_count": 60,
   "metadata": {},
   "outputs": [],
   "source": [
    "img=cv2.imread('image1.jpg',0)\n",
    "r,dst=cv2.threshold(img,127,255,cv2.THRESH_TOZERO)\n",
    "# print(dst.shape)\n",
    "# print(type(dst))\n",
    "cv2.imshow('img',img)\n",
    "cv2.imshow('dst',dst)\n",
    "cv2.waitKey(0)\n",
    "cv2.destroyAllWindows()"
   ]
  },
  {
   "cell_type": "code",
   "execution_count": 59,
   "metadata": {},
   "outputs": [],
   "source": [
    "img=cv2.imread('image1.jpg',1)\n",
    "img=cv2.cvtColor(img,cv2.COLOR_BGR2GRAY)\n",
    "imgInfo = img.shape\n",
    "height = imgInfo[0]\n",
    "width = imgInfo[1]\n",
    "thresh=127\n",
    "dst=np.zeros(imgInfo,np.uint8)\n",
    "for i in range(height):\n",
    "    for j in range(width):\n",
    "        px=img[i,j]\n",
    "        if px>thresh :\n",
    "            dst[i,j]=px\n",
    "        else:\n",
    "            dst[i,j]=0\n",
    "cv2.imshow('img',img)\n",
    "cv2.imshow('dst',dst)\n",
    "cv2.waitKey(0)\n",
    "cv2.destroyAllWindows()"
   ]
  },
  {
   "cell_type": "code",
   "execution_count": null,
   "metadata": {},
   "outputs": [],
   "source": []
  }
 ],
 "metadata": {
  "kernelspec": {
   "display_name": "Python 3",
   "language": "python",
   "name": "python3"
  },
  "language_info": {
   "codemirror_mode": {
    "name": "ipython",
    "version": 3
   },
   "file_extension": ".py",
   "mimetype": "text/x-python",
   "name": "python",
   "nbconvert_exporter": "python",
   "pygments_lexer": "ipython3",
   "version": "3.7.4"
  }
 },
 "nbformat": 4,
 "nbformat_minor": 2
}
