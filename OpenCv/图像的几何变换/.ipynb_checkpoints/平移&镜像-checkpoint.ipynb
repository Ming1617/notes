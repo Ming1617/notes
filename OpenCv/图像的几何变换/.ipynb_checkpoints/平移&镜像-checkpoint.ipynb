{
 "cells": [
  {
   "cell_type": "code",
   "execution_count": 2,
   "metadata": {},
   "outputs": [],
   "source": [
    "import cv2\n",
    "import numpy as np"
   ]
  },
  {
   "cell_type": "code",
   "execution_count": 139,
   "metadata": {},
   "outputs": [],
   "source": [
    "image=cv2.imread('image.jpg')\n"
   ]
  },
  {
   "cell_type": "code",
   "execution_count": 140,
   "metadata": {},
   "outputs": [
    {
     "data": {
      "text/plain": [
       "(540, 540, 3)"
      ]
     },
     "execution_count": 140,
     "metadata": {},
     "output_type": "execute_result"
    }
   ],
   "source": [
    "image.shape"
   ]
  },
  {
   "cell_type": "code",
   "execution_count": 141,
   "metadata": {},
   "outputs": [
    {
     "data": {
      "text/plain": [
       "-1"
      ]
     },
     "execution_count": 141,
     "metadata": {},
     "output_type": "execute_result"
    }
   ],
   "source": [
    "cv2.imshow('dst',image)\n",
    "cv2.waitKey(0)"
   ]
  },
  {
   "cell_type": "code",
   "execution_count": null,
   "metadata": {},
   "outputs": [],
   "source": []
  },
  {
   "cell_type": "code",
   "execution_count": 142,
   "metadata": {},
   "outputs": [
    {
     "data": {
      "text/plain": [
       "-1"
      ]
     },
     "execution_count": 142,
     "metadata": {},
     "output_type": "execute_result"
    }
   ],
   "source": [
    "#右平移\n",
    "image=cv2.imread('image.jpg')\n",
    "shape1=image.shape\n",
    "higth=shape1[0]\n",
    "width=shape1[1]\n",
    "img = np.zeros((shape1),np.uint8)\n",
    "for i in range(0,higth):#高\n",
    "    for j in range(270,width):#宽\n",
    "        img[i,j]=image[i,j-270]\n",
    "        img[i,j-270]=image[i,j]\n",
    "cv2.imshow('dst',img)\n",
    "cv2.waitKey(0)"
   ]
  },
  {
   "cell_type": "code",
   "execution_count": 143,
   "metadata": {},
   "outputs": [
    {
     "data": {
      "text/plain": [
       "-1"
      ]
     },
     "execution_count": 143,
     "metadata": {},
     "output_type": "execute_result"
    }
   ],
   "source": [
    "image=cv2.imread('image.jpg')\n",
    "img = np.zeros((540,540,3),np.uint8)\n",
    "for i in range(270,540):\n",
    "    for j in range(270,540):\n",
    "        img[i,j]=image[i-100,j-100]\n",
    "        img[i-100,j-100]=image[i,j]\n",
    "cv2.imshow('dst',image)\n",
    "cv2.imshow('dst',img)\n",
    "cv2.waitKey(0)"
   ]
  },
  {
   "cell_type": "code",
   "execution_count": 144,
   "metadata": {},
   "outputs": [
    {
     "data": {
      "text/plain": [
       "-1"
      ]
     },
     "execution_count": 144,
     "metadata": {},
     "output_type": "execute_result"
    }
   ],
   "source": [
    "#下平移\n",
    "image=cv2.imread('image.jpg')\n",
    "shape1=image.shape\n",
    "higth=shape1[0]\n",
    "width=shape1[1]\n",
    "img = np.zeros((shape1),np.uint8)\n",
    "for i in range(270,higth):\n",
    "    for j in range(0,width):\n",
    "        img[i,j]=image[i-270,j]\n",
    "        img[i-270,j]=image[i,j]\n",
    "cv2.imshow('dst',img)\n",
    "cv2.waitKey(0)"
   ]
  },
  {
   "cell_type": "code",
   "execution_count": 145,
   "metadata": {},
   "outputs": [
    {
     "data": {
      "text/plain": [
       "-1"
      ]
     },
     "execution_count": 145,
     "metadata": {},
     "output_type": "execute_result"
    }
   ],
   "source": [
    "image=cv2.imread('image.jpg')\n",
    "img = np.zeros((540,540,3),np.uint8)\n",
    "for i in range(100,540):\n",
    "    for j in range(100,540):\n",
    "        img[i,j]=image[i-100,j-100]\n",
    "for i in range(0,100):#高\n",
    "    for j in range(100,540):#宽\n",
    "        img[i,j]=image[i+440,j-100]\n",
    "for i in range(100,540):#高\n",
    "    for j in range(0,100):#宽\n",
    "        img[i,j]=image[i-100,j+440]\n",
    "for i in range(0,100):#高\n",
    "    for j in range(0,100):#宽\n",
    "        img[i,j]=image[i+440,j+440]\n",
    "cv2.imshow('dst',image)\n",
    "cv2.imshow('dst',img)\n",
    "cv2.waitKey(0)"
   ]
  },
  {
   "cell_type": "code",
   "execution_count": 146,
   "metadata": {},
   "outputs": [
    {
     "data": {
      "text/plain": [
       "-1"
      ]
     },
     "execution_count": 146,
     "metadata": {},
     "output_type": "execute_result"
    }
   ],
   "source": [
    "#上下镜像\n",
    "image=cv2.imread('image.jpg')\n",
    "ishape=image.shape\n",
    "higth=ishape[0]\n",
    "width=ishape[1]\n",
    "img = np.zeros((higth*2,width,3),np.uint8)\n",
    "for i in range(0,width):\n",
    "    for j in range(0,higth):\n",
    "        img[i,j]=image[i,j]\n",
    "x=-1\n",
    "for i in range(higth,higth*2):\n",
    "    x=x+2\n",
    "    for j in range(0,width):\n",
    "        img[i,j] = image[i-x,j]\n",
    "for i in range(width):\n",
    "    img[height, i] = (0, 0, 255)\n",
    "cv2.imshow('dst',image)\n",
    "cv2.imshow('dst',img)\n",
    "cv2.waitKey(0)"
   ]
  },
  {
   "cell_type": "code",
   "execution_count": 3,
   "metadata": {},
   "outputs": [
    {
     "data": {
      "text/plain": [
       "32"
      ]
     },
     "execution_count": 3,
     "metadata": {},
     "output_type": "execute_result"
    }
   ],
   "source": [
    "#左右镜像\n",
    "image=cv2.imread('image.jpg',1)\n",
    "ishape=image.shape\n",
    "higth=ishape[0]\n",
    "width=ishape[1]\n",
    "img = np.zeros((higth,width*2,3),np.uint8)\n",
    "for i in range(0,width):\n",
    "    for j in range(0,higth):\n",
    "        img[i,j]=image[i,j]\n",
    "\n",
    "\n",
    "for i in range(0,higth):\n",
    "    x=1\n",
    "    for j in range(width,width*2):\n",
    "        img[i,j] = image[i,j-x]\n",
    "        x=x+2\n",
    "for i in range(higth):\n",
    "    img[i, width] = (0, 255, 255)\n",
    "cv2.imshow('dst',image)\n",
    "cv2.imshow('dst',img)\n",
    "cv2.waitKey(0)"
   ]
  },
  {
   "cell_type": "code",
   "execution_count": 158,
   "metadata": {},
   "outputs": [
    {
     "data": {
      "text/plain": [
       "-1"
      ]
     },
     "execution_count": 158,
     "metadata": {},
     "output_type": "execute_result"
    }
   ],
   "source": [
    "import cv2\n",
    "import numpy as np\n",
    "image=cv2.imread('image.jpg',1)\n",
    "ishape=image.shape\n",
    "heigth=ishape[0]\n",
    "width=ishape[1]\n",
    "matShift=np.float32([[1,0,100],[0,1,200]])#[1,0,?]表示水平移动若干单位,- 号表示向左移动，反之向右；[0,1,?]表示垂直移动若干单位，- 号向上移动，反之向下\n",
    "                 #1：变换后图像的比例大小\n",
    "dst=cv2.warpAffine(image,matShift,(width,height))\n",
    "\n",
    "cv2.imshow('src',image)\n",
    "cv2.imshow('dst',dst)\n",
    "cv2.waitKey(0)"
   ]
  },
  {
   "cell_type": "raw",
   "metadata": {},
   "source": [
    "cv2.warpAffine(src, M, dsize[, dst[, flags[, borderMode[, borderValue]]]]) \n",
    "\n",
    "其中：\n",
    "\n",
    "src - 输入图像。\n",
    "M - 变换矩阵。\n",
    "dsize - 输出图像的大小。\n",
    "flags - 插值方法的组合（int 类型！）\n",
    "borderMode - 边界像素模式（int 类型！）\n",
    "borderValue - （重点！）边界填充值; 默认情况下，它为0。"
   ]
  },
  {
   "cell_type": "code",
   "execution_count": 8,
   "metadata": {},
   "outputs": [
    {
     "data": {
      "text/plain": [
       "-1"
      ]
     },
     "execution_count": 8,
     "metadata": {},
     "output_type": "execute_result"
    }
   ],
   "source": [
    "import cv2\n",
    "import numpy as np\n",
    "image=cv2.imread('image1.jpg',1)\n",
    "ishape=image.shape\n",
    "heigth=ishape[0]\n",
    "width=ishape[1]\n",
    "matShift=np.float32([[0.5,0,0],[0,0.5,0]])#[1,0,?]表示水平移动若干单位,- 号表示向左移动，反之向右；[0,1,?]表示垂直移动若干单位，- 号向上移动，反之向下\n",
    "                 #1：变换后图像的比例大小\n",
    "dst=cv2.warpAffine(image,matShift,(int(width*0.5),int(heigth*0.5)))\n",
    "\n",
    "cv2.imshow('src',image)\n",
    "cv2.imshow('dst',dst)\n",
    "cv2.waitKey(0)"
   ]
  },
  {
   "cell_type": "code",
   "execution_count": 8,
   "metadata": {},
   "outputs": [],
   "source": [
    "#图片仿射\n",
    "import cv2\n",
    "import numpy as np\n",
    "img=cv2.imread('image1.jpg',1)\n",
    "ishape=img.shape\n",
    "heigth=ishape[0]\n",
    "width=ishape[1]\n",
    "#src 3-》dst 3(3个点：左上角，左下角，右上角)\n",
    "matSrc=np.float32([[0,0],[0,heigth-1],[width-1,0]])\n",
    "matDst=np.float32([[100,50],[100,heigth-100],[width-100,100]])\n",
    "#组合后，经过变换得到仿射变换矩阵\n",
    "matAffine=cv2.getAffineTransform(matSrc,matDst)\n",
    "'''\n",
    "GetAffineTransform：由三对点计算仿射变换\n",
    "\n",
    "CvMat*  cvGetAffineTransform( const CvPoint2D32f* src,const CvPoint2D32f*  dst, CvMat*  map_matrix );\n",
    "\n",
    "src：输入图像的三角形顶点坐标。\n",
    "\n",
    "dst：输出图像的相应的三角形顶点坐标。\n",
    "\n",
    "map_matrix：指向2×3输出矩阵的指针。\n",
    "'''\n",
    "#用API实现仿射变换\n",
    "dst=cv2.warpAffine(img,matAffine,(width,heigth))\n"
   ]
  },
  {
   "cell_type": "code",
   "execution_count": 11,
   "metadata": {},
   "outputs": [],
   "source": [
    "#src 3-》dst 3(3个点：左上角，左下角，右上角)\n",
    "matSrc=np.float32([[100,50],[100,heigth-100],[width-100,100]])\n",
    "matDst=np.float32([[0,0],[0,heigth-1],[width-1,0]])\n",
    "#组合后，经过变换得到仿射变换矩阵\n",
    "matAffine=cv2.getAffineTransform(matSrc,matDst)\n",
    "dst2=cv2.warpAffine(dst,matAffine,(width,heigth))"
   ]
  },
  {
   "cell_type": "code",
   "execution_count": 15,
   "metadata": {},
   "outputs": [],
   "source": [
    "cv2.imshow('src',img)\n",
    "cv2.imshow('dst',dst)\n",
    "cv2.imshow('dst2',dst2)\n",
    "cv2.waitKey(0)\n",
    "cv2.destroyAllWindows()"
   ]
  },
  {
   "cell_type": "code",
   "execution_count": 14,
   "metadata": {},
   "outputs": [
    {
     "data": {
      "text/plain": [
       "True"
      ]
     },
     "execution_count": 14,
     "metadata": {},
     "output_type": "execute_result"
    }
   ],
   "source": [
    "cv2.imwrite('image11112.jpg',dst2,[cv2.IMWRITE_JPEG_QUALITY,100])#保存图片"
   ]
  },
  {
   "cell_type": "code",
   "execution_count": null,
   "metadata": {},
   "outputs": [],
   "source": []
  }
 ],
 "metadata": {
  "kernelspec": {
   "display_name": "Python 3",
   "language": "python",
   "name": "python3"
  },
  "language_info": {
   "codemirror_mode": {
    "name": "ipython",
    "version": 3
   },
   "file_extension": ".py",
   "mimetype": "text/x-python",
   "name": "python",
   "nbconvert_exporter": "python",
   "pygments_lexer": "ipython3",
   "version": "3.7.4"
  }
 },
 "nbformat": 4,
 "nbformat_minor": 2
}
