{
 "cells": [
  {
   "cell_type": "code",
   "execution_count": 1,
   "metadata": {},
   "outputs": [],
   "source": [
    "#采用类似边缘检测的方法\n",
    "#对紧邻的像素做差，newp=gray0-gray1+150\n",
    "#newP\n",
    "import numpy as np\n",
    "import cv2"
   ]
  },
  {
   "cell_type": "code",
   "execution_count": 32,
   "metadata": {},
   "outputs": [
    {
     "name": "stderr",
     "output_type": "stream",
     "text": [
      "C:\\py\\lib\\site-packages\\ipykernel_launcher.py:10: RuntimeWarning: overflow encountered in ubyte_scalars\n",
      "  # Remove the CWD from sys.path while we load stuff.\n"
     ]
    }
   ],
   "source": [
    "#sobel算子\n",
    "img=cv2.imread('img2.jpg',0)\n",
    "imgInfo = img.shape\n",
    "height = imgInfo[0]\n",
    "width = imgInfo[1]\n",
    "dst=np.zeros(imgInfo,np.uint8)\n",
    "for i in range(height-1):\n",
    "    for j in range(width):\n",
    "        newp=0\n",
    "        newp=int(img[i,j]-img[i+1,j]+150)\n",
    "        if newp>255:\n",
    "            dst[i,j]=255\n",
    "        elif newp<0:\n",
    "            dst[i,j]=0\n",
    "        else:\n",
    "            dst[i,j]=newp\n",
    "for i in range(height-1,height):\n",
    "    for j in range(width):\n",
    "        dst[i,j]=255\n",
    "cv2.imshow('dst',dst)\n",
    "cv2.imshow('imae',img)\n",
    "cv2.waitKey(0)\n",
    "cv2.destroyAllWindows()"
   ]
  },
  {
   "cell_type": "code",
   "execution_count": 7,
   "metadata": {},
   "outputs": [
    {
     "data": {
      "text/plain": [
       "150"
      ]
     },
     "execution_count": 7,
     "metadata": {},
     "output_type": "execute_result"
    }
   ],
   "source": [
    "img[0,0]-img[0,1]+150"
   ]
  },
  {
   "cell_type": "code",
   "execution_count": 21,
   "metadata": {},
   "outputs": [
    {
     "name": "stdout",
     "output_type": "stream",
     "text": [
      "[[168 158 162 ... 138 141 139]\n",
      " [161 157 157 ... 134 136 140]\n",
      " [154 153 153 ... 131 135 143]\n",
      " ...\n",
      " [179 172 173 ... 179 178 179]\n",
      " [169 164 165 ... 176 175 174]\n",
      " [159 156 158 ... 178 177 175]]\n"
     ]
    }
   ],
   "source": [
    "print(img)"
   ]
  },
  {
   "cell_type": "code",
   "execution_count": 23,
   "metadata": {},
   "outputs": [
    {
     "name": "stdout",
     "output_type": "stream",
     "text": [
      "157\n"
     ]
    }
   ],
   "source": [
    "print(img[1,2])"
   ]
  },
  {
   "cell_type": "code",
   "execution_count": null,
   "metadata": {},
   "outputs": [],
   "source": []
  }
 ],
 "metadata": {
  "kernelspec": {
   "display_name": "Python 3",
   "language": "python",
   "name": "python3"
  },
  "language_info": {
   "codemirror_mode": {
    "name": "ipython",
    "version": 3
   },
   "file_extension": ".py",
   "mimetype": "text/x-python",
   "name": "python",
   "nbconvert_exporter": "python",
   "pygments_lexer": "ipython3",
   "version": "3.7.4"
  }
 },
 "nbformat": 4,
 "nbformat_minor": 2
}
