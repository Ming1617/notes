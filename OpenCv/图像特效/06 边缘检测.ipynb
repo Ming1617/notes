{
 "cells": [
  {
   "cell_type": "code",
   "execution_count": 2,
   "metadata": {},
   "outputs": [],
   "source": [
    "#边缘算子\n",
    "#1.canny 算子 2. sobel算子 3.robert 算子\n",
    "#4.拉普拉斯算子  5. marr算子\n",
    "#sobel算子 横向和竖向\n",
    "#横向 "
   ]
  },
  {
   "cell_type": "code",
   "execution_count": 3,
   "metadata": {},
   "outputs": [],
   "source": [
    "import numpy as np\n",
    "import cv2\n",
    "import math"
   ]
  },
  {
   "cell_type": "code",
   "execution_count": 4,
   "metadata": {},
   "outputs": [
    {
     "name": "stdout",
     "output_type": "stream",
     "text": [
      "[[ 1  2  1]\n",
      " [ 0  0  0]\n",
      " [-1 -2 -1]]\n",
      "1\n",
      "2\n",
      "1\n",
      "0\n",
      "0\n",
      "0\n",
      "-1\n",
      "-2\n",
      "-1\n"
     ]
    }
   ],
   "source": [
    "hx=np.array([[1,2,1],\n",
    "           [0,0,0],\n",
    "           [-1,-2,-1]])\n",
    "print(hx)\n",
    "hy=np.array([[1,0,-1],\n",
    "            [2,0,-2],\n",
    "            [1,0,-1]])\n",
    "for i in range(3):\n",
    "    for j in range(3):\n",
    "        print (hx[i,j])"
   ]
  },
  {
   "cell_type": "code",
   "execution_count": 6,
   "metadata": {},
   "outputs": [],
   "source": [
    "#sobel算子\n",
    "img=cv2.imread('img2.jpg',0)\n",
    "imgInfo = img.shape\n",
    "height = imgInfo[0]\n",
    "width = imgInfo[1]\n",
    "dst=np.zeros(imgInfo,np.uint8)\n",
    "for i in range(1,height-1):\n",
    "    for j in range(1,width-1):\n",
    "        gx=img[i-1:i+2,j-1:j+2]*hx\n",
    "        gy=img[i-1:i+2,j-1:j+2]*hy\n",
    "        gxs=0\n",
    "        gys=0\n",
    "        for ii in range(3):\n",
    "            for jj in range(3):\n",
    "                gxs=gxs+gx[ii,jj]\n",
    "                gys=gys+gy[ii,jj]\n",
    "        th=math.sqrt(gxs*gxs+gys*gys)\n",
    "        if th>150 :\n",
    "            dst[i,j]=255\n",
    "        else:\n",
    "            dst[i,j]=0\n",
    "cv2.imshow('dst',dst)\n",
    "cv2.imshow('imae',img)\n",
    "cv2.waitKey(0)\n",
    "cv2.destroyAllWindows()"
   ]
  },
  {
   "cell_type": "code",
   "execution_count": 63,
   "metadata": {},
   "outputs": [
    {
     "data": {
      "text/plain": [
       "(291, 512)"
      ]
     },
     "execution_count": 63,
     "metadata": {},
     "output_type": "execute_result"
    }
   ],
   "source": [
    "img.shape"
   ]
  },
  {
   "cell_type": "code",
   "execution_count": 30,
   "metadata": {},
   "outputs": [
    {
     "data": {
      "text/plain": [
       "(291, 512)"
      ]
     },
     "execution_count": 30,
     "metadata": {},
     "output_type": "execute_result"
    }
   ],
   "source": [
    "img.shape"
   ]
  },
  {
   "cell_type": "code",
   "execution_count": 35,
   "metadata": {},
   "outputs": [],
   "source": [
    "cv2.imshow('img',img[1-1:1+1,1-1:1+1])\n",
    "cv2.waitKey(0)\n",
    "cv2.destroyAllWindows()"
   ]
  },
  {
   "cell_type": "code",
   "execution_count": 36,
   "metadata": {},
   "outputs": [
    {
     "data": {
      "text/plain": [
       "(2, 2)"
      ]
     },
     "execution_count": 36,
     "metadata": {},
     "output_type": "execute_result"
    }
   ],
   "source": [
    "img[1-1:1+1,1-1:1+1].shape"
   ]
  },
  {
   "cell_type": "code",
   "execution_count": 15,
   "metadata": {},
   "outputs": [],
   "source": [
    "#canny 算子\n",
    "img=cv2.imread('img2.jpg',0)\n",
    "imgInfo = img.shape\n",
    "height = imgInfo[0]\n",
    "width = imgInfo[1]\n",
    "dst=np.zeros(imgInfo,np.uint8)\n",
    "imgG=cv2.GaussianBlur(img,(3,3),0)#高斯滤波\n",
    "dst=cv2.Canny(imgG,50,50)#src 2 th1 3 th2\n",
    "cv2.imshow('dst',dst)\n",
    "cv2.imshow('imae',img)\n",
    "cv2.waitKey(0)\n",
    "cv2.destroyAllWindows()"
   ]
  },
  {
   "cell_type": "code",
   "execution_count": null,
   "metadata": {},
   "outputs": [],
   "source": []
  }
 ],
 "metadata": {
  "kernelspec": {
   "display_name": "Python 3",
   "language": "python",
   "name": "python3"
  },
  "language_info": {
   "codemirror_mode": {
    "name": "ipython",
    "version": 3
   },
   "file_extension": ".py",
   "mimetype": "text/x-python",
   "name": "python",
   "nbconvert_exporter": "python",
   "pygments_lexer": "ipython3",
   "version": "3.7.4"
  }
 },
 "nbformat": 4,
 "nbformat_minor": 2
}
