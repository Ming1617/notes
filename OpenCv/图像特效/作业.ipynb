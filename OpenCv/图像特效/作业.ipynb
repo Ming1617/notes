{
 "cells": [
  {
   "cell_type": "code",
   "execution_count": 2,
   "metadata": {},
   "outputs": [
    {
     "name": "stdout",
     "output_type": "stream",
     "text": [
      "(291, 512)\n",
      "166\n",
      "[157 164 179]\n"
     ]
    }
   ],
   "source": [
    "#灰度处理\n",
    "import cv2\n",
    "import numpy as np\n",
    "img=cv2.imread('image1.jpg',1)\n",
    "imgInfo = img.shape\n",
    "height = imgInfo[0]\n",
    "width = imgInfo[1]\n",
    "dst=np.zeros((imgInfo[0:-1]),np.uint8)\n",
    "print(dst.shape)\n",
    "print(int(sum(img[0,0])/3))\n",
    "print(img[0,0])\n",
    "for i in range(height):\n",
    "    for j in range(width):\n",
    "        dst[i,j]=int(sum(img[i,j])/3)\n",
    "cv2.imshow('dst',dst)\n",
    "cv2.imshow('img',img)\n",
    "cv2.waitKey(0)\n",
    "cv2.destroyAllWindows()"
   ]
  },
  {
   "cell_type": "code",
   "execution_count": 3,
   "metadata": {},
   "outputs": [
    {
     "name": "stdout",
     "output_type": "stream",
     "text": [
      "(291, 512, 3)\n",
      "[157 164 179]\n"
     ]
    }
   ],
   "source": [
    "#颜色翻转\n",
    "#彩色图片翻转\n",
    "#255-r  255-g  255-b\n",
    "img=cv2.imread('image1.jpg',1)\n",
    "imgInfo = img.shape\n",
    "height = imgInfo[0]\n",
    "width = imgInfo[1]\n",
    "print(imgInfo)\n",
    "dst=np.zeros(imgInfo,np.uint8)\n",
    "print(img[0,0])\n",
    "for i in range(height):\n",
    "    for j in range(width):\n",
    "        (b,g,r)=img[i,j]\n",
    "#         print(newb,newg,newr)\n",
    "        dst[i,j]=(int(255-b),int(255-g),int(255-r))\n",
    "cv2.imshow('dst',dst)\n",
    "cv2.imshow('img',img)\n",
    "cv2.waitKey(0)\n",
    "cv2.destroyAllWindows()"
   ]
  },
  {
   "cell_type": "code",
   "execution_count": 4,
   "metadata": {},
   "outputs": [
    {
     "name": "stdout",
     "output_type": "stream",
     "text": [
      "(291, 512)\n",
      "168\n",
      "(291, 512)\n",
      "(291, 512)\n"
     ]
    }
   ],
   "source": [
    "#灰度图片颜色翻转\n",
    "yimg=cv2.imread('image1.jpg',1)\n",
    "img=cv2.imread('image1.jpg',0)\n",
    "imgInfo = img.shape\n",
    "height = imgInfo[0]\n",
    "width = imgInfo[-1]\n",
    "print(imgInfo)\n",
    "dst=np.zeros(imgInfo,np.uint8)\n",
    "print(img[0,0])\n",
    "print(img.shape)\n",
    "print(dst.shape)\n",
    "for i in range(height):\n",
    "    for j in range(width):\n",
    "        dst[i,j]=255-(int(img[i,j]))\n",
    "cv2.imshow('yimg',yimg)\n",
    "cv2.imshow('dst',dst)\n",
    "cv2.imshow('img',img)\n",
    "cv2.waitKey(0)\n",
    "cv2.destroyAllWindows()"
   ]
  },
  {
   "cell_type": "code",
   "execution_count": 5,
   "metadata": {},
   "outputs": [
    {
     "name": "stdout",
     "output_type": "stream",
     "text": [
      "(291, 512, 3)\n"
     ]
    }
   ],
   "source": [
    "#马赛克\n",
    "img=cv2.imread('image1.jpg',1)\n",
    "imgInfo = img.shape\n",
    "height = imgInfo[0]\n",
    "width = imgInfo[1]\n",
    "print(imgInfo)\n",
    "import random\n",
    "for i in range(100,height-91,5):#100\n",
    "    for j in range(100,width-112,5):#200\n",
    "        x1=int(random.random()*4)\n",
    "        y1=int(random.random()*4)\n",
    "#         print(b,g,r)\n",
    "        for ii in range(i,i+5):\n",
    "            for jj in range(j,j+5):\n",
    "                img[ii,jj]=img[i+x1,j+y1]\n",
    "cv2.imshow('img',img)\n",
    "cv2.waitKey(0)\n",
    "cv2.destroyAllWindows()"
   ]
  },
  {
   "cell_type": "code",
   "execution_count": 6,
   "metadata": {},
   "outputs": [
    {
     "name": "stdout",
     "output_type": "stream",
     "text": [
      "(291, 512, 3)\n"
     ]
    }
   ],
   "source": [
    "#毛玻璃\n",
    "img=cv2.imread('image1.jpg',1)\n",
    "imgInfo = img.shape\n",
    "height = imgInfo[0]\n",
    "width = imgInfo[1]\n",
    "print(imgInfo)\n",
    "dst=np.zeros(imgInfo,np.uint8)\n",
    "import random\n",
    "for i in range(0,height):\n",
    "    for j in range(0,width-5):\n",
    "        dst[i,j]=img[i,j+int(random.random()*5)]\n",
    "for i in range(0,height):\n",
    "    for j in range(width-5,width):\n",
    "        dst[i,j]=img[i,j-int(random.random()*5)]\n",
    "cv2.imshow('dst',dst)\n",
    "cv2.imshow('img',img)\n",
    "cv2.waitKey(0)\n",
    "cv2.destroyAllWindows()"
   ]
  },
  {
   "cell_type": "code",
   "execution_count": 8,
   "metadata": {},
   "outputs": [],
   "source": [
    "#图片融合\n",
    "img1=cv2.imread('image1.jpg',1)\n",
    "img2=cv2.imread('img2.jpg',1)\n",
    "image=img1[0:250,0:380]\n",
    "imgInfo=image.shape\n",
    "dst=np.zeros(imgInfo,np.uint8)\n",
    "dst=cv2.addWeighted(img2,0.4,image,0.6,0)\n",
    "cv2.imshow('dst',dst)\n",
    "cv2.waitKey(0)\n",
    "cv2.destroyAllWindows()"
   ]
  },
  {
   "cell_type": "code",
   "execution_count": 10,
   "metadata": {},
   "outputs": [],
   "source": [
    "#边缘算子\n",
    "#1.canny 算子 2. sobel算子 3.robert 算子\n",
    "#4.拉普拉斯算子  5. marr算子\n",
    "#sobel算子 横向和竖向\n",
    "#横向 \n",
    "import math\n",
    "hx=np.array([[1,2,1],\n",
    "           [0,0,0],\n",
    "           [-1,-2,-1]])\n",
    "hy=np.array([[1,0,-1],\n",
    "            [2,0,-2],\n",
    "            [1,0,-1]])#定义sobel算子矩阵\n",
    "img=cv2.imread('img2.jpg',0)\n",
    "imgInfo = img.shape\n",
    "height = imgInfo[0]\n",
    "width = imgInfo[1]\n",
    "dst=np.zeros(imgInfo,np.uint8)\n",
    "for i in range(1,height-1):\n",
    "    for j in range(1,width-1):\n",
    "        gx=img[i-1:i+2,j-1:j+2]*hx\n",
    "        gy=img[i-1:i+2,j-1:j+2]*hy\n",
    "        gxs=0\n",
    "        gys=0\n",
    "        for ii in range(3):\n",
    "            for jj in range(3):\n",
    "                gxs=gxs+gx[ii,jj]\n",
    "                gys=gys+gy[ii,jj]\n",
    "        th=math.sqrt(gxs*gxs+gys*gys)\n",
    "        if th>150 :\n",
    "            dst[i,j]=255\n",
    "        else:\n",
    "            dst[i,j]=0\n",
    "cv2.imshow('dst',dst)\n",
    "cv2.imshow('imae',img)\n",
    "cv2.waitKey(0)\n",
    "cv2.destroyAllWindows()"
   ]
  },
  {
   "cell_type": "code",
   "execution_count": 11,
   "metadata": {},
   "outputs": [
    {
     "name": "stderr",
     "output_type": "stream",
     "text": [
      "C:\\py\\lib\\site-packages\\ipykernel_launcher.py:10: RuntimeWarning: overflow encountered in ubyte_scalars\n",
      "  # Remove the CWD from sys.path while we load stuff.\n"
     ]
    }
   ],
   "source": [
    "#浮雕效果\n",
    "img=cv2.imread('img2.jpg',0)\n",
    "imgInfo = img.shape\n",
    "height = imgInfo[0]\n",
    "width = imgInfo[1]\n",
    "dst=np.zeros(imgInfo,np.uint8)\n",
    "for i in range(height-1):\n",
    "    for j in range(width):\n",
    "        newp=0\n",
    "        newp=int(img[i,j]-img[i+1,j]+150)\n",
    "        if newp>255:\n",
    "            dst[i,j]=255\n",
    "        elif newp<0:\n",
    "            dst[i,j]=0\n",
    "        else:\n",
    "            dst[i,j]=newp\n",
    "for i in range(height-1,height):\n",
    "    for j in range(width):\n",
    "        dst[i,j]=255\n",
    "cv2.imshow('dst',dst)\n",
    "cv2.imshow('imae',img)\n",
    "cv2.waitKey(0)\n",
    "cv2.destroyAllWindows()"
   ]
  },
  {
   "cell_type": "code",
   "execution_count": 13,
   "metadata": {},
   "outputs": [],
   "source": [
    "#颜色风格改变\n",
    "def turn_colour(image,times_r,times_g,times_b):\n",
    "    img=cv2.imread(image,1)\n",
    "    imgInfo = img.shape\n",
    "    height = imgInfo[0]\n",
    "    width = imgInfo[1]\n",
    "    for i in range(height):\n",
    "        for j in range(width):\n",
    "            (b,g,r)=img[i,j]\n",
    "            newr=r*times_r\n",
    "            newg=g*times_g\n",
    "            newb=b*times_b\n",
    "            if newr>255:\n",
    "                newr=255\n",
    "            if newg >255:\n",
    "                newg=255\n",
    "            if newb >255:\n",
    "                newb=255\n",
    "            img[i,j]=(newb,newg,newr)\n",
    "    return img\n",
    "dst=turn_colour('image1.jpg',0.5,1,1)#红绿蓝\n",
    "cv2.imshow('images',dst)\n",
    "cv2.waitKey(0)\n",
    "cv2.destroyAllWindows()"
   ]
  },
  {
   "cell_type": "code",
   "execution_count": 15,
   "metadata": {},
   "outputs": [],
   "source": [
    "# 油画效果\n",
    "img = cv2.imread(\"image2.jpg\", 1)\n",
    "imgInfo = img.shape\n",
    "height = imgInfo[0]\n",
    "width = imgInfo[1]\n",
    "\n",
    "# 灰度图\n",
    "gray = cv2.cvtColor(img, cv2.COLOR_BGR2GRAY)\n",
    "\n",
    "# 将图像分为8x8的多个小块，并统计小块每个像素的灰度值\n",
    "# 划分灰度等级，例如0-255: 0-63, 64-127, ... \n",
    "# 找出每个小块中，每个等级的个数，找出最多的\n",
    "# 用最多的的平均值替换原像素\n",
    "\n",
    "dst = np.zeros(imgInfo, np.uint8)\n",
    "for i in range(0, height):\n",
    "    for j in range(0, width):\n",
    "        max_array = []\n",
    "        leveldict = {} # key: 级别, v: 原始像素值的列表\n",
    "        for m in range(-4, 5):\n",
    "            for n in range(-4, 5):\n",
    "                # 处理越界\n",
    "                if i + m >= height or i + m < 0:\n",
    "                    m = -m\n",
    "                if j + n >= width or j + n < 0:\n",
    "                    n = -n\n",
    "                \n",
    "                # 划分等级 0-31, 32-63, ...\n",
    "                level = gray[i + m, j + n] // 16\n",
    "                if not level in leveldict.keys():\n",
    "                    leveldict[level] = [img[i + m, j + n],]\n",
    "                else:\n",
    "                    leveldict[level].append(img[i + m, j + n])\n",
    "                # 个数最多的级别\n",
    "                if len(leveldict[level]) > len(max_array):\n",
    "                    max_array = leveldict[level]\n",
    "        # 取均值\n",
    "        size = len(max_array)\n",
    "        b_sum, g_sum, r_sum = 0, 0, 0\n",
    "        for b, g, r in max_array:\n",
    "            b_sum += b\n",
    "            g_sum += g\n",
    "            r_sum += r\n",
    "        dst[i, j] = [b_sum // size, g_sum // size, r_sum // size ]\n",
    "cv2.imshow('img',img)\n",
    "cv2.imshow('gray',gray)\n",
    "cv2.imshow('image',dst)\n",
    "cv2.waitKey(0)\n",
    "cv2.destroyAllWindows()"
   ]
  },
  {
   "cell_type": "code",
   "execution_count": null,
   "metadata": {},
   "outputs": [],
   "source": []
  }
 ],
 "metadata": {
  "kernelspec": {
   "display_name": "Python 3",
   "language": "python",
   "name": "python3"
  },
  "language_info": {
   "codemirror_mode": {
    "name": "ipython",
    "version": 3
   },
   "file_extension": ".py",
   "mimetype": "text/x-python",
   "name": "python",
   "nbconvert_exporter": "python",
   "pygments_lexer": "ipython3",
   "version": "3.7.4"
  }
 },
 "nbformat": 4,
 "nbformat_minor": 2
}
