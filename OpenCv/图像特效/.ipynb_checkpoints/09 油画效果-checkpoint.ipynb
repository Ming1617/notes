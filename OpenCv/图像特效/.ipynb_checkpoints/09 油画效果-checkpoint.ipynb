{
 "cells": [
  {
   "cell_type": "code",
   "execution_count": 1,
   "metadata": {},
   "outputs": [],
   "source": [
    "import numpy as np\n",
    "import cv2"
   ]
  },
  {
   "cell_type": "code",
   "execution_count": 2,
   "metadata": {},
   "outputs": [],
   "source": [
    "#图片不要选特别大，计算量较大\n",
    "#1.转换为灰度图片\n",
    "#2.用for循环进行以下运算\n",
    "#2.1block:如7*7 10*10 以10*10为例\n",
    "#2.2像素划分 0-255 分为4个灰度等级段：0-63 64-127 128-191 192-255\n",
    "#4.count 每个灰度等级段有多少像素 并找到哪个灰度等级段像素数最多\n",
    "#5.计算像素数最多的灰度等级的均值 dst=average result"
   ]
  },
  {
   "cell_type": "code",
   "execution_count": 5,
   "metadata": {},
   "outputs": [
    {
     "name": "stdout",
     "output_type": "stream",
     "text": [
      "(369, 650, 3)\n"
     ]
    }
   ],
   "source": [
    "img=cv2.imread('image2.jpg',1)\n",
    "imgInfo = img.shape\n",
    "height = imgInfo[0]\n",
    "width = imgInfo[1]\n",
    "print(img.shape)"
   ]
  },
  {
   "cell_type": "code",
   "execution_count": 2,
   "metadata": {},
   "outputs": [],
   "source": [
    "# 读取图片\n",
    "img = cv2.imread(\"image2.jpg\", 1)\n",
    "imgInfo = img.shape\n",
    "height = imgInfo[0]\n",
    "width = imgInfo[1]\n",
    "\n",
    "# 灰度图\n",
    "gray = cv2.cvtColor(img, cv2.COLOR_BGR2GRAY)\n",
    "\n",
    "# 将图像分为8x8的多个小块，并统计小块每个像素的灰度值\n",
    "# 划分灰度等级，例如0-255: 0-63, 64-127, ... \n",
    "# 找出每个小块中，每个等级的个数，找出最多的\n",
    "# 用最多的的平均值替换原像素\n",
    "\n",
    "dst = np.zeros(imgInfo, np.uint8)\n",
    "for i in range(0, height):\n",
    "    for j in range(0, width):\n",
    "        max_array = []\n",
    "        leveldict = {} # key: 级别, v: 原始像素值的列表\n",
    "        for m in range(-4, 5):\n",
    "            for n in range(-4, 5):\n",
    "                # 处理越界\n",
    "                if i + m >= height or i + m < 0:\n",
    "                    m = -m\n",
    "                if j + n >= width or j + n < 0:\n",
    "                    n = -n\n",
    "                \n",
    "                # 划分等级 0-31, 32-63, ...\n",
    "                level = gray[i + m, j + n] // 16\n",
    "                if not level in leveldict.keys():\n",
    "                    leveldict[level] = [img[i + m, j + n],]\n",
    "                else:\n",
    "                    leveldict[level].append(img[i + m, j + n])\n",
    "                # 个数最多的级别\n",
    "                if len(leveldict[level]) > len(max_array):\n",
    "                    max_array = leveldict[level]\n",
    "        # 取均值\n",
    "        size = len(max_array)\n",
    "        b_sum, g_sum, r_sum = 0, 0, 0\n",
    "        for b, g, r in max_array:\n",
    "            b_sum += b\n",
    "            g_sum += g\n",
    "            r_sum += r\n",
    "        dst[i, j] = [b_sum // size, g_sum // size, r_sum // size ]\n",
    "cv2.imshow('img',img)\n",
    "cv2.imshow('gray',gray)\n",
    "cv2.imshow('image',dst)\n",
    "cv2.waitKey(0)\n",
    "cv2.destroyAllWindows()"
   ]
  },
  {
   "cell_type": "code",
   "execution_count": 4,
   "metadata": {},
   "outputs": [],
   "source": [
    "import cv2\n",
    "import numpy as np\n",
    "img=cv2.imread('image1.jpg',1)\n",
    "gray= cv2.cvtColor(img,cv2.COLOR_BGR2GRAY)\n",
    "imgInfo = img.shape\n",
    "height = imgInfo[0]\n",
    "width = imgInfo[1]\n",
    "dst=np.zeros((height,width,3),np.uint8)\n",
    "for i in range(5,height-4):\n",
    "    for j in range(5,width-4):\n",
    "        array1=np.zeros(4,np.uint8)\n",
    "        for m in range(-5,5):\n",
    "            for n in range(-5,5):\n",
    "                p1=int(gray[i+m,j+n]/64)\n",
    "                array1[p1]=array1[p1]+1\n",
    "        curentMax=array1[0]\n",
    "        l=0\n",
    "        for k in range(0,4):\n",
    "            if curentMax<array1[k]:\n",
    "                curentMax=array1[k]\n",
    "                l=k\n",
    "        for m in range(-5,5):\n",
    "            for n in range(-5,5):\n",
    "                if gray[i+m,j+n]>=(l*64) and gray[i+m,j+n]<((l+1)*64):\n",
    "                    (b,g,r)=img[i+m,j+n]\n",
    "        dst[i,j]=(b,g,r)\n",
    "for i in range(5):\n",
    "    for j in range(width):\n",
    "        dst[i,j]=img[i,j]\n",
    "        dst[i+height-5,j]=img[i+height-5,j]\n",
    "for i in range(height):\n",
    "    for j in range(5):\n",
    "        dst[i,j]=img[i,j]\n",
    "        dst[i,j+width-5]=img[i,j+width-5]\n",
    "cv2.imshow('scr',dst)\n",
    "cv2.imshow('img',img)\n",
    "cv2.waitKey(0)\n",
    "cv2.destroyAllWindows()"
   ]
  },
  {
   "cell_type": "code",
   "execution_count": null,
   "metadata": {},
   "outputs": [],
   "source": []
  }
 ],
 "metadata": {
  "kernelspec": {
   "display_name": "Python 3",
   "language": "python",
   "name": "python3"
  },
  "language_info": {
   "codemirror_mode": {
    "name": "ipython",
    "version": 3
   },
   "file_extension": ".py",
   "mimetype": "text/x-python",
   "name": "python",
   "nbconvert_exporter": "python",
   "pygments_lexer": "ipython3",
   "version": "3.7.4"
  }
 },
 "nbformat": 4,
 "nbformat_minor": 2
}
