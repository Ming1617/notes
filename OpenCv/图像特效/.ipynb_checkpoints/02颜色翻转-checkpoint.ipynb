{
 "cells": [
  {
   "cell_type": "code",
   "execution_count": 1,
   "metadata": {},
   "outputs": [],
   "source": [
    "#灰度图片的颜色翻转\n",
    "#gray 0-255 用255-当前像素值"
   ]
  },
  {
   "cell_type": "code",
   "execution_count": 2,
   "metadata": {},
   "outputs": [],
   "source": [
    "import cv2\n",
    "import numpy as np\n"
   ]
  },
  {
   "cell_type": "code",
   "execution_count": 24,
   "metadata": {},
   "outputs": [
    {
     "name": "stdout",
     "output_type": "stream",
     "text": [
      "(291, 512)\n",
      "168\n",
      "(291, 512)\n",
      "(291, 512)\n"
     ]
    }
   ],
   "source": [
    "yimg=cv2.imread('image1.jpg',1)\n",
    "img=cv2.imread('image1.jpg',0)\n",
    "imgInfo = img.shape\n",
    "height = imgInfo[0]\n",
    "width = imgInfo[-1]\n",
    "print(imgInfo)\n",
    "dst=np.zeros(imgInfo,np.uint8)\n",
    "print(img[0,0])\n",
    "print(img.shape)\n",
    "print(dst.shape)\n",
    "for i in range(height):\n",
    "    for j in range(width):\n",
    "        dst[i,j]=255-(int(img[i,j]))\n",
    "cv2.imshow('yimg',yimg)\n",
    "cv2.imshow('dst',dst)\n",
    "cv2.imshow('img',img)\n",
    "cv2.waitKey(0)\n",
    "cv2.destroyAllWindows()"
   ]
  },
  {
   "cell_type": "code",
   "execution_count": 38,
   "metadata": {},
   "outputs": [
    {
     "name": "stdout",
     "output_type": "stream",
     "text": [
      "(291, 512, 3)\n",
      "[157 164 179]\n",
      "[0 0 0]\n"
     ]
    }
   ],
   "source": [
    "#彩色图片翻转\n",
    "#255-r  255-g  255-b\n",
    "img=cv2.imread('image1.jpg',1)\n",
    "imgInfo = img.shape\n",
    "height = imgInfo[0]\n",
    "width = imgInfo[1]\n",
    "print(imgInfo)\n",
    "dst=np.zeros(imgInfo,np.uint8)\n",
    "print(img[0,0])\n",
    "# print(img.shape)\n",
    "# print(dst.shape)\n",
    "(b,g,r)=img[0,0]\n",
    "img[0,0]=(0,0,0)\n",
    "print(img[0,0])\n",
    "for i in range(height):\n",
    "    for j in range(width):\n",
    "        (b,g,r)=img[i,j]\n",
    "#         print(newb,newg,newr)\n",
    "        dst[i,j]=(int(255-b),int(255-g),int(255-r))\n",
    "cv2.imshow('dst',dst)\n",
    "cv2.imshow('img',img)\n",
    "cv2.waitKey(0)\n",
    "cv2.destroyAllWindows()"
   ]
  },
  {
   "cell_type": "code",
   "execution_count": null,
   "metadata": {},
   "outputs": [],
   "source": []
  }
 ],
 "metadata": {
  "kernelspec": {
   "display_name": "Python 3",
   "language": "python",
   "name": "python3"
  },
  "language_info": {
   "codemirror_mode": {
    "name": "ipython",
    "version": 3
   },
   "file_extension": ".py",
   "mimetype": "text/x-python",
   "name": "python",
   "nbconvert_exporter": "python",
   "pygments_lexer": "ipython3",
   "version": "3.7.4"
  }
 },
 "nbformat": 4,
 "nbformat_minor": 2
}
