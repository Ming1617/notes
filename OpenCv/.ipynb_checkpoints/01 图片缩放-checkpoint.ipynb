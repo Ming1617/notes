{
 "cells": [
  {
   "cell_type": "code",
   "execution_count": 1,
   "metadata": {},
   "outputs": [],
   "source": [
    "#缩放\n",
    "#等比例缩放：宽和高同时放大和缩小相同的倍数\n",
    "#非等比例缩放：宽和高不是同时放大和缩小相同的数量\n",
    "\n",
    "#图片放大到原来的2倍\n",
    "# 4行6列 8行12列\n"
   ]
  },
  {
   "cell_type": "code",
   "execution_count": 1,
   "metadata": {},
   "outputs": [],
   "source": [
    "import cv2\n",
    "import numpy as np"
   ]
  },
  {
   "cell_type": "code",
   "execution_count": 2,
   "metadata": {},
   "outputs": [],
   "source": [
    "image=cv2.imread('image.jpg')\n"
   ]
  },
  {
   "cell_type": "code",
   "execution_count": 3,
   "metadata": {},
   "outputs": [
    {
     "data": {
      "text/plain": [
       "(582, 1024, 3)"
      ]
     },
     "execution_count": 3,
     "metadata": {},
     "output_type": "execute_result"
    }
   ],
   "source": [
    "image.shape"
   ]
  },
  {
   "cell_type": "code",
   "execution_count": 5,
   "metadata": {},
   "outputs": [],
   "source": [
    "data=np.zeros((582,1024,3))"
   ]
  },
  {
   "cell_type": "code",
   "execution_count": 6,
   "metadata": {},
   "outputs": [
    {
     "data": {
      "text/plain": [
       "(582, 1024, 3)"
      ]
     },
     "execution_count": 6,
     "metadata": {},
     "output_type": "execute_result"
    }
   ],
   "source": [
    "data.shape"
   ]
  },
  {
   "cell_type": "code",
   "execution_count": 7,
   "metadata": {},
   "outputs": [
    {
     "ename": "IndexError",
     "evalue": "index 540 is out of bounds for axis 1 with size 540",
     "output_type": "error",
     "traceback": [
      "\u001b[1;31m---------------------------------------------------------------------------\u001b[0m",
      "\u001b[1;31mIndexError\u001b[0m                                Traceback (most recent call last)",
      "\u001b[1;32m<ipython-input-7-b51522b2af6b>\u001b[0m in \u001b[0;36m<module>\u001b[1;34m\u001b[0m\n\u001b[0;32m      3\u001b[0m         \u001b[0minew\u001b[0m\u001b[1;33m=\u001b[0m\u001b[0mint\u001b[0m\u001b[1;33m(\u001b[0m\u001b[0mi\u001b[0m\u001b[1;33m*\u001b[0m\u001b[1;33m(\u001b[0m\u001b[1;36m1080\u001b[0m\u001b[1;33m*\u001b[0m\u001b[1;36m1.0\u001b[0m\u001b[1;33m/\u001b[0m\u001b[1;36m540\u001b[0m\u001b[1;33m)\u001b[0m\u001b[1;33m)\u001b[0m\u001b[1;33m\u001b[0m\u001b[1;33m\u001b[0m\u001b[0m\n\u001b[0;32m      4\u001b[0m         \u001b[0mjnew\u001b[0m\u001b[1;33m=\u001b[0m\u001b[0mint\u001b[0m\u001b[1;33m(\u001b[0m\u001b[0mj\u001b[0m\u001b[1;33m*\u001b[0m\u001b[1;33m(\u001b[0m\u001b[1;36m1080\u001b[0m\u001b[1;33m*\u001b[0m\u001b[1;36m1.0\u001b[0m\u001b[1;33m/\u001b[0m\u001b[1;36m540\u001b[0m\u001b[1;33m)\u001b[0m\u001b[1;33m)\u001b[0m\u001b[1;33m\u001b[0m\u001b[1;33m\u001b[0m\u001b[0m\n\u001b[1;32m----> 5\u001b[1;33m         \u001b[0mdata\u001b[0m\u001b[1;33m[\u001b[0m\u001b[0mi\u001b[0m\u001b[1;33m,\u001b[0m\u001b[0mj\u001b[0m\u001b[1;33m]\u001b[0m\u001b[1;33m=\u001b[0m\u001b[0mimage\u001b[0m\u001b[1;33m[\u001b[0m\u001b[0minew\u001b[0m\u001b[1;33m,\u001b[0m\u001b[0mjnew\u001b[0m\u001b[1;33m]\u001b[0m\u001b[1;33m\u001b[0m\u001b[1;33m\u001b[0m\u001b[0m\n\u001b[0m",
      "\u001b[1;31mIndexError\u001b[0m: index 540 is out of bounds for axis 1 with size 540"
     ]
    }
   ],
   "source": [
    "for i in range(0,540):\n",
    "    for j in range(0,540):\n",
    "        inew=int(i*(1080*1.0/540))\n",
    "        jnew=int(j*(1080*1.0/540))\n",
    "        data[i,j]=image[inew,jnew]\n"
   ]
  },
  {
   "cell_type": "code",
   "execution_count": 8,
   "metadata": {},
   "outputs": [],
   "source": [
    "cv2.imshow('111',data)\n",
    "cv2.waitKey(0)\n",
    "cv2.destroyAllWindows()"
   ]
  },
  {
   "cell_type": "code",
   "execution_count": 9,
   "metadata": {},
   "outputs": [
    {
     "data": {
      "text/plain": [
       "array([[[197., 205., 198.],\n",
       "        [201., 209., 202.],\n",
       "        [203., 211., 204.],\n",
       "        ...,\n",
       "        [  0.,   0.,   0.],\n",
       "        [  0.,   0.,   0.],\n",
       "        [  0.,   0.,   0.]],\n",
       "\n",
       "       [[  0.,   0.,   0.],\n",
       "        [  0.,   0.,   0.],\n",
       "        [  0.,   0.,   0.],\n",
       "        ...,\n",
       "        [  0.,   0.,   0.],\n",
       "        [  0.,   0.,   0.],\n",
       "        [  0.,   0.,   0.]],\n",
       "\n",
       "       [[  0.,   0.,   0.],\n",
       "        [  0.,   0.,   0.],\n",
       "        [  0.,   0.,   0.],\n",
       "        ...,\n",
       "        [  0.,   0.,   0.],\n",
       "        [  0.,   0.,   0.],\n",
       "        [  0.,   0.,   0.]],\n",
       "\n",
       "       ...,\n",
       "\n",
       "       [[  0.,   0.,   0.],\n",
       "        [  0.,   0.,   0.],\n",
       "        [  0.,   0.,   0.],\n",
       "        ...,\n",
       "        [  0.,   0.,   0.],\n",
       "        [  0.,   0.,   0.],\n",
       "        [  0.,   0.,   0.]],\n",
       "\n",
       "       [[  0.,   0.,   0.],\n",
       "        [  0.,   0.,   0.],\n",
       "        [  0.,   0.,   0.],\n",
       "        ...,\n",
       "        [  0.,   0.,   0.],\n",
       "        [  0.,   0.,   0.],\n",
       "        [  0.,   0.,   0.]],\n",
       "\n",
       "       [[  0.,   0.,   0.],\n",
       "        [  0.,   0.,   0.],\n",
       "        [  0.,   0.,   0.],\n",
       "        ...,\n",
       "        [  0.,   0.,   0.],\n",
       "        [  0.,   0.,   0.],\n",
       "        [  0.,   0.,   0.]]])"
      ]
     },
     "execution_count": 9,
     "metadata": {},
     "output_type": "execute_result"
    }
   ],
   "source": [
    "data"
   ]
  },
  {
   "cell_type": "code",
   "execution_count": 10,
   "metadata": {},
   "outputs": [
    {
     "data": {
      "text/plain": [
       "(540, 540, 3)"
      ]
     },
     "execution_count": 10,
     "metadata": {},
     "output_type": "execute_result"
    }
   ],
   "source": [
    "data.shape"
   ]
  },
  {
   "cell_type": "code",
   "execution_count": 11,
   "metadata": {},
   "outputs": [
    {
     "data": {
      "text/plain": [
       "array([[[197, 205, 198],\n",
       "        [199, 207, 200],\n",
       "        [201, 209, 202],\n",
       "        ...,\n",
       "        [200, 202, 196],\n",
       "        [166, 171, 162],\n",
       "        [148, 153, 144]],\n",
       "\n",
       "       [[197, 205, 198],\n",
       "        [199, 207, 200],\n",
       "        [202, 210, 203],\n",
       "        ...,\n",
       "        [207, 209, 203],\n",
       "        [187, 192, 183],\n",
       "        [162, 167, 158]],\n",
       "\n",
       "       [[198, 206, 199],\n",
       "        [200, 208, 201],\n",
       "        [202, 210, 203],\n",
       "        ...,\n",
       "        [192, 196, 190],\n",
       "        [177, 182, 173],\n",
       "        [162, 167, 158]],\n",
       "\n",
       "       ...,\n",
       "\n",
       "       [[204, 216, 204],\n",
       "        [206, 218, 206],\n",
       "        [209, 219, 207],\n",
       "        ...,\n",
       "        [ 86,  64,  58],\n",
       "        [ 90,  68,  62],\n",
       "        [ 84,  62,  56]],\n",
       "\n",
       "       [[207, 219, 207],\n",
       "        [207, 219, 207],\n",
       "        [209, 219, 207],\n",
       "        ...,\n",
       "        [ 84,  63,  55],\n",
       "        [ 90,  66,  60],\n",
       "        [ 84,  60,  54]],\n",
       "\n",
       "       [[207, 219, 207],\n",
       "        [207, 219, 207],\n",
       "        [209, 219, 207],\n",
       "        ...,\n",
       "        [ 82,  61,  53],\n",
       "        [ 87,  63,  57],\n",
       "        [ 82,  58,  52]]], dtype=uint8)"
      ]
     },
     "execution_count": 11,
     "metadata": {},
     "output_type": "execute_result"
    }
   ],
   "source": [
    "image"
   ]
  },
  {
   "cell_type": "code",
   "execution_count": 12,
   "metadata": {},
   "outputs": [
    {
     "ename": "NameError",
     "evalue": "name 'img' is not defined",
     "output_type": "error",
     "traceback": [
      "\u001b[1;31m---------------------------------------------------------------------------\u001b[0m",
      "\u001b[1;31mNameError\u001b[0m                                 Traceback (most recent call last)",
      "\u001b[1;32m<ipython-input-12-017e934e317a>\u001b[0m in \u001b[0;36m<module>\u001b[1;34m\u001b[0m\n\u001b[1;32m----> 1\u001b[1;33m \u001b[0mcv2\u001b[0m\u001b[1;33m.\u001b[0m\u001b[0mimshow\u001b[0m\u001b[1;33m(\u001b[0m\u001b[1;34m'dst'\u001b[0m\u001b[1;33m,\u001b[0m\u001b[0mimg\u001b[0m\u001b[1;33m)\u001b[0m\u001b[1;33m\u001b[0m\u001b[1;33m\u001b[0m\u001b[0m\n\u001b[0m\u001b[0;32m      2\u001b[0m \u001b[0mcv2\u001b[0m\u001b[1;33m.\u001b[0m\u001b[0mwaitKey\u001b[0m\u001b[1;33m(\u001b[0m\u001b[1;36m0\u001b[0m\u001b[1;33m)\u001b[0m\u001b[1;33m\u001b[0m\u001b[1;33m\u001b[0m\u001b[0m\n",
      "\u001b[1;31mNameError\u001b[0m: name 'img' is not defined"
     ]
    }
   ],
   "source": [
    "cv2.imshow('dst',img)\n",
    "cv2.waitKey(0)"
   ]
  },
  {
   "cell_type": "code",
   "execution_count": 9,
   "metadata": {},
   "outputs": [
    {
     "data": {
      "text/plain": [
       "-1"
      ]
     },
     "execution_count": 9,
     "metadata": {},
     "output_type": "execute_result"
    }
   ],
   "source": [
    "#缩小\n",
    "import cv2\n",
    "import numpy as np\n",
    "img = cv2.imread('image.jpg',1)\n",
    "imgInfo = img.shape\n",
    "height = imgInfo[0]\n",
    "width = imgInfo[1]\n",
    "dstHeight = int(height/2)\n",
    "dstWidth = int(width/2)\n",
    "dstImage = np.zeros((dstHeight,dstWidth,3),np.uint8)#0-255 \n",
    "for i in range(0,dstHeight):#行\n",
    "    for j in range(0,dstWidth):#列 \n",
    "        iNew = int(i*(height*1.0/dstHeight))\n",
    "        jNew = int(j*(width*1.0/dstWidth))\n",
    "        dstImage[i,j] = img[iNew,jNew]\n",
    "# cv2.imwrite('image1111.jpg',image,[cv2.IMWRITE_JPEG_QUALITY,100])\n",
    "cv2.imshow('dst',dstImage)\n",
    "cv2.waitKey(0)"
   ]
  },
  {
   "cell_type": "code",
   "execution_count": 2,
   "metadata": {},
   "outputs": [],
   "source": [
    "img=dstImage"
   ]
  },
  {
   "cell_type": "code",
   "execution_count": 3,
   "metadata": {},
   "outputs": [
    {
     "data": {
      "text/plain": [
       "-1"
      ]
     },
     "execution_count": 3,
     "metadata": {},
     "output_type": "execute_result"
    }
   ],
   "source": [
    "#缩小\n",
    "import cv2\n",
    "import numpy as np\n",
    "# img = cv2.imread('image.jpg',1)\n",
    "imgInfo = img.shape\n",
    "height = imgInfo[0]\n",
    "width = imgInfo[1]\n",
    "dstHeight = int(height/2)\n",
    "dstWidth = int(width/2)\n",
    "dstImage = np.zeros((dstHeight,dstWidth,3),np.uint8)#0-255 \n",
    "for i in range(0,dstHeight):#行\n",
    "    for j in range(0,dstWidth):#列 \n",
    "        iNew = int(i*(height*1.0/dstHeight))\n",
    "        jNew = int(j*(width*1.0/dstWidth))\n",
    "        dstImage[i,j] = img[iNew,jNew]\n",
    "cv2.imshow('dst',dstImage)\n",
    "cv2.waitKey(0)"
   ]
  },
  {
   "cell_type": "code",
   "execution_count": 4,
   "metadata": {},
   "outputs": [
    {
     "data": {
      "text/plain": [
       "-1"
      ]
     },
     "execution_count": 4,
     "metadata": {},
     "output_type": "execute_result"
    }
   ],
   "source": [
    "#放大\n",
    "import cv2\n",
    "import numpy as np\n",
    "# img = cv2.imread('image.jpg',1)\n",
    "imgInfo = img.shape\n",
    "height = imgInfo[0]\n",
    "width = imgInfo[1]\n",
    "dstHeight = int(height*0.5)\n",
    "dstWidth = int(width*(1/3))\n",
    "dstImage = np.zeros((dstHeight,dstWidth,3),np.uint8)#0-255 \n",
    "for i in range(0,dstHeight):#行\n",
    "    for j in range(0,dstWidth):#列 \n",
    "        iNew = int(i*(height*1.0/dstHeight))\n",
    "        jNew = int(j*(width*1.0/dstWidth))\n",
    "        dstImage[i,j] = img[iNew,jNew]\n",
    "cv2.imshow('dst',dstImage)\n",
    "cv2.waitKey(0)"
   ]
  },
  {
   "cell_type": "markdown",
   "metadata": {},
   "source": [
    "resize( InputArray src, OutputArray dst,Size dsize, double fx = 0, double fy = 0,int interpolation = INTER_LINEAR );"
   ]
  },
  {
   "cell_type": "raw",
   "metadata": {},
   "source": [
    "nputArray src – 原始图像\n",
    "OutputArray dst – 调整尺寸后图像\n",
    "Size dsize – 调整后的图像尺寸\n",
    "double fx = 0 – x轴上的缩放系数，一般用默认参数\n",
    "double fy = 0 – y轴上的缩放系数，一般用默认参数\n",
    "int interpolation = INTER_LINEAR – 差值方式，一般用默认参数\n",
    "\n",
    "常用的差值方式\n",
    "常用的默认差值方式有以下几种：\n",
    "\n",
    "INTER_NEAREST - 最近邻插值\n",
    "INTER_LINEAR - 线性插值（默认）\n",
    "INTER_AREA - 区域插值\n",
    "INTER_CUBIC - 三次样条插值\n",
    "INTER_LANCZOS4 - Lanczos插值"
   ]
  },
  {
   "cell_type": "code",
   "execution_count": 42,
   "metadata": {},
   "outputs": [
    {
     "data": {
      "text/plain": [
       "-1"
      ]
     },
     "execution_count": 42,
     "metadata": {},
     "output_type": "execute_result"
    }
   ],
   "source": [
    "#调用函数放大1.5倍\n",
    "dst=cv2.resize(img,None,fx=1.5,fy=1.5,interpolation=cv2.INTER_CUBIC)\n",
    "cv2.imshow('dst',dst)\n",
    "cv2.waitKey(0)"
   ]
  },
  {
   "cell_type": "code",
   "execution_count": null,
   "metadata": {},
   "outputs": [],
   "source": []
  }
 ],
 "metadata": {
  "kernelspec": {
   "display_name": "Python 3",
   "language": "python",
   "name": "python3"
  },
  "language_info": {
   "codemirror_mode": {
    "name": "ipython",
    "version": 3
   },
   "file_extension": ".py",
   "mimetype": "text/x-python",
   "name": "python",
   "nbconvert_exporter": "python",
   "pygments_lexer": "ipython3",
   "version": "3.7.4"
  }
 },
 "nbformat": 4,
 "nbformat_minor": 2
}
