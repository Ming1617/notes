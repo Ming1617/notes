{
 "cells": [
  {
   "cell_type": "code",
   "execution_count": 1,
   "metadata": {},
   "outputs": [],
   "source": [
    "import cv2\n",
    "import numpy as np"
   ]
  },
  {
   "cell_type": "code",
   "execution_count": 7,
   "metadata": {},
   "outputs": [],
   "source": [
    "img=cv2.imread('image.jpg')"
   ]
  },
  {
   "cell_type": "code",
   "execution_count": 8,
   "metadata": {},
   "outputs": [
    {
     "data": {
      "text/plain": [
       "(540, 540, 3)"
      ]
     },
     "execution_count": 8,
     "metadata": {},
     "output_type": "execute_result"
    }
   ],
   "source": [
    "img.shape"
   ]
  },
  {
   "cell_type": "code",
   "execution_count": 10,
   "metadata": {},
   "outputs": [
    {
     "data": {
      "text/plain": [
       "-1"
      ]
     },
     "execution_count": 10,
     "metadata": {},
     "output_type": "execute_result"
    }
   ],
   "source": [
    "#缩放\n",
    "imgInfo = img.shape\n",
    "height = imgInfo[0]\n",
    "width = imgInfo[1]\n",
    "dstHeight = int(height/2)\n",
    "dstWidth = int(width/2)\n",
    "dstImage = np.zeros((dstHeight,dstWidth,3),np.uint8)#0-255 \n",
    "for i in range(0,dstHeight):#行\n",
    "    for j in range(0,dstWidth):#列 \n",
    "        iNew = int(i*(height*1.0/dstHeight))\n",
    "        jNew = int(j*(width*1.0/dstWidth))\n",
    "        dstImage[i,j] = img[iNew,jNew]\n",
    "cv2.imshow('img',img)\n",
    "cv2.imshow('dst',dstImage)\n",
    "cv2.waitKey(0)"
   ]
  },
  {
   "cell_type": "code",
   "execution_count": 23,
   "metadata": {},
   "outputs": [
    {
     "data": {
      "text/plain": [
       "-1"
      ]
     },
     "execution_count": 23,
     "metadata": {},
     "output_type": "execute_result"
    }
   ],
   "source": [
    "#剪切\n",
    "image=img[30:500,150:500]\n",
    "cv2.imshow('img',img)\n",
    "cv2.imshow('image',image)\n",
    "cv2.waitKey(0)"
   ]
  },
  {
   "cell_type": "code",
   "execution_count": 25,
   "metadata": {},
   "outputs": [
    {
     "data": {
      "text/plain": [
       "-1"
      ]
     },
     "execution_count": 25,
     "metadata": {},
     "output_type": "execute_result"
    }
   ],
   "source": [
    "#图片的位移\n",
    "#右平移\n",
    "image=cv2.imread('image.jpg')\n",
    "shape1=image.shape\n",
    "higth=shape1[0]\n",
    "width=shape1[1]\n",
    "img = np.zeros((shape1),np.uint8)\n",
    "xc=200#平移像素数\n",
    "for i in range(0,higth):\n",
    "    for j in range(xc,width):\n",
    "        img[i,j]=image[i,j-xc]\n",
    "        img[i,j-xc]=image[i,j]\n",
    "cv2.imshow('dst',img)\n",
    "cv2.waitKey(0)"
   ]
  },
  {
   "cell_type": "code",
   "execution_count": 26,
   "metadata": {},
   "outputs": [
    {
     "data": {
      "text/plain": [
       "-1"
      ]
     },
     "execution_count": 26,
     "metadata": {},
     "output_type": "execute_result"
    }
   ],
   "source": [
    "#下平移\n",
    "image=cv2.imread('image.jpg')\n",
    "shape1=image.shape\n",
    "higth=shape1[0]\n",
    "width=shape1[1]\n",
    "xc=200#平移像素数\n",
    "img = np.zeros((shape1),np.uint8)\n",
    "for i in range(xc,higth):\n",
    "    for j in range(0,width):\n",
    "        img[i,j]=image[i-xc,j]\n",
    "        img[i-270,j]=image[i,j]\n",
    "cv2.imshow('dst',img)\n",
    "cv2.waitKey(0)"
   ]
  },
  {
   "cell_type": "code",
   "execution_count": 27,
   "metadata": {},
   "outputs": [
    {
     "data": {
      "text/plain": [
       "-1"
      ]
     },
     "execution_count": 27,
     "metadata": {},
     "output_type": "execute_result"
    }
   ],
   "source": [
    "#向下和向右移动\n",
    "image=cv2.imread('image.jpg')\n",
    "img = np.zeros((540,540,3),np.uint8)\n",
    "for i in range(100,540):\n",
    "    for j in range(100,540):\n",
    "        img[i,j]=image[i-100,j-100]\n",
    "for i in range(0,100):#高\n",
    "    for j in range(100,540):#宽\n",
    "        img[i,j]=image[i+440,j-100]\n",
    "for i in range(100,540):#高\n",
    "    for j in range(0,100):#宽\n",
    "        img[i,j]=image[i-100,j+440]\n",
    "for i in range(0,100):#高\n",
    "    for j in range(0,100):#宽\n",
    "        img[i,j]=image[i+440,j+440]\n",
    "cv2.imshow('dst',image)\n",
    "cv2.imshow('dst',img)\n",
    "cv2.waitKey(0)"
   ]
  },
  {
   "cell_type": "code",
   "execution_count": 29,
   "metadata": {},
   "outputs": [
    {
     "data": {
      "text/plain": [
       "-1"
      ]
     },
     "execution_count": 29,
     "metadata": {},
     "output_type": "execute_result"
    }
   ],
   "source": [
    "#左平移\n",
    "image=cv2.imread('image.jpg',1)\n",
    "ishape=image.shape\n",
    "heigth=ishape[0]\n",
    "width=ishape[1]\n",
    "matShift=np.float32([[1,0,-100],[0,1,0]])#[1,0,?]表示水平移动若干单位,- 号表示向左移动，反之向右；[0,1,?]表示垂直移动若干单位，- 号向上移动，反之向下\n",
    "                 #1：变换后图像的比例大小\n",
    "dst=cv2.warpAffine(image,matShift,(width,height))\n",
    "\n",
    "cv2.imshow('src',image)\n",
    "cv2.imshow('dst',dst)\n",
    "cv2.waitKey(0)"
   ]
  },
  {
   "cell_type": "code",
   "execution_count": 30,
   "metadata": {},
   "outputs": [
    {
     "data": {
      "text/plain": [
       "-1"
      ]
     },
     "execution_count": 30,
     "metadata": {},
     "output_type": "execute_result"
    }
   ],
   "source": [
    "#左右镜像\n",
    "image=cv2.imread('image.jpg',1)\n",
    "ishape=image.shape\n",
    "higth=ishape[0]\n",
    "width=ishape[1]\n",
    "img = np.zeros((higth,width*2,3),np.uint8)\n",
    "for i in range(0,width):\n",
    "    for j in range(0,higth):\n",
    "        img[i,j]=image[i,j]\n",
    "\n",
    "\n",
    "for i in range(0,higth):\n",
    "    x=1\n",
    "    for j in range(width,width*2):\n",
    "        img[i,j] = image[i,j-x]\n",
    "        x=x+2\n",
    "for i in range(higth):\n",
    "    img[i, width] = (0, 255, 255)\n",
    "cv2.imshow('dst',image)\n",
    "cv2.imshow('dst',img)\n",
    "cv2.waitKey(0)"
   ]
  },
  {
   "cell_type": "code",
   "execution_count": 32,
   "metadata": {},
   "outputs": [],
   "source": [
    "#图片仿射\n",
    "import cv2\n",
    "import numpy as np\n",
    "img=cv2.imread('image1.jpg',1)\n",
    "ishape=img.shape\n",
    "heigth=ishape[0]\n",
    "width=ishape[1]\n",
    "#src 3-》dst 3(3个点：左上角，左下角，右上角)\n",
    "matSrc=np.float32([[0,0],[0,heigth-1],[width-1,0]])\n",
    "matDst=np.float32([[100,50],[100,heigth-100],[width-100,100]])\n",
    "#组合后，经过变换得到仿射变换矩阵\n",
    "matAffine=cv2.getAffineTransform(matSrc,matDst)\n",
    "dst=cv2.warpAffine(img,matAffine,(width,heigth))\n",
    "cv2.imshow('src',img)\n",
    "cv2.imshow('dst',dst)\n",
    "cv2.waitKey(0)\n",
    "cv2.destroyAllWindows()"
   ]
  },
  {
   "cell_type": "code",
   "execution_count": 33,
   "metadata": {},
   "outputs": [],
   "source": [
    "img = cv2.imread('image1.jpg',1)\n",
    "imgshape=img.shape\n",
    "(h,w)=imgshape[0:2]\n",
    "(cx,cy)=w//2,h//2\n",
    "#(cx,cy)选装中心点\n",
    "#45-逆时针旋转45度   负数为顺时针旋转\n",
    "#1.0-缩放\n",
    "m=cv2.getRotationMatrix2D((cx,cy),20,1.0)\n",
    "image=cv2.warpAffine(img,m,(w,h))\n",
    "cv2.imshow('image',img)\n",
    "cv2.imshow('dst2',image)\n",
    "cv2.waitKey(0)\n",
    "cv2.destroyAllWindows()"
   ]
  },
  {
   "cell_type": "code",
   "execution_count": null,
   "metadata": {},
   "outputs": [],
   "source": []
  }
 ],
 "metadata": {
  "kernelspec": {
   "display_name": "Python 3",
   "language": "python",
   "name": "python3"
  },
  "language_info": {
   "codemirror_mode": {
    "name": "ipython",
    "version": 3
   },
   "file_extension": ".py",
   "mimetype": "text/x-python",
   "name": "python",
   "nbconvert_exporter": "python",
   "pygments_lexer": "ipython3",
   "version": "3.7.4"
  }
 },
 "nbformat": 4,
 "nbformat_minor": 2
}
