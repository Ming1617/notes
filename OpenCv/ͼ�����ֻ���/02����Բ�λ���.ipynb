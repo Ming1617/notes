{
 "cells": [
  {
   "cell_type": "code",
   "execution_count": 11,
   "metadata": {},
   "outputs": [],
   "source": [
    "import cv2\n",
    "import numpy as np"
   ]
  },
  {
   "cell_type": "code",
   "execution_count": 12,
   "metadata": {},
   "outputs": [],
   "source": [
    "newImgInfo=(600,500,3)"
   ]
  },
  {
   "cell_type": "code",
   "execution_count": 13,
   "metadata": {},
   "outputs": [],
   "source": [
    "dst=np.zeros((newImgInfo),np.uint8)"
   ]
  },
  {
   "cell_type": "code",
   "execution_count": 14,
   "metadata": {},
   "outputs": [],
   "source": [
    "#               左上角坐标点  右下角坐标点\n",
    "dst=cv2.rectangle(dst,(200,200),   (60,60),(0,0,255),2)\n",
    "#red-颜色\n",
    "#2-线条宽度\n",
    "cv2.imshow('dst2',dst)\n",
    "cv2.waitKey(0)\n",
    "cv2.destroyAllWindows()\n",
    "dst=np.zeros((newImgInfo),np.uint8)"
   ]
  },
  {
   "cell_type": "code",
   "execution_count": 5,
   "metadata": {},
   "outputs": [],
   "source": [
    "cv2.rectangle(dst,(50,200),   (220,280),(255,0,0),-1)\n",
    "#-1 表示填充\n",
    "cv2.imshow('dst2',dst)\n",
    "cv2.waitKey(0)\n",
    "cv2.destroyAllWindows()\n",
    "dst=np.zeros((newImgInfo),np.uint8)"
   ]
  },
  {
   "cell_type": "code",
   "execution_count": 6,
   "metadata": {},
   "outputs": [],
   "source": [
    "\n",
    "cv2.circle(dst,(250,250),(50),(0,255,0),5)\n",
    "cv2.circle(dst,(250,250),(10),(0,0,255),5)\n",
    "cv2.imshow('dst2',dst)\n",
    "cv2.waitKey(0)\n",
    "cv2.destroyAllWindows()\n",
    "dst=np.zeros((newImgInfo),np.uint8)"
   ]
  },
  {
   "cell_type": "code",
   "execution_count": 7,
   "metadata": {},
   "outputs": [],
   "source": [
    "#椭圆， 1 dst 2圆心 3 轴（第一个数表示水平的半轴长度，第二个数表示竖直方向的半轴长度）\n",
    "#       4 angle计算的起始点（顺时针方向） 5 相当于起始点的begin angle（顺时针方向） 6 相对于起始点的end angle\n",
    "#       7 color 8 是否填充 -1表示填充正数表示线宽\n",
    "cv2.ellipse(dst,(300,300),(150,100),90,90,360,(255,255,0),-1)\n",
    "cv2.imshow('dst2',dst)\n",
    "cv2.waitKey(0)\n",
    "cv2.destroyAllWindows()\n",
    "dst=np.zeros((newImgInfo),np.uint8)"
   ]
  },
  {
   "cell_type": "code",
   "execution_count": 8,
   "metadata": {},
   "outputs": [],
   "source": [
    "dst=np.zeros((300,300,3),dtype='uint8')\n",
    "(cx,cy)=dst.shape[1]//2,dst.shape[0]//2\n",
    "white=(255,255,255)\n",
    "for r in range(0,151,15):\n",
    "    cv2.circle(dst,(cx,cy),r,white,2)\n",
    "cv2.imshow('dst2',dst)\n",
    "cv2.waitKey(0)\n",
    "cv2.destroyAllWindows()\n",
    "dst=np.zeros((newImgInfo),np.uint8)\n",
    "# (cx,cy) - 圆心\n",
    "# r - 半径\n",
    "# white - 颜色\n",
    "# 2 - 线宽度"
   ]
  },
  {
   "cell_type": "code",
   "execution_count": 9,
   "metadata": {},
   "outputs": [],
   "source": [
    "image=np.zeros((300,300,3),dtype='uint8')\n",
    "for i in range(10):\n",
    "    #半径取值\n",
    "    radius=np.random.randint(5,200)\n",
    "    #颜色取值\n",
    "    color=np.random.randint(0,255,size=(3,)).tolist()\n",
    "    #圆心取值\n",
    "    pt=np.random.randint(0,300,size=(2,))\n",
    "    #画图\n",
    "    cv2.circle(image,tuple(pt),radius,color,-1)\n",
    "cv2.imshow('dst2',image)\n",
    "cv2.waitKey(0)\n",
    "cv2.destroyAllWindows()\n",
    "dst=np.zeros((newImgInfo),np.uint8)"
   ]
  },
  {
   "cell_type": "code",
   "execution_count": 10,
   "metadata": {},
   "outputs": [],
   "source": [
    "dst=np.zeros((600,500,3),np.uint8)\n",
    "cv2.line(dst,(100,100),(100,300),(0,0,255),20,cv2.LINE_AA)\n",
    "cv2.line(dst,(100,300),(400,300),(255,0,255),20,cv2.LINE_AA)\n",
    "cv2.line(dst,(400,300),(400,100),(0,255,0),20,cv2.LINE_AA)\n",
    "cv2.line(dst,(400,100),(100,100),(0,255,0),20,cv2.LINE_AA)\n",
    "cv2.imshow('dst2',dst)\n",
    "cv2.waitKey(0)\n",
    "cv2.destroyAllWindows()"
   ]
  },
  {
   "cell_type": "code",
   "execution_count": 22,
   "metadata": {},
   "outputs": [
    {
     "name": "stdout",
     "output_type": "stream",
     "text": [
      "(4, 2)\n",
      "[[150  50]\n",
      " [140 150]\n",
      " [130 120]\n",
      " [100  90]]\n",
      "(4, 1, 2)\n",
      "[[[150  50]]\n",
      "\n",
      " [[140 150]]\n",
      "\n",
      " [[130 120]]\n",
      "\n",
      " [[100  90]]]\n"
     ]
    }
   ],
   "source": [
    "dst=np.zeros((600,500,3),np.uint8)\n",
    "#闭合的任意多边形 注意要首尾相连\n",
    "points=np.array([[150,50],[140,150],[130,120],[100,90]],np.int32)\n",
    "print(points.shape)\n",
    "print(points)\n",
    "points=points.reshape(-1,1,2)#矩阵转换，把5*2的矩阵转置为5*1*2 ，-1表示不设置具体的值，其值由另外两个参数计算得到。\n",
    "print(points.shape)\n",
    "print(points)\n",
    "#True&Flase 是否闭合折现，True闭合，Flase不闭合\n",
    "cv2.polylines(dst,[points],True,(255.255,0),5)\n",
    "cv2.imshow('dst2',dst)\n",
    "cv2.waitKey(0)\n",
    "cv2.destroyAllWindows()"
   ]
  },
  {
   "cell_type": "code",
   "execution_count": 23,
   "metadata": {},
   "outputs": [
    {
     "name": "stdout",
     "output_type": "stream",
     "text": [
      "(4, 2)\n",
      "[[150  50]\n",
      " [140 150]\n",
      " [130 120]\n",
      " [100  90]]\n",
      "(4, 1, 2)\n",
      "[[[150  50]]\n",
      "\n",
      " [[140 150]]\n",
      "\n",
      " [[130 120]]\n",
      "\n",
      " [[100  90]]]\n"
     ]
    }
   ],
   "source": [
    "dst=np.zeros((600,500,3),np.uint8)\n",
    "#闭合的任意多边形 注意要首尾相连\n",
    "points=np.array([[150,50],[140,150],[130,120],[100,90]],np.int32)\n",
    "print(points.shape)\n",
    "print(points)\n",
    "points=points.reshape(-1,1,2)#矩阵转换，把5*2的矩阵转置为5*1*2 ，-1表示不设置具体的值，其值由另外两个参数计算得到。\n",
    "print(points.shape)\n",
    "print(points)\n",
    "#True&False 是否闭合折现，True闭合，False不闭合\n",
    "cv2.polylines(dst,[points],False,(255.255,0),5)\n",
    "cv2.imshow('dst2',dst)\n",
    "cv2.waitKey(0)\n",
    "cv2.destroyAllWindows()"
   ]
  },
  {
   "cell_type": "code",
   "execution_count": null,
   "metadata": {},
   "outputs": [],
   "source": []
  }
 ],
 "metadata": {
  "kernelspec": {
   "display_name": "Python 3",
   "language": "python",
   "name": "python3"
  },
  "language_info": {
   "codemirror_mode": {
    "name": "ipython",
    "version": 3
   },
   "file_extension": ".py",
   "mimetype": "text/x-python",
   "name": "python",
   "nbconvert_exporter": "python",
   "pygments_lexer": "ipython3",
   "version": "3.7.4"
  }
 },
 "nbformat": 4,
 "nbformat_minor": 2
}
