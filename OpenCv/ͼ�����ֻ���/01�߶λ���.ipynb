{
 "cells": [
  {
   "cell_type": "code",
   "execution_count": 1,
   "metadata": {},
   "outputs": [],
   "source": [
    "import cv2\n",
    "import numpy as np\n",
    "dst=np.zeros((600,500,3),np.uint8)\n",
    "cv2.line(dst,(100,100),(400,400),(0,0,255))\n",
    "cv2.line(dst,(100,200),(400,200),(255,0,0),20)\n",
    "cv2.line(dst,(100,300),(400,300),(0,255,0),20,cv2.LINE_AA)\n",
    "cv2.imshow('dst2',dst)\n",
    "cv2.waitKey(0)\n",
    "cv2.destroyAllWindows()"
   ]
  },
  {
   "cell_type": "code",
   "execution_count": 2,
   "metadata": {},
   "outputs": [],
   "source": [
    "dst=np.zeros((600,500,3),np.uint8)\n",
    "cv2.line(dst,(100,100),(400,400),(0,0,255),20)\n",
    "cv2.line(dst,(400,400),(400,200),(255,0,255),20)\n",
    "cv2.line(dst,(400,200),(100,100),(0,255,0),20,cv2.LINE_AA)\n",
    "cv2.imshow('dst2',dst)\n",
    "cv2.waitKey(0)\n",
    "cv2.destroyAllWindows()"
   ]
  },
  {
   "cell_type": "code",
   "execution_count": 3,
   "metadata": {},
   "outputs": [],
   "source": [
    "dst=np.zeros((600,500,3),np.uint8)\n",
    "cv2.line(dst,(100,100),(100,300),(0,0,255),20,cv2.LINE_AA)\n",
    "cv2.line(dst,(100,300),(400,300),(255,0,255),20,cv2.LINE_AA)\n",
    "cv2.line(dst,(400,300),(100,100),(0,255,0),20,cv2.LINE_AA)\n",
    "cv2.imshow('dst2',dst)\n",
    "cv2.waitKey(0)\n",
    "cv2.destroyAllWindows()"
   ]
  },
  {
   "cell_type": "code",
   "execution_count": null,
   "metadata": {},
   "outputs": [],
   "source": []
  }
 ],
 "metadata": {
  "kernelspec": {
   "display_name": "Python 3",
   "language": "python",
   "name": "python3"
  },
  "language_info": {
   "codemirror_mode": {
    "name": "ipython",
    "version": 3
   },
   "file_extension": ".py",
   "mimetype": "text/x-python",
   "name": "python",
   "nbconvert_exporter": "python",
   "pygments_lexer": "ipython3",
   "version": "3.7.4"
  }
 },
 "nbformat": 4,
 "nbformat_minor": 2
}
