{
 "cells": [
  {
   "cell_type": "code",
   "execution_count": 2,
   "metadata": {},
   "outputs": [],
   "source": [
    "import cv2\n",
    "import numpy as np"
   ]
  },
  {
   "cell_type": "code",
   "execution_count": 2,
   "metadata": {},
   "outputs": [],
   "source": [
    "#马赛克，一块一块的 实际上是多个像素点用一个像素值来表示\n",
    "#以5*5为例 25 个像素点 都用同一个值来表示\n",
    "#这个值是多少？如何获取它？理论上可以用5*5中的任意一个来替代\n",
    "#实际处理图片是，选取5*5的左上角的像素值来代替 \n",
    "#可以通过用一个除法取整 整数部分相同的话说明他们在一个5*5的方框内\n",
    "#可以用for 循环遍历时 只需要遍历你准备打马赛克的范围\n"
   ]
  },
  {
   "cell_type": "code",
   "execution_count": 3,
   "metadata": {},
   "outputs": [
    {
     "name": "stdout",
     "output_type": "stream",
     "text": [
      "(291, 512, 3)\n"
     ]
    }
   ],
   "source": [
    "img=cv2.imread('image1.jpg',1)\n",
    "imgInfo = img.shape\n",
    "height = imgInfo[0]\n",
    "width = imgInfo[1]\n",
    "print(imgInfo)\n",
    "import random\n",
    "for i in range(100,height-91,5):#100\n",
    "    for j in range(100,width-112,5):#200\n",
    "        x1=int(random.random()*4)\n",
    "        y1=int(random.random()*4)\n",
    "#         print(b,g,r)\n",
    "        for ii in range(i,i+5):\n",
    "            for jj in range(j,j+5):\n",
    "                img[ii,jj]=img[i+x1,j+y1]\n",
    "cv2.imshow('img',img)\n",
    "cv2.waitKey(0)\n",
    "cv2.destroyAllWindows()"
   ]
  },
  {
   "cell_type": "code",
   "execution_count": 4,
   "metadata": {},
   "outputs": [
    {
     "name": "stdout",
     "output_type": "stream",
     "text": [
      "(291, 512, 3)\n"
     ]
    }
   ],
   "source": [
    "#毛玻璃   看起来图片上的像素点有毛刺\n",
    "#用for循环进行遍历\n",
    "#对于当前的像素值 选取它周围的任意一个像素值来替换，使用random方法\n",
    "img=cv2.imread('image1.jpg',1)\n",
    "imgInfo = img.shape\n",
    "height = imgInfo[0]\n",
    "width = imgInfo[1]\n",
    "print(imgInfo)\n",
    "dst=np.zeros(imgInfo,np.uint8)\n",
    "import random\n",
    "for i in range(0,height):\n",
    "    for j in range(0,width-5):\n",
    "        dst[i,j]=img[i,j+int(random.random()*5)]\n",
    "for i in range(0,height):\n",
    "    for j in range(width-5,width):\n",
    "        dst[i,j]=img[i,j-int(random.random()*5)]\n",
    "cv2.imshow('dst',dst)\n",
    "cv2.imshow('img',img)\n",
    "cv2.waitKey(0)\n",
    "cv2.destroyAllWindows()"
   ]
  },
  {
   "cell_type": "code",
   "execution_count": 3,
   "metadata": {},
   "outputs": [],
   "source": [
    "import cv2\n",
    "def masaike(img,h_b,h_e,w_b,w_e,n):#b:开始，e:结束\n",
    "    import cv2\n",
    "    import random\n",
    "    for i in range(h_b,h_e,n):#100\n",
    "        for j in range(w_b,w_e,n):#200\n",
    "            x1=int(random.random()*n-1)\n",
    "            y1=int(random.random()*n-1)\n",
    "    #         print(b,g,r)\n",
    "            for ii in range(i,i+n):\n",
    "                for jj in range(j,j+n):\n",
    "                    img[ii,jj]=img[i+x1,j+y1]\n",
    "    return img\n",
    "img=cv2.imread('image1.jpg',1)\n",
    "img=masaike(img,100,200,100,200,5)\n",
    "cv2.imshow('img',img)\n",
    "cv2.waitKey(0)\n",
    "cv2.destroyAllWindows()"
   ]
  },
  {
   "cell_type": "code",
   "execution_count": null,
   "metadata": {},
   "outputs": [],
   "source": []
  }
 ],
 "metadata": {
  "kernelspec": {
   "display_name": "Python 3",
   "language": "python",
   "name": "python3"
  },
  "language_info": {
   "codemirror_mode": {
    "name": "ipython",
    "version": 3
   },
   "file_extension": ".py",
   "mimetype": "text/x-python",
   "name": "python",
   "nbconvert_exporter": "python",
   "pygments_lexer": "ipython3",
   "version": "3.7.4"
  }
 },
 "nbformat": 4,
 "nbformat_minor": 2
}
