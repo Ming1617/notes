{
 "cells": [
  {
   "cell_type": "code",
   "execution_count": null,
   "metadata": {},
   "outputs": [
    {
     "name": "stdout",
     "output_type": "stream",
     "text": [
      "(291, 512)\n",
      "(291, 512, 3)\n"
     ]
    }
   ],
   "source": [
    "#用多种方法进行灰度处理\n",
    "#1，cv2.imread('',1&0):1:彩色图片  0：灰度图片\n",
    "import cv2\n",
    "import numpy as np\n",
    "img=cv2.imread('image1.jpg',0)\n",
    "img2=cv2.imread('image1.jpg',1)\n",
    "print(img.shape)\n",
    "print(img2.shape)\n",
    "cv2.imshow('img',img2)\n",
    "cv2.imshow('IMG',img)\n",
    "cv2.waitKey(0)\n",
    "cv2.destroyAllWindows()"
   ]
  },
  {
   "cell_type": "code",
   "execution_count": 6,
   "metadata": {},
   "outputs": [],
   "source": [
    "#方法2  cvtcolor\n",
    "img=cv2.imread('image1.jpg',1)\n",
    "dst=cv2.cvtColor(img,cv2.COLOR_BGR2GRAY)#1,src 2,BGR to GRAY\n",
    "cv2.imshow('dst',dst)\n",
    "cv2.imshow('img',img)\n",
    "cv2.waitKey(0)\n",
    "cv2.destroyAllWindows()"
   ]
  },
  {
   "cell_type": "code",
   "execution_count": null,
   "metadata": {},
   "outputs": [],
   "source": [
    "#放法3  根据原理用源代码实现 gray=（(G+R+B)/3）\n",
    "img=cv2.imread('image1.jpg',1)\n",
    "imgInfo = img.shape\n",
    "height = imgInfo[0]\n",
    "width = imgInfo[1]\n",
    "dst=np.zeros((imgInfo[0:-1]),np.uint8)\n",
    "print(dst.shape)\n",
    "print(int(sum(img[0,0])/3))\n",
    "print(img[0,0])\n",
    "for i in range(height):\n",
    "    for j in range(width):\n",
    "        dst[i,j]=int(sum(img[i,j])/3)\n",
    "cv2.imshow('dst',dst)\n",
    "cv2.imshow('img',img)\n",
    "cv2.waitKey(0)\n",
    "cv2.destroyAllWindows()"
   ]
  },
  {
   "cell_type": "code",
   "execution_count": null,
   "metadata": {},
   "outputs": [],
   "source": [
    "#放法4  根据原理用源代码实现 gray= r*0.299+g*0.587+b*0.114\n",
    "import cv2\n",
    "import numpy as np\n",
    "img=cv2.imread('image1.jpg',1)\n",
    "imgInfo = img.shape\n",
    "height = imgInfo[0]\n",
    "width = imgInfo[1]\n",
    "dst=np.zeros((imgInfo[0:-1]),np.uint8)\n",
    "# print(dst.shape)\n",
    "# print(int(sum(img[0,0])/3))\n",
    "# print(img[0,0])\n",
    "for i in range(height):\n",
    "    for j in range(width):\n",
    "        (b,g,r)=img[i,j]\n",
    "        dst[i,j]=int(int(r*0.299+g*0.587+b*0.114))\n",
    "cv2.imshow('dst',dst)\n",
    "cv2.imshow('img',img)\n",
    "cv2.waitKey(0)\n",
    "cv2.destroyAllWindows()"
   ]
  },
  {
   "cell_type": "code",
   "execution_count": 7,
   "metadata": {},
   "outputs": [],
   "source": [
    "#算法运算 1 灰度处理 最重要 2 最基础 3 实时性\n",
    "#1 定点运算 比 浮点运算 快 2 +- 比*/ 快 3 换位>>比 */快"
   ]
  },
  {
   "cell_type": "code",
   "execution_count": null,
   "metadata": {},
   "outputs": [],
   "source": []
  }
 ],
 "metadata": {
  "kernelspec": {
   "display_name": "Python 3",
   "language": "python",
   "name": "python3"
  },
  "language_info": {
   "codemirror_mode": {
    "name": "ipython",
    "version": 3
   },
   "file_extension": ".py",
   "mimetype": "text/x-python",
   "name": "python",
   "nbconvert_exporter": "python",
   "pygments_lexer": "ipython3",
   "version": "3.7.4"
  }
 },
 "nbformat": 4,
 "nbformat_minor": 2
}
