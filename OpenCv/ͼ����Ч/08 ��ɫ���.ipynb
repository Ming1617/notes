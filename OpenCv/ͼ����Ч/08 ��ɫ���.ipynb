{
 "cells": [
  {
   "cell_type": "code",
   "execution_count": 5,
   "metadata": {},
   "outputs": [],
   "source": [
    "import numpy as np\n",
    "import cv2"
   ]
  },
  {
   "cell_type": "code",
   "execution_count": null,
   "metadata": {},
   "outputs": [],
   "source": [
    "#for 循环进行遍历 对每一个像素进行以下运算\n",
    "#如果你想让他看起来更红一点 newr=r*1.5（乘以一个大于1的数）\n",
    "#如果大于255 new 用255替换\n",
    "#"
   ]
  },
  {
   "cell_type": "code",
   "execution_count": 6,
   "metadata": {},
   "outputs": [
    {
     "ename": "SyntaxError",
     "evalue": "invalid syntax (<ipython-input-6-25bd0f1e95e4>, line 15)",
     "output_type": "error",
     "traceback": [
      "\u001b[1;36m  File \u001b[1;32m\"<ipython-input-6-25bd0f1e95e4>\"\u001b[1;36m, line \u001b[1;32m15\u001b[0m\n\u001b[1;33m    img[i,j]=(b,,newr)\u001b[0m\n\u001b[1;37m                ^\u001b[0m\n\u001b[1;31mSyntaxError\u001b[0m\u001b[1;31m:\u001b[0m invalid syntax\n"
     ]
    }
   ],
   "source": [
    "img=cv2.imread('image1.jpg',1)\n",
    "imgInfo = img.shape\n",
    "height = imgInfo[0]\n",
    "width = imgInfo[1]\n",
    "cv2.imshow('image',img)\n",
    "for i in range(height):\n",
    "    for j in range(width):\n",
    "        (b,g,r)=img[i,j]\n",
    "        newr=r*1.5\n",
    "        newg=g*1.5\n",
    "        if newr>255:\n",
    "            newr=255\n",
    "        if newg >255:\n",
    "            newg=255\n",
    "        img[i,j]=(b,,newr)\n",
    "cv2.imshow('images',img)\n",
    "cv2.waitKey(0)\n",
    "cv2.destroyAllWindows()"
   ]
  },
  {
   "cell_type": "code",
   "execution_count": 7,
   "metadata": {},
   "outputs": [],
   "source": [
    "def turn_colour(image,times_r,times_g,times_b):\n",
    "    img=cv2.imread(image,1)\n",
    "    imgInfo = img.shape\n",
    "    height = imgInfo[0]\n",
    "    width = imgInfo[1]\n",
    "    for i in range(height):\n",
    "        for j in range(width):\n",
    "            (b,g,r)=img[i,j]\n",
    "            newr=r*times_r\n",
    "            newg=g*times_g\n",
    "            newb=b*times_b\n",
    "            if newr>255:\n",
    "                newr=255\n",
    "            if newg >255:\n",
    "                newg=255\n",
    "            if newb >255:\n",
    "                newb=255\n",
    "            img[i,j]=(newb,newg,newr)\n",
    "    return img"
   ]
  },
  {
   "cell_type": "code",
   "execution_count": 14,
   "metadata": {},
   "outputs": [],
   "source": [
    "import numpy as np\n",
    "import cv2\n",
    "dst=turn_colour('image1.jpg',0.5,1,1)#红绿蓝\n",
    "cv2.imshow('images',dst)\n",
    "cv2.waitKey(0)\n",
    "cv2.destroyAllWindows()"
   ]
  },
  {
   "cell_type": "code",
   "execution_count": null,
   "metadata": {},
   "outputs": [],
   "source": []
  }
 ],
 "metadata": {
  "kernelspec": {
   "display_name": "Python 3",
   "language": "python",
   "name": "python3"
  },
  "language_info": {
   "codemirror_mode": {
    "name": "ipython",
    "version": 3
   },
   "file_extension": ".py",
   "mimetype": "text/x-python",
   "name": "python",
   "nbconvert_exporter": "python",
   "pygments_lexer": "ipython3",
   "version": "3.7.4"
  }
 },
 "nbformat": 4,
 "nbformat_minor": 2
}
